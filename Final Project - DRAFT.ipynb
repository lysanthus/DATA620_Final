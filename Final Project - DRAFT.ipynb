{
 "cells": [
  {
   "cell_type": "markdown",
   "metadata": {},
   "source": [
    "## Final Project: Politifact Analysis\n",
    "\n",
    "**GROUP: Forhad Akbar, Adam Douglas, and Soumya Ghosh**"
   ]
  },
  {
   "cell_type": "markdown",
   "metadata": {},
   "source": [
    "### Introduction\n",
    "The website www.politifact.com is a non-partisan fact-checking website that dedicates itself to countering false and misleading political information $^1$. Politifact uses human fact-checkers to research statements made by politicians or viral media that states a political viewpoint. The fact-checker (also known as a \"curtor\") assigns a score for the item: True, Mostly True, Half True, Mostly False, False, and the dreaded \"Pants On Fire\" for the biggest falsehoods. The specifics of their research are also included to provide detail and sources related to their scoring."
   ]
  },
  {
   "cell_type": "markdown",
   "metadata": {},
   "source": [
    "### The Data\n",
    "The data was sourced from the Kaggle web site $^2$ and contains 19,421 records. The items date from  to ."
   ]
  },
  {
   "cell_type": "markdown",
   "metadata": {},
   "source": [
    "### Goal\n",
    "The goal of this analysis is to use NLP techniques on the curator's review to categorize the topics of the record (e.g. budget, coronavirus, election, etc.). Once topics have been assigned to each record, a network analysis of sources will be done to analyze patterns of false information by topic (e.g. politician X frequently puts out more misleading/false information on topic Y than any other)."
   ]
  },
  {
   "cell_type": "markdown",
   "metadata": {},
   "source": [
    "### Analysis\n",
    "#### Data Loading and Cleansing"
   ]
  },
  {
   "cell_type": "markdown",
   "metadata": {},
   "source": [
    "First we will load the data from the CSV file and then prepare the data for analysis."
   ]
  },
  {
   "cell_type": "code",
   "execution_count": 127,
   "metadata": {},
   "outputs": [],
   "source": [
    "import warnings\n",
    "warnings.filterwarnings('ignore')\n",
    "\n",
    "import pandas as pd\n",
    "from matplotlib import pyplot as plt\n",
    "import seaborn as sns\n",
    "import nltk\n",
    "import gensim\n",
    "import gensim.corpora as corpora\n",
    "import spacy"
   ]
  },
  {
   "cell_type": "code",
   "execution_count": 2,
   "metadata": {},
   "outputs": [
    {
     "data": {
      "text/html": [
       "<div>\n",
       "<style scoped>\n",
       "    .dataframe tbody tr th:only-of-type {\n",
       "        vertical-align: middle;\n",
       "    }\n",
       "\n",
       "    .dataframe tbody tr th {\n",
       "        vertical-align: top;\n",
       "    }\n",
       "\n",
       "    .dataframe thead th {\n",
       "        text-align: right;\n",
       "    }\n",
       "</style>\n",
       "<table border=\"1\" class=\"dataframe\">\n",
       "  <thead>\n",
       "    <tr style=\"text-align: right;\">\n",
       "      <th></th>\n",
       "      <th>sources</th>\n",
       "      <th>sources_dates</th>\n",
       "      <th>sources_post_location</th>\n",
       "      <th>sources_quote</th>\n",
       "      <th>curator_name</th>\n",
       "      <th>curated_date</th>\n",
       "      <th>fact</th>\n",
       "      <th>sources_url</th>\n",
       "      <th>curators_article_title</th>\n",
       "      <th>curator_complete_article</th>\n",
       "    </tr>\n",
       "  </thead>\n",
       "  <tbody>\n",
       "    <tr>\n",
       "      <th>0</th>\n",
       "      <td>Viral image</td>\n",
       "      <td>2021-03-20 00:00:00</td>\n",
       "      <td>a Facebook post:\\n</td>\n",
       "      <td>\\nSays Disneyland is enforcing a “no scream” p...</td>\n",
       "      <td>Ciara O'Rourke</td>\n",
       "      <td>2021-03-22 00:00:00</td>\n",
       "      <td>false</td>\n",
       "      <td>https://www.politifact.com/factchecks/2021/mar...</td>\n",
       "      <td>\\nNo, Disneyland isn’t enforcing a ‘no scream’...</td>\n",
       "      <td>\\nBack in July a Japanese amusement park drew ...</td>\n",
       "    </tr>\n",
       "    <tr>\n",
       "      <th>1</th>\n",
       "      <td>Viral image</td>\n",
       "      <td>2021-01-24 00:00:00</td>\n",
       "      <td>a Facebook post:\\n</td>\n",
       "      <td>\\nVideo “proves 100% that President Joe Biden ...</td>\n",
       "      <td>Ciara O'Rourke</td>\n",
       "      <td>2021-03-22 00:00:00</td>\n",
       "      <td>pants-fire</td>\n",
       "      <td>https://www.politifact.com/factchecks/2021/mar...</td>\n",
       "      <td>\\nNo, this video doesn’t prove Biden isn’t hum...</td>\n",
       "      <td>\\nA recent Facebook post uses a video clip of ...</td>\n",
       "    </tr>\n",
       "    <tr>\n",
       "      <th>2</th>\n",
       "      <td>Terry McAuliffe</td>\n",
       "      <td>2021-03-10 00:00:00</td>\n",
       "      <td>a speech:\\n</td>\n",
       "      <td>\\n“If you look at the average teacher pay comp...</td>\n",
       "      <td>Warren Fiske</td>\n",
       "      <td>2021-03-22 00:00:00</td>\n",
       "      <td>true</td>\n",
       "      <td>https://www.politifact.com/factchecks/2021/mar...</td>\n",
       "      <td>\\nVa. teachers pay ranks last in U.S. compared...</td>\n",
       "      <td>\\n\"If you look at the average teacher pay comp...</td>\n",
       "    </tr>\n",
       "    <tr>\n",
       "      <th>3</th>\n",
       "      <td>TikTok posts</td>\n",
       "      <td>2021-03-17 00:00:00</td>\n",
       "      <td>a video caption:\\n</td>\n",
       "      <td>\\n“You will need a WHO Yellow Vaccination Pass...</td>\n",
       "      <td>Daniel Funke</td>\n",
       "      <td>2021-03-22 00:00:00</td>\n",
       "      <td>barely-true</td>\n",
       "      <td>https://www.politifact.com/factchecks/2021/mar...</td>\n",
       "      <td>\\nNo, you don’t need a WHO vaccination certifi...</td>\n",
       "      <td>\\nA popular TikTok video said that if you want...</td>\n",
       "    </tr>\n",
       "    <tr>\n",
       "      <th>4</th>\n",
       "      <td>Mike Bost</td>\n",
       "      <td>2021-03-15 00:00:00</td>\n",
       "      <td>a radio</td>\n",
       "      <td>\\nThe American Rescue Plan Act “does not” incl...</td>\n",
       "      <td>Kiannah Sepeda-Miller</td>\n",
       "      <td>2021-03-21 00:00:00</td>\n",
       "      <td>half-true</td>\n",
       "      <td>https://www.politifact.com/factchecks/2021/mar...</td>\n",
       "      <td>\\nDoes the American Rescue Plan limit how stat...</td>\n",
       "      <td>\\nAfter failing to stop the $1.9 trillion COVI...</td>\n",
       "    </tr>\n",
       "  </tbody>\n",
       "</table>\n",
       "</div>"
      ],
      "text/plain": [
       "           sources        sources_dates sources_post_location  \\\n",
       "0      Viral image  2021-03-20 00:00:00    a Facebook post:\\n   \n",
       "1      Viral image  2021-01-24 00:00:00    a Facebook post:\\n   \n",
       "2  Terry McAuliffe  2021-03-10 00:00:00           a speech:\\n   \n",
       "3     TikTok posts  2021-03-17 00:00:00    a video caption:\\n   \n",
       "4        Mike Bost  2021-03-15 00:00:00              a radio    \n",
       "\n",
       "                                       sources_quote            curator_name  \\\n",
       "0  \\nSays Disneyland is enforcing a “no scream” p...         Ciara O'Rourke    \n",
       "1  \\nVideo “proves 100% that President Joe Biden ...         Ciara O'Rourke    \n",
       "2  \\n“If you look at the average teacher pay comp...           Warren Fiske    \n",
       "3  \\n“You will need a WHO Yellow Vaccination Pass...           Daniel Funke    \n",
       "4  \\nThe American Rescue Plan Act “does not” incl...  Kiannah Sepeda-Miller    \n",
       "\n",
       "          curated_date         fact  \\\n",
       "0  2021-03-22 00:00:00        false   \n",
       "1  2021-03-22 00:00:00   pants-fire   \n",
       "2  2021-03-22 00:00:00         true   \n",
       "3  2021-03-22 00:00:00  barely-true   \n",
       "4  2021-03-21 00:00:00    half-true   \n",
       "\n",
       "                                         sources_url  \\\n",
       "0  https://www.politifact.com/factchecks/2021/mar...   \n",
       "1  https://www.politifact.com/factchecks/2021/mar...   \n",
       "2  https://www.politifact.com/factchecks/2021/mar...   \n",
       "3  https://www.politifact.com/factchecks/2021/mar...   \n",
       "4  https://www.politifact.com/factchecks/2021/mar...   \n",
       "\n",
       "                              curators_article_title  \\\n",
       "0  \\nNo, Disneyland isn’t enforcing a ‘no scream’...   \n",
       "1  \\nNo, this video doesn’t prove Biden isn’t hum...   \n",
       "2  \\nVa. teachers pay ranks last in U.S. compared...   \n",
       "3  \\nNo, you don’t need a WHO vaccination certifi...   \n",
       "4  \\nDoes the American Rescue Plan limit how stat...   \n",
       "\n",
       "                            curator_complete_article  \n",
       "0  \\nBack in July a Japanese amusement park drew ...  \n",
       "1  \\nA recent Facebook post uses a video clip of ...  \n",
       "2  \\n\"If you look at the average teacher pay comp...  \n",
       "3  \\nA popular TikTok video said that if you want...  \n",
       "4  \\nAfter failing to stop the $1.9 trillion COVI...  "
      ]
     },
     "execution_count": 2,
     "metadata": {},
     "output_type": "execute_result"
    }
   ],
   "source": [
    "pol = pd.read_csv(\"politifact.csv\", index_col = 0, usecols = range(0,11))\n",
    "pol.head()"
   ]
  },
  {
   "cell_type": "code",
   "execution_count": 3,
   "metadata": {
    "scrolled": true
   },
   "outputs": [
    {
     "data": {
      "text/html": [
       "<div>\n",
       "<style scoped>\n",
       "    .dataframe tbody tr th:only-of-type {\n",
       "        vertical-align: middle;\n",
       "    }\n",
       "\n",
       "    .dataframe tbody tr th {\n",
       "        vertical-align: top;\n",
       "    }\n",
       "\n",
       "    .dataframe thead th {\n",
       "        text-align: right;\n",
       "    }\n",
       "</style>\n",
       "<table border=\"1\" class=\"dataframe\">\n",
       "  <thead>\n",
       "    <tr style=\"text-align: right;\">\n",
       "      <th></th>\n",
       "      <th>sources</th>\n",
       "      <th>sources_dates</th>\n",
       "      <th>sources_post_location</th>\n",
       "      <th>sources_quote</th>\n",
       "      <th>curator_name</th>\n",
       "      <th>curated_date</th>\n",
       "      <th>fact</th>\n",
       "      <th>sources_url</th>\n",
       "      <th>curators_article_title</th>\n",
       "      <th>curator_complete_article</th>\n",
       "    </tr>\n",
       "  </thead>\n",
       "  <tbody>\n",
       "    <tr>\n",
       "      <th>0</th>\n",
       "      <td>Viral image</td>\n",
       "      <td>2021-03-20 00:00:00</td>\n",
       "      <td>a Facebook post:</td>\n",
       "      <td>Says Disneyland is enforcing a “no scream” po...</td>\n",
       "      <td>Ciara O'Rourke</td>\n",
       "      <td>2021-03-22 00:00:00</td>\n",
       "      <td>false</td>\n",
       "      <td>https://www.politifact.com/factchecks/2021/mar...</td>\n",
       "      <td>No, Disneyland isn’t enforcing a ‘no scream’ ...</td>\n",
       "      <td>Back in July a Japanese amusement park drew a...</td>\n",
       "    </tr>\n",
       "    <tr>\n",
       "      <th>1</th>\n",
       "      <td>Viral image</td>\n",
       "      <td>2021-01-24 00:00:00</td>\n",
       "      <td>a Facebook post:</td>\n",
       "      <td>Video “proves 100% that President Joe Biden i...</td>\n",
       "      <td>Ciara O'Rourke</td>\n",
       "      <td>2021-03-22 00:00:00</td>\n",
       "      <td>pants-fire</td>\n",
       "      <td>https://www.politifact.com/factchecks/2021/mar...</td>\n",
       "      <td>No, this video doesn’t prove Biden isn’t human</td>\n",
       "      <td>A recent Facebook post uses a video clip of a...</td>\n",
       "    </tr>\n",
       "    <tr>\n",
       "      <th>2</th>\n",
       "      <td>Terry McAuliffe</td>\n",
       "      <td>2021-03-10 00:00:00</td>\n",
       "      <td>a speech:</td>\n",
       "      <td>“If you look at the average teacher pay compa...</td>\n",
       "      <td>Warren Fiske</td>\n",
       "      <td>2021-03-22 00:00:00</td>\n",
       "      <td>true</td>\n",
       "      <td>https://www.politifact.com/factchecks/2021/mar...</td>\n",
       "      <td>Va. teachers pay ranks last in U.S. compared ...</td>\n",
       "      <td>\"If you look at the average teacher pay compa...</td>\n",
       "    </tr>\n",
       "    <tr>\n",
       "      <th>3</th>\n",
       "      <td>TikTok posts</td>\n",
       "      <td>2021-03-17 00:00:00</td>\n",
       "      <td>a video caption:</td>\n",
       "      <td>“You will need a WHO Yellow Vaccination Passp...</td>\n",
       "      <td>Daniel Funke</td>\n",
       "      <td>2021-03-22 00:00:00</td>\n",
       "      <td>barely-true</td>\n",
       "      <td>https://www.politifact.com/factchecks/2021/mar...</td>\n",
       "      <td>No, you don’t need a WHO vaccination certific...</td>\n",
       "      <td>A popular TikTok video said that if you want ...</td>\n",
       "    </tr>\n",
       "    <tr>\n",
       "      <th>4</th>\n",
       "      <td>Mike Bost</td>\n",
       "      <td>2021-03-15 00:00:00</td>\n",
       "      <td>a radio</td>\n",
       "      <td>The American Rescue Plan Act “does not” inclu...</td>\n",
       "      <td>Kiannah Sepeda-Miller</td>\n",
       "      <td>2021-03-21 00:00:00</td>\n",
       "      <td>half-true</td>\n",
       "      <td>https://www.politifact.com/factchecks/2021/mar...</td>\n",
       "      <td>Does the American Rescue Plan limit how state...</td>\n",
       "      <td>After failing to stop the $1.9 trillion COVID...</td>\n",
       "    </tr>\n",
       "  </tbody>\n",
       "</table>\n",
       "</div>"
      ],
      "text/plain": [
       "           sources        sources_dates sources_post_location  \\\n",
       "0      Viral image  2021-03-20 00:00:00     a Facebook post:    \n",
       "1      Viral image  2021-01-24 00:00:00     a Facebook post:    \n",
       "2  Terry McAuliffe  2021-03-10 00:00:00            a speech:    \n",
       "3     TikTok posts  2021-03-17 00:00:00     a video caption:    \n",
       "4        Mike Bost  2021-03-15 00:00:00              a radio    \n",
       "\n",
       "                                       sources_quote            curator_name  \\\n",
       "0   Says Disneyland is enforcing a “no scream” po...         Ciara O'Rourke    \n",
       "1   Video “proves 100% that President Joe Biden i...         Ciara O'Rourke    \n",
       "2   “If you look at the average teacher pay compa...           Warren Fiske    \n",
       "3   “You will need a WHO Yellow Vaccination Passp...           Daniel Funke    \n",
       "4   The American Rescue Plan Act “does not” inclu...  Kiannah Sepeda-Miller    \n",
       "\n",
       "          curated_date         fact  \\\n",
       "0  2021-03-22 00:00:00        false   \n",
       "1  2021-03-22 00:00:00   pants-fire   \n",
       "2  2021-03-22 00:00:00         true   \n",
       "3  2021-03-22 00:00:00  barely-true   \n",
       "4  2021-03-21 00:00:00    half-true   \n",
       "\n",
       "                                         sources_url  \\\n",
       "0  https://www.politifact.com/factchecks/2021/mar...   \n",
       "1  https://www.politifact.com/factchecks/2021/mar...   \n",
       "2  https://www.politifact.com/factchecks/2021/mar...   \n",
       "3  https://www.politifact.com/factchecks/2021/mar...   \n",
       "4  https://www.politifact.com/factchecks/2021/mar...   \n",
       "\n",
       "                              curators_article_title  \\\n",
       "0   No, Disneyland isn’t enforcing a ‘no scream’ ...   \n",
       "1    No, this video doesn’t prove Biden isn’t human    \n",
       "2   Va. teachers pay ranks last in U.S. compared ...   \n",
       "3   No, you don’t need a WHO vaccination certific...   \n",
       "4   Does the American Rescue Plan limit how state...   \n",
       "\n",
       "                            curator_complete_article  \n",
       "0   Back in July a Japanese amusement park drew a...  \n",
       "1   A recent Facebook post uses a video clip of a...  \n",
       "2   \"If you look at the average teacher pay compa...  \n",
       "3   A popular TikTok video said that if you want ...  \n",
       "4   After failing to stop the $1.9 trillion COVID...  "
      ]
     },
     "execution_count": 3,
     "metadata": {},
     "output_type": "execute_result"
    }
   ],
   "source": [
    "# Remove newlines\n",
    "pol[\"sources_post_location\"] = pol[\"sources_post_location\"].str.replace(\"\\n\",\" \", regex = False)\n",
    "pol[\"sources_quote\"] = pol[\"sources_quote\"].str.replace(\"\\n\",\" \", regex = False)\n",
    "pol[\"curators_article_title\"] = pol[\"curators_article_title\"].str.replace(\"\\n\",\" \", regex = False)\n",
    "pol[\"curator_complete_article\"] = pol[\"curator_complete_article\"].str.replace(\"\\n\",\" \", regex = False)\n",
    "\n",
    "pol.head()"
   ]
  },
  {
   "cell_type": "code",
   "execution_count": 4,
   "metadata": {
    "scrolled": true
   },
   "outputs": [
    {
     "name": "stdout",
     "output_type": "stream",
     "text": [
      "<class 'pandas.core.frame.DataFrame'>\n",
      "Int64Index: 19422 entries, 0 to 19421\n",
      "Data columns (total 10 columns):\n",
      " #   Column                    Non-Null Count  Dtype \n",
      "---  ------                    --------------  ----- \n",
      " 0   sources                   19422 non-null  object\n",
      " 1   sources_dates             19099 non-null  object\n",
      " 2   sources_post_location     19261 non-null  object\n",
      " 3   sources_quote             19422 non-null  object\n",
      " 4   curator_name              19400 non-null  object\n",
      " 5   curated_date              19333 non-null  object\n",
      " 6   fact                      19422 non-null  object\n",
      " 7   sources_url               19422 non-null  object\n",
      " 8   curators_article_title    19417 non-null  object\n",
      " 9   curator_complete_article  19376 non-null  object\n",
      "dtypes: object(10)\n",
      "memory usage: 1.6+ MB\n"
     ]
    }
   ],
   "source": [
    "pol.info()"
   ]
  },
  {
   "cell_type": "code",
   "execution_count": 5,
   "metadata": {
    "scrolled": true
   },
   "outputs": [
    {
     "data": {
      "text/html": [
       "<div>\n",
       "<style scoped>\n",
       "    .dataframe tbody tr th:only-of-type {\n",
       "        vertical-align: middle;\n",
       "    }\n",
       "\n",
       "    .dataframe tbody tr th {\n",
       "        vertical-align: top;\n",
       "    }\n",
       "\n",
       "    .dataframe thead th {\n",
       "        text-align: right;\n",
       "    }\n",
       "</style>\n",
       "<table border=\"1\" class=\"dataframe\">\n",
       "  <thead>\n",
       "    <tr style=\"text-align: right;\">\n",
       "      <th></th>\n",
       "      <th>sources</th>\n",
       "      <th>sources_dates</th>\n",
       "      <th>sources_post_location</th>\n",
       "      <th>sources_quote</th>\n",
       "      <th>curator_name</th>\n",
       "      <th>curated_date</th>\n",
       "      <th>fact</th>\n",
       "      <th>sources_url</th>\n",
       "      <th>curators_article_title</th>\n",
       "      <th>curator_complete_article</th>\n",
       "    </tr>\n",
       "  </thead>\n",
       "  <tbody>\n",
       "    <tr>\n",
       "      <th>count</th>\n",
       "      <td>19422</td>\n",
       "      <td>19099</td>\n",
       "      <td>19261</td>\n",
       "      <td>19422</td>\n",
       "      <td>19400</td>\n",
       "      <td>19333</td>\n",
       "      <td>19422</td>\n",
       "      <td>19422</td>\n",
       "      <td>19417</td>\n",
       "      <td>19376</td>\n",
       "    </tr>\n",
       "    <tr>\n",
       "      <th>unique</th>\n",
       "      <td>4395</td>\n",
       "      <td>4378</td>\n",
       "      <td>4437</td>\n",
       "      <td>19396</td>\n",
       "      <td>521</td>\n",
       "      <td>3970</td>\n",
       "      <td>9</td>\n",
       "      <td>19421</td>\n",
       "      <td>19395</td>\n",
       "      <td>19353</td>\n",
       "    </tr>\n",
       "    <tr>\n",
       "      <th>top</th>\n",
       "      <td>Facebook posts</td>\n",
       "      <td>2020-11-04 00:00:00</td>\n",
       "      <td>an</td>\n",
       "      <td>On changing the rules for filibusters on pres...</td>\n",
       "      <td>Louis Jacobson</td>\n",
       "      <td>2016-07-21 00:00:00</td>\n",
       "      <td>false</td>\n",
       "      <td>https://www.politifact.com/factchecks/2011/oct...</td>\n",
       "      <td>Milwaukee County executive candidate Chris Ab...</td>\n",
       "      <td>A doppelganger is a ghostly double of a livi...</td>\n",
       "    </tr>\n",
       "    <tr>\n",
       "      <th>freq</th>\n",
       "      <td>1250</td>\n",
       "      <td>30</td>\n",
       "      <td>1953</td>\n",
       "      <td>3</td>\n",
       "      <td>1773</td>\n",
       "      <td>19</td>\n",
       "      <td>4556</td>\n",
       "      <td>2</td>\n",
       "      <td>4</td>\n",
       "      <td>4</td>\n",
       "    </tr>\n",
       "  </tbody>\n",
       "</table>\n",
       "</div>"
      ],
      "text/plain": [
       "               sources        sources_dates sources_post_location  \\\n",
       "count            19422                19099                 19261   \n",
       "unique            4395                 4378                  4437   \n",
       "top     Facebook posts  2020-11-04 00:00:00                   an    \n",
       "freq              1250                   30                  1953   \n",
       "\n",
       "                                            sources_quote     curator_name  \\\n",
       "count                                               19422            19400   \n",
       "unique                                              19396              521   \n",
       "top      On changing the rules for filibusters on pres...  Louis Jacobson    \n",
       "freq                                                    3             1773   \n",
       "\n",
       "               curated_date   fact  \\\n",
       "count                 19333  19422   \n",
       "unique                 3970      9   \n",
       "top     2016-07-21 00:00:00  false   \n",
       "freq                     19   4556   \n",
       "\n",
       "                                              sources_url  \\\n",
       "count                                               19422   \n",
       "unique                                              19421   \n",
       "top     https://www.politifact.com/factchecks/2011/oct...   \n",
       "freq                                                    2   \n",
       "\n",
       "                                   curators_article_title  \\\n",
       "count                                               19417   \n",
       "unique                                              19395   \n",
       "top      Milwaukee County executive candidate Chris Ab...   \n",
       "freq                                                    4   \n",
       "\n",
       "                                 curator_complete_article  \n",
       "count                                               19376  \n",
       "unique                                              19353  \n",
       "top       A doppelganger is a ghostly double of a livi...  \n",
       "freq                                                    4  "
      ]
     },
     "execution_count": 5,
     "metadata": {},
     "output_type": "execute_result"
    }
   ],
   "source": [
    "pol.describe()"
   ]
  },
  {
   "cell_type": "markdown",
   "metadata": {},
   "source": [
    "## Topic Modeling"
   ]
  },
  {
   "cell_type": "markdown",
   "metadata": {},
   "source": [
    "### Check the most frequent words in the data"
   ]
  },
  {
   "cell_type": "code",
   "execution_count": 6,
   "metadata": {},
   "outputs": [],
   "source": [
    "# function to plot most frequent terms\n",
    "def freq_words(x, terms = 30):\n",
    "  all_words = ' '.join([str(text) for text in x])\n",
    "  all_words = all_words.split()\n",
    "\n",
    "  fdist = nltk.FreqDist(all_words)\n",
    "  words_df = pd.DataFrame({'word':list(fdist.keys()), 'count':list(fdist.values())})\n",
    "\n",
    "  # selecting top 20 most frequent words\n",
    "  d = words_df.nlargest(columns=\"count\", n = terms) \n",
    "  plt.figure(figsize=(20,5))\n",
    "  ax = sns.barplot(data=d, x= \"word\", y = \"count\")\n",
    "  ax.set(ylabel = 'Count')\n",
    "  plt.show()"
   ]
  },
  {
   "cell_type": "code",
   "execution_count": 7,
   "metadata": {},
   "outputs": [
    {
     "data": {
      "image/png": "[encoded data removed]",
      "text/plain": [
       "<Figure size 1440x360 with 1 Axes>"
      ]
     },
     "metadata": {
      "needs_background": "light"
     },
     "output_type": "display_data"
    }
   ],
   "source": [
    "freq_words(pol['curator_complete_article'])"
   ]
  },
  {
   "cell_type": "markdown",
   "metadata": {},
   "source": [
    "Let’s try to remove the stopwords and short words (<2 letters) from the articles"
   ]
  },
  {
   "cell_type": "code",
   "execution_count": 8,
   "metadata": {},
   "outputs": [
    {
     "name": "stderr",
     "output_type": "stream",
     "text": [
      "<ipython-input-8-18aa2433ac75>:2: FutureWarning: The default value of regex will change from True to False in a future version.\n",
      "  pol['curator_complete_article'] = pol['curator_complete_article'].str.replace(\"[^a-zA-Z#]\", \" \")\n"
     ]
    }
   ],
   "source": [
    "# remove unwanted characters, numbers and symbols\n",
    "pol['curator_complete_article'] = pol['curator_complete_article'].str.replace(\"[^a-zA-Z#]\", \" \")"
   ]
  },
  {
   "cell_type": "code",
   "execution_count": 9,
   "metadata": {},
   "outputs": [
    {
     "name": "stderr",
     "output_type": "stream",
     "text": [
      "[nltk_data] Downloading package stopwords to\n",
      "[nltk_data]     /Users/adamdouglas/nltk_data...\n",
      "[nltk_data]   Package stopwords is already up-to-date!\n"
     ]
    },
    {
     "data": {
      "text/plain": [
       "True"
      ]
     },
     "execution_count": 9,
     "metadata": {},
     "output_type": "execute_result"
    }
   ],
   "source": [
    "nltk.download('stopwords')"
   ]
  },
  {
   "cell_type": "code",
   "execution_count": 10,
   "metadata": {},
   "outputs": [],
   "source": [
    "from nltk.corpus import stopwords\n",
    "stop_words = stopwords.words('english')"
   ]
  },
  {
   "cell_type": "code",
   "execution_count": 11,
   "metadata": {},
   "outputs": [
    {
     "name": "stdout",
     "output_type": "stream",
     "text": [
      "['i', 'me', 'my', 'myself', 'we', 'our', 'ours', 'ourselves', 'you', \"you're\", \"you've\", \"you'll\", \"you'd\", 'your', 'yours', 'yourself', 'yourselves', 'he', 'him', 'his', 'himself', 'she', \"she's\", 'her', 'hers', 'herself', 'it', \"it's\", 'its', 'itself', 'they', 'them', 'their', 'theirs', 'themselves', 'what', 'which', 'who', 'whom', 'this', 'that', \"that'll\", 'these', 'those', 'am', 'is', 'are', 'was', 'were', 'be', 'been', 'being', 'have', 'has', 'had', 'having', 'do', 'does', 'did', 'doing', 'a', 'an', 'the', 'and', 'but', 'if', 'or', 'because', 'as', 'until', 'while', 'of', 'at', 'by', 'for', 'with', 'about', 'against', 'between', 'into', 'through', 'during', 'before', 'after', 'above', 'below', 'to', 'from', 'up', 'down', 'in', 'out', 'on', 'off', 'over', 'under', 'again', 'further', 'then', 'once', 'here', 'there', 'when', 'where', 'why', 'how', 'all', 'any', 'both', 'each', 'few', 'more', 'most', 'other', 'some', 'such', 'no', 'nor', 'not', 'only', 'own', 'same', 'so', 'than', 'too', 'very', 's', 't', 'can', 'will', 'just', 'don', \"don't\", 'should', \"should've\", 'now', 'd', 'll', 'm', 'o', 're', 've', 'y', 'ain', 'aren', \"aren't\", 'couldn', \"couldn't\", 'didn', \"didn't\", 'doesn', \"doesn't\", 'hadn', \"hadn't\", 'hasn', \"hasn't\", 'haven', \"haven't\", 'isn', \"isn't\", 'ma', 'mightn', \"mightn't\", 'mustn', \"mustn't\", 'needn', \"needn't\", 'shan', \"shan't\", 'shouldn', \"shouldn't\", 'wasn', \"wasn't\", 'weren', \"weren't\", 'won', \"won't\", 'wouldn', \"wouldn't\"]\n"
     ]
    }
   ],
   "source": [
    "print(stop_words)"
   ]
  },
  {
   "cell_type": "code",
   "execution_count": 12,
   "metadata": {},
   "outputs": [],
   "source": [
    "# function to remove stopwords\n",
    "def remove_stopwords(rev):\n",
    "    rev_new = \" \".join([i for i in rev if i not in stop_words])\n",
    "    return rev_new\n",
    "\n",
    "# remove short words (length < 3)\n",
    "pol['curator_complete_article']= pol['curator_complete_article'].apply(lambda x: ' '.join([w for w in str(x).split() if len(w)>2]))\n",
    "\n",
    "# remove stopwords from the text\n",
    "pols = [remove_stopwords(r.lower().split()) for r in pol['curator_complete_article']]\n",
    "\n",
    "# make entire text lowercase\n",
    "pols = [r.lower() for r in pols]"
   ]
  },
  {
   "cell_type": "markdown",
   "metadata": {},
   "source": [
    "Let’s again plot the most frequent words and see if the more significant words have come out."
   ]
  },
  {
   "cell_type": "code",
   "execution_count": 13,
   "metadata": {},
   "outputs": [
    {
     "data": {
      "image/png": "[encoded data removed]",
      "text/plain": [
       "<Figure size 1440x360 with 1 Axes>"
      ]
     },
     "metadata": {
      "needs_background": "light"
     },
     "output_type": "display_data"
    }
   ],
   "source": [
    "freq_words(pols, 35)"
   ]
  },
  {
   "cell_type": "markdown",
   "metadata": {},
   "source": [
    "To further remove noise from the text we can use lemmatization from the spaCy library. It reduces any given word to its base form thereby reducing multiple forms of a word to a single word."
   ]
  },
  {
   "cell_type": "code",
   "execution_count": 14,
   "metadata": {},
   "outputs": [],
   "source": [
    "nlp = spacy.load('en_core_web_sm', disable=['parser', 'ner'])\n",
    "\n",
    "def lemmatization(texts, tags=['NOUN', 'ADJ']): # filter noun and adjective\n",
    "       output = []\n",
    "       for sent in texts:\n",
    "             doc = nlp(\" \".join(sent)) \n",
    "             output.append([token.lemma_ for token in doc if token.pos_ in tags])\n",
    "       return output"
   ]
  },
  {
   "cell_type": "code",
   "execution_count": 15,
   "metadata": {},
   "outputs": [
    {
     "name": "stdout",
     "output_type": "stream",
     "text": [
      "['recent', 'facebook', 'post', 'uses', 'video', 'clip', 'debate', 'president', 'donald', 'trump', 'joe', 'biden', 'raise', 'suspicions', 'something', 'visible', 'around', 'biden', 'wrist', 'previous', 'social', 'media', 'posts', 'sept', 'debate', 'wrongly', 'said', 'biden', 'wearing', 'wire', 'aid', 'debate', 'footage', 'cast', 'evidence', 'biden', 'human', 'proves', 'president', 'joe', 'biden', 'human', 'description', 'video', 'says', 'someone', 'narrating', 'clip', 'claims', 'something', 'looks', 'like', 'live', 'little', 'serpents', 'emerges', 'biden', 'suit', 'jacket', 'alive', 'narrator', 'says', 'kind', 'looks', 'like', 'shaking', 'head', 'little', 'bit', 'camera', 'pans', 'biden', 'narrator', 'says', 'human', 'people', 'post', 'flagged', 'part', 'facebook', 'efforts', 'combat', 'false', 'news', 'misinformation', 'news', 'feed', 'read', 'partnership', 'facebook', 'clip', 'used', 'facebook', 'video', 'comes', 'mark', 'span', 'video', 'debate', 'debate', 'moderator', 'chris', 'wallace', 'asks', 'biden', 'reopening', 'economy', 'schools', 'something', 'visible', 'biden', 'left', 'wrist', 'slips', 'back', 'shirt', 'sleeve', 'appears', 'rosary', 'beads', 'biden', 'wears', 'remember', 'late', 'son', 'beau', 'biden', 'taken', 'rosay', 'beau', 'wearing', 'passed', 'since', 'biden', 'said', 'interview', 'connection', 'biden', 'campaign', 'told', 'associated', 'press', 'september', 'debate', 'presidential', 'candidate', 'wearing', 'rosary', 'spokesperson', 'campaign', 'also', 'told', 'agence', 'france', 'presse', 'time', 'facebook', 'post', 'calls', 'serpent', 'serpents', 'beau', 'biden', 'rosary', 'rate', 'claim', 'pants', 'fire']\n"
     ]
    }
   ],
   "source": [
    "tokenized_article = pd.Series(pols).apply(lambda x: x.split())\n",
    "print(tokenized_article[1])"
   ]
  },
  {
   "cell_type": "code",
   "execution_count": 16,
   "metadata": {},
   "outputs": [],
   "source": [
    "articles_2 = lemmatization(tokenized_article)"
   ]
  },
  {
   "cell_type": "code",
   "execution_count": 17,
   "metadata": {},
   "outputs": [
    {
     "data": {
      "image/png": "[encoded data removed]",
      "text/plain": [
       "<Figure size 1440x360 with 1 Axes>"
      ]
     },
     "metadata": {
      "needs_background": "light"
     },
     "output_type": "display_data"
    }
   ],
   "source": [
    "articles_3 = []\n",
    "for i in range(len(articles_2)):\n",
    "    articles_3.append(' '.join(articles_2[i]))\n",
    "\n",
    "pol['curator_complete_article'] = articles_3\n",
    "\n",
    "freq_words(pol['curator_complete_article'], 35)"
   ]
  },
  {
   "cell_type": "markdown",
   "metadata": {},
   "source": [
    "### LDA model\n",
    "We will start by creating the term dictionary of our corpus, where every unique term is assigned an index"
   ]
  },
  {
   "cell_type": "code",
   "execution_count": 18,
   "metadata": {},
   "outputs": [],
   "source": [
    "dictionary = corpora.Dictionary(articles_2)"
   ]
  },
  {
   "cell_type": "markdown",
   "metadata": {},
   "source": [
    "Then we will convert the list of articles (articles_2) into a Document Term Matrix using the dictionary prepared above."
   ]
  },
  {
   "cell_type": "code",
   "execution_count": 19,
   "metadata": {},
   "outputs": [],
   "source": [
    "doc_term_matrix = [dictionary.doc2bow(art) for art in articles_2]"
   ]
  },
  {
   "cell_type": "markdown",
   "metadata": {},
   "source": [
    "It takes a while to run following code chunk"
   ]
  },
  {
   "cell_type": "code",
   "execution_count": 20,
   "metadata": {},
   "outputs": [],
   "source": [
    "# Creating the object for LDA model using gensim library\n",
    "LDA = gensim.models.ldamodel.LdaModel\n",
    "\n",
    "# Build LDA model\n",
    "lda_model = LDA(corpus=doc_term_matrix, id2word=dictionary, num_topics=7, random_state=100,\n",
    "                chunksize=1000, passes=50)"
   ]
  },
  {
   "cell_type": "code",
   "execution_count": 21,
   "metadata": {},
   "outputs": [
    {
     "data": {
      "text/plain": [
       "[(0,\n",
       "  '0.023*\"obama\" + 0.016*\"campaign\" + 0.014*\"president\" + 0.012*\"republican\" + 0.010*\"mccain\" + 0.009*\"time\" + 0.009*\"clinton\" + 0.008*\"trump\" + 0.008*\"house\" + 0.007*\"romney\"'),\n",
       " (1,\n",
       "  '0.031*\"state\" + 0.022*\"law\" + 0.012*\"county\" + 0.010*\"court\" + 0.010*\"voter\" + 0.009*\"gun\" + 0.008*\"election\" + 0.008*\"florida\" + 0.008*\"case\" + 0.007*\"district\"'),\n",
       " (2,\n",
       "  '0.015*\"state\" + 0.014*\"country\" + 0.014*\"united\" + 0.014*\"obama\" + 0.009*\"war\" + 0.009*\"border\" + 0.009*\"immigration\" + 0.009*\"immigrant\" + 0.009*\"military\" + 0.008*\"american\"'),\n",
       " (3,\n",
       "  '0.012*\"city\" + 0.010*\"state\" + 0.010*\"oil\" + 0.009*\"company\" + 0.009*\"energy\" + 0.008*\"year\" + 0.008*\"project\" + 0.007*\"new\" + 0.007*\"gas\" + 0.006*\"price\"'),\n",
       " (4,\n",
       "  '0.016*\"abortion\" + 0.014*\"woman\" + 0.011*\"post\" + 0.011*\"news\" + 0.010*\"people\" + 0.010*\"child\" + 0.009*\"death\" + 0.007*\"facebook\" + 0.007*\"life\" + 0.007*\"story\"'),\n",
       " (5,\n",
       "  '0.027*\"percent\" + 0.024*\"tax\" + 0.022*\"year\" + 0.022*\"state\" + 0.014*\"rate\" + 0.014*\"job\" + 0.012*\"number\" + 0.010*\"budget\" + 0.008*\"high\" + 0.008*\"taxis\"'),\n",
       " (6,\n",
       "  '0.031*\"health\" + 0.025*\"bill\" + 0.022*\"care\" + 0.018*\"plan\" + 0.014*\"insurance\" + 0.013*\"law\" + 0.011*\"program\" + 0.011*\"government\" + 0.010*\"people\" + 0.010*\"republican\"')]"
      ]
     },
     "execution_count": 21,
     "metadata": {},
     "output_type": "execute_result"
    }
   ],
   "source": [
    "lda_model.print_topics()"
   ]
  },
  {
   "cell_type": "markdown",
   "metadata": {},
   "source": [
    "### Topics Visualization\n",
    "To visualize our topics in a 2-dimensional space we will use the pyLDAvis library. This visualization is interactive in nature and displays topics along with the most relevant words."
   ]
  },
  {
   "cell_type": "code",
   "execution_count": 22,
   "metadata": {},
   "outputs": [
    {
     "name": "stderr",
     "output_type": "stream",
     "text": [
      "/Users/adamdouglas/opt/anaconda3/lib/python3.8/site-packages/sklearn/decomposition/_lda.py:28: DeprecationWarning: `np.float` is a deprecated alias for the builtin `float`. To silence this warning, use `float` by itself. Doing this will not modify any behavior and is safe. If you specifically wanted the numpy scalar type, use `np.float64` here.\n",
      "Deprecated in NumPy 1.20; for more details and guidance: https://numpy.org/devdocs/release/1.20.0-notes.html#deprecations\n",
      "  EPS = np.finfo(np.float).eps\n"
     ]
    },
    {
     "data": {
      "text/html": [
       "\n",
       "<link rel=\"stylesheet\" type=\"text/css\" href=\"https://cdn.jsdelivr.net/gh/bmabey/pyLDAvis@3.3.1/pyLDAvis/js/ldavis.v1.0.0.css\">\n",
       "\n",
       "\n",
       "<div id=\"ldavis_el142731406042025274243039875824\"></div>\n",
       "<script type=\"text/javascript\">\n",
       "\n",
       "var ldavis_el142731406042025274243039875824_data = {\"mdsDat\": {\"x\": [0.12514402844764094, -0.04203573598744131, 0.05071951650186546, 0.10978361373109635, -0.24500057189997235, 0.049478407637707306, -0.04808925843089675], \"y\": [0.05956523024527088, -0.14932906273604937, 0.00505787636305678, -0.1476334053686139, 0.02768418608562802, 0.19313942397950332, 0.011515751431204273], \"topics\": [1, 2, 3, 4, 5, 6, 7], \"cluster\": [1, 1, 1, 1, 1, 1, 1], \"Freq\": [23.98929076916266, 17.38672993455904, 14.096150504897562, 12.197752646065558, 11.52438546612913, 10.76166653209901, 10.044024147087047]}, \"tinfo\": {\"Term\": [\"tax\", \"health\", \"state\", \"law\", \"obama\", \"percent\", \"care\", \"bill\", \"abortion\", \"plan\", \"job\", \"campaign\", \"insurance\", \"woman\", \"republican\", \"budget\", \"county\", \"city\", \"united\", \"president\", \"court\", \"country\", \"taxis\", \"gun\", \"income\", \"mccain\", \"clinton\", \"voter\", \"oil\", \"post\", \"debt\", \"unemployment\", \"wage\", \"recession\", \"amp\", \"pension\", \"inflation\", \"salary\", \"gdp\", \"earmark\", \"payroll\", \"kasich\", \"tuition\", \"median\", \"deduction\", \"surplus\", \"workforce\", \"hike\", \"graduation\", \"unemployed\", \"earning\", \"bls\", \"shortfall\", \"balanced\", \"earner\", \"bonus\", \"retiree\", \"taxation\", \"strickland\", \"bracket\", \"tax\", \"income\", \"taxis\", \"economist\", \"revenue\", \"christie\", \"poverty\", \"census\", \"education\", \"job\", \"employment\", \"percent\", \"teacher\", \"percentage\", \"growth\", \"household\", \"labor\", \"deficit\", \"increase\", \"fiscal\", \"average\", \"economy\", \"figure\", \"budget\", \"economic\", \"student\", \"stimulus\", \"year\", \"rate\", \"school\", \"high\", \"number\", \"cut\", \"statistic\", \"state\", \"low\", \"worker\", \"datum\", \"spending\", \"new\", \"money\", \"business\", \"report\", \"time\", \"federal\", \"claim\", \"true\", \"statement\", \"hillary\", \"fbi\", \"donation\", \"giuliani\", \"kaine\", \"bachmann\", \"acorn\", \"disclosure\", \"hutchison\", \"grayson\", \"koch\", \"protester\", \"socialist\", \"greene\", \"fundraiser\", \"dnc\", \"responsive\", \"emanuel\", \"benghazi\", \"rourke\", \"fannie\", \"impeachment\", \"handel\", \"laden\", \"kyl\", \"bain\", \"lynch\", \"robbery\", \"rove\", \"nrcc\", \"clinton\", \"nomination\", \"pac\", \"donor\", \"mccain\", \"lobbyist\", \"nominee\", \"romney\", \"cruz\", \"campaign\", \"reagan\", \"candidate\", \"endorsement\", \"presidential\", \"palin\", \"politic\", \"party\", \"political\", \"trump\", \"obama\", \"president\", \"pelosi\", \"democratic\", \"republican\", \"former\", \"house\", \"bush\", \"committee\", \"senator\", \"white\", \"position\", \"time\", \"john\", \"primary\", \"member\", \"democrat\", \"day\", \"sen\", \"news\", \"record\", \"statement\", \"election\", \"first\", \"money\", \"claim\", \"group\", \"true\", \"gun\", \"crist\", \"ballot\", \"firearm\", \"registration\", \"mccollum\", \"barrett\", \"statute\", \"offender\", \"barne\", \"felony\", \"homicide\", \"nra\", \"meek\", \"inmate\", \"rifle\", \"turnout\", \"handgun\", \"broward\", \"felon\", \"cuccinelli\", \"circuit\", \"absentee\", \"misdemeanor\", \"redistricting\", \"hasner\", \"defendant\", \"kagan\", \"dewine\", \"abele\", \"court\", \"crime\", \"police\", \"jail\", \"sheriff\", \"supreme\", \"fraud\", \"assault\", \"murder\", \"attorney\", \"voter\", \"judge\", \"constitutional\", \"lawsuit\", \"county\", \"justice\", \"prison\", \"criminal\", \"license\", \"voting\", \"constitution\", \"law\", \"election\", \"district\", \"florida\", \"state\", \"officer\", \"case\", \"amendment\", \"vote\", \"legal\", \"scott\", \"right\", \"texas\", \"general\", \"georgia\", \"governor\", \"federal\", \"department\", \"city\", \"claim\", \"office\", \"year\", \"people\", \"bill\", \"statement\", \"insurance\", \"medicare\", \"premium\", \"gingrich\", \"obamacare\", \"boehner\", \"insurer\", \"uninsured\", \"beneficiary\", \"cantor\", \"kaiser\", \"feingold\", \"marketplace\", \"gallup\", \"payer\", \"filibuster\", \"renacci\", \"chafee\", \"aarp\", \"coburn\", \"toomey\", \"aca\", \"broun\", \"medicaid\", \"demint\", \"sotomayor\", \"axelrod\", \"manchin\", \"enrollee\", \"newt\", \"care\", \"affordable\", \"schultz\", \"coverage\", \"ryan\", \"health\", \"rubio\", \"cbo\", \"plan\", \"bill\", \"mandate\", \"repeal\", \"employer\", \"reform\", \"legislation\", \"benefit\", \"provision\", \"act\", \"program\", \"congress\", \"social\", \"option\", \"proposal\", \"cost\", \"law\", \"government\", \"house\", \"federal\", \"security\", \"republican\", \"people\", \"vote\", \"poll\", \"senate\", \"obama\", \"service\", \"spending\", \"budget\", \"policy\", \"american\", \"abortion\", \"disease\", \"parenthood\", \"vaccine\", \"cdc\", \"pregnancy\", \"covid\", \"coronavirus\", \"misinformation\", \"feed\", \"girl\", \"virus\", \"meme\", \"flu\", \"roe\", \"mask\", \"flagged\", \"prayer\", \"incest\", \"bible\", \"viral\", \"infection\", \"mortality\", \"reproductive\", \"infant\", \"buffett\", \"outbreak\", \"obesity\", \"contraceptive\", \"contraception\", \"facebook\", \"woman\", \"birth\", \"fake\", \"death\", \"mother\", \"mack\", \"pandemic\", \"rape\", \"cancer\", \"female\", \"catholic\", \"clinic\", \"image\", \"church\", \"life\", \"man\", \"post\", \"cell\", \"flag\", \"child\", \"black\", \"photo\", \"medical\", \"news\", \"story\", \"drug\", \"religious\", \"people\", \"medium\", \"internet\", \"website\", \"study\", \"video\", \"false\", \"human\", \"article\", \"health\", \"claim\", \"research\", \"rate\", \"part\", \"evidence\", \"american\", \"time\", \"case\", \"oil\", \"gas\", \"rhode\", \"plant\", \"environmental\", \"coal\", \"drilling\", \"marijuana\", \"emission\", \"rail\", \"gallon\", \"carbon\", \"barrel\", \"highway\", \"epa\", \"providence\", \"pipeline\", \"solar\", \"electricity\", \"cicilline\", \"electric\", \"gasoline\", \"spill\", \"cain\", \"transit\", \"metro\", \"temperature\", \"homeless\", \"greenhouse\", \"pollution\", \"water\", \"energy\", \"climate\", \"production\", \"fuel\", \"island\", \"bridge\", \"transportation\", \"car\", \"natural\", \"project\", \"price\", \"city\", \"industry\", \"road\", \"mile\", \"company\", \"area\", \"land\", \"austin\", \"mayor\", \"new\", \"state\", \"year\", \"food\", \"power\", \"department\", \"cost\", \"development\", \"report\", \"agency\", \"change\", \"statement\", \"high\", \"time\", \"true\", \"claim\", \"border\", \"immigration\", \"immigrant\", \"iraq\", \"troop\", \"iran\", \"terrorist\", \"afghanistan\", \"undocumented\", \"israel\", \"terrorism\", \"refugee\", \"homeland\", \"soldier\", \"amnesty\", \"korea\", \"islamic\", \"mexican\", \"sanction\", \"treaty\", \"syria\", \"alien\", \"isis\", \"cia\", \"iraqi\", \"visa\", \"qaida\", \"cuba\", \"saudi\", \"deportation\", \"military\", \"china\", \"nuclear\", \"war\", \"citizenship\", \"foreign\", \"united\", \"russia\", \"illegal\", \"country\", \"muslim\", \"mexico\", \"international\", \"defense\", \"world\", \"security\", \"trade\", \"force\", \"obama\", \"administration\", \"nation\", \"state\", \"american\", \"policy\", \"president\", \"trump\", \"people\", \"government\", \"year\", \"statement\", \"number\"], \"Freq\": [36891.0, 28161.0, 79482.0, 30885.0, 42468.0, 46513.0, 17716.0, 26566.0, 11585.0, 17810.0, 22479.0, 22088.0, 10706.0, 11033.0, 27121.0, 19133.0, 13320.0, 12725.0, 11122.0, 24670.0, 9263.0, 14137.0, 12754.0, 8315.0, 12500.0, 11296.0, 10227.0, 10007.0, 6512.0, 11173.0, 7776.329711869048, 4890.768758313895, 3816.86804038096, 2797.2880642643577, 2637.1429674919527, 2399.967954261764, 2012.7862185413517, 1998.8674720569402, 1858.565786723398, 1710.2350309922733, 1514.801561890918, 1464.739752513717, 1372.1248322231875, 1182.5510362546752, 1132.6195604093664, 1086.8390763465752, 1030.333629635918, 1007.0614841144271, 884.7131115908016, 761.1372421188237, 737.3393013891415, 725.2805193714365, 722.4375864049714, 711.5218469563961, 694.3912536325288, 691.7087883601955, 688.1388304606276, 682.4089222905781, 638.6938310835196, 482.00703398688376, 36244.590089968595, 12282.756605903078, 12489.48623091623, 3445.0126532893964, 6163.226751449486, 2131.7014833738963, 2359.678448139248, 2916.366027331345, 7663.547295753306, 20632.54756010226, 2939.5617221770817, 40372.64946886923, 3684.29732029286, 4483.267762554959, 4737.17707644711, 2212.5957453162036, 3780.1031378383564, 4157.990605707971, 7412.231356729305, 5277.739336218207, 6662.728525400014, 5471.142401331452, 9222.424509132128, 14714.576675804625, 7219.728905068653, 7048.793591410267, 4478.699615998217, 32993.172590675684, 21141.69016663738, 12108.758366773052, 12597.149775698857, 17455.736123462615, 7579.948394343809, 5504.10331418618, 32911.365819065795, 7490.835247397069, 6724.419497236606, 8502.368308793602, 6442.566674106736, 9402.065053054894, 7056.50513783418, 6274.844738050765, 7321.049667928746, 8263.845699326946, 7667.894312666676, 7522.18667234118, 7044.757975418734, 7179.264279663688, 2124.3156963509214, 1650.4501879386169, 1521.807031239036, 1285.7060489069097, 1130.22037124648, 979.2230284462192, 894.4572962381767, 784.418949084263, 728.7651056726357, 601.6796827167052, 533.7876348415133, 521.489646774503, 503.9080053900329, 499.0291434914494, 445.2544261645834, 403.5024577590659, 402.7562087705629, 384.14639084242265, 376.71940341543024, 374.75282082912804, 370.77889122702675, 360.82206837723953, 348.5016059863463, 345.5608613103884, 334.0519787705123, 326.8407004747221, 323.51535640289694, 321.20722115109817, 305.15982483045167, 295.4622016229628, 9906.925412960214, 1433.8359976454083, 1041.5165288806063, 1078.26480620919, 10401.995018024516, 2112.794007567253, 1869.9715223671403, 8035.215538094157, 1951.8394298351027, 17699.259506415015, 2596.2559571816387, 7777.468707096449, 709.4930401075995, 4570.635136857915, 1775.6503669754993, 1973.6375586867673, 7711.5634655291915, 6631.106002152695, 9071.336517517238, 25147.876045199922, 14764.079587165528, 1529.0993629144712, 6770.457207374416, 13216.644092236038, 4570.0138438422555, 8483.39248222633, 5000.716478128276, 4730.276504026149, 3504.648982555554, 4953.173615036086, 3614.702291459641, 10175.100837417509, 3246.8415437901963, 3008.7476056172254, 4679.586601617903, 3848.0170916027664, 5359.1092274170405, 3743.92768847104, 5533.927388218417, 3948.94855109204, 6516.847427094043, 4343.365644551651, 4267.759609914579, 3997.086080356362, 4193.73698490599, 3921.9256015676638, 3892.787212722213, 8314.945747827971, 4438.13460527545, 3182.0440483211996, 1931.8717552818428, 1484.8257211583182, 1348.9050784762094, 1036.5123981175632, 994.8637414503153, 894.2316673993527, 846.6548268479942, 823.4970442008824, 820.3850521996394, 743.5704130493469, 745.3023985556708, 683.0274531475185, 678.1017515412171, 604.1613849225785, 580.4754795619469, 575.4186082072366, 538.4894411436971, 526.4743538679967, 497.24472767893616, 468.45204272468163, 435.57592836913307, 420.33741648460705, 390.8046144487634, 378.2079754025403, 381.35471299544645, 373.02558816788684, 368.16213051351474, 9084.281404863297, 6492.995886474616, 4814.4351196540065, 857.7218117807664, 849.994001563958, 2881.64723208547, 2319.4882304008884, 1358.7651166879234, 1391.364911071902, 4039.85267268232, 8620.157604044483, 2697.134982259981, 1638.2538245391254, 1613.696915041919, 10709.296131002657, 3365.640577050429, 2092.9050313325524, 2741.6940448182604, 1438.6676418002726, 3088.200522738446, 2295.1350657636713, 19160.359070540133, 7351.66143169995, 6541.776641217582, 6997.9480190450795, 27657.747546739854, 2730.3159943222545, 6949.258137388001, 4000.2599681844927, 6502.392821460168, 3421.6040062924826, 4119.848949213595, 5778.958763749753, 4927.996460112802, 4056.077424822517, 3431.8005010767224, 4130.33348289677, 4836.490140956245, 3891.804379343235, 3853.8288868218733, 4499.8427760692975, 4013.037710917439, 4781.324832346361, 4358.545407273721, 4005.3015740943447, 3735.1749528394234, 10705.540578940103, 6891.081478791621, 2684.145612841396, 1583.4788536281592, 1368.1028692355665, 1332.0595947413485, 1249.1148662078292, 1077.4223594874666, 963.4403841026332, 850.7729613148967, 764.789497413301, 717.3374221413542, 613.0734667459617, 582.1720961358214, 570.1737570350946, 543.9483081883191, 424.572913324044, 404.92632076718616, 357.6300472866736, 344.0710439094601, 331.6931186286032, 328.9826211197289, 308.4022185394459, 300.306574212622, 279.9797776314137, 282.20454537601347, 266.7550831794973, 255.56150503058646, 246.95815946219187, 248.30313410477595, 17074.121469518454, 1776.8468898513256, 795.7104822369789, 5217.782158536478, 2950.751610207337, 23688.15169284686, 3387.140730649258, 1975.4245679341202, 13803.506068419421, 19378.628063940232, 1727.4011031597863, 942.305157243947, 2909.5768838475938, 3966.73442500003, 4701.683720784587, 4589.852281574298, 2401.041081953058, 4648.269369363931, 8298.961083548118, 6006.913651053515, 4366.641286168557, 2071.4392120916395, 3444.5825339163184, 5745.674742975601, 10202.050388928943, 8239.913850231496, 7110.607670652758, 7804.413195843155, 4659.36256365807, 7968.7406320951295, 7986.855092162314, 4987.386579008235, 3200.831142699177, 3820.32290493943, 6781.826128579297, 4086.2628196252344, 3930.8147067080977, 4418.183703304918, 4080.7000329685784, 3879.919158328408, 11584.537494104701, 2554.777091916772, 2514.6449975244786, 1524.835701368262, 1410.4071258446904, 1371.1912655223098, 1290.3789499165919, 1202.6070541118752, 1161.7495026941288, 1151.6752981481322, 980.6601501689736, 973.7409945331403, 762.4430635093901, 687.5174803665238, 660.6108995279765, 649.253278133545, 625.2552908382538, 617.3628361046715, 598.5207034893485, 578.2901426083866, 570.3017530746937, 517.5858115314961, 501.3023604662096, 500.3571316472489, 495.5477852290905, 478.3709177007505, 465.23692670269463, 416.0728839392373, 399.54839826447443, 389.64858242651957, 5414.356398612902, 10443.864904814105, 2789.7456637212003, 1341.0082360199772, 6409.910352961636, 1778.4004126562363, 1243.5404961336512, 653.8891603139214, 1402.4244091966807, 1325.2963597033126, 938.9134264470924, 766.3076853650929, 1137.342815501389, 1992.9296193651828, 1427.0196883223582, 5168.795918917159, 4730.240002309694, 7774.363911147227, 1319.4073160648122, 1386.9774356307375, 7028.253211584126, 3452.021702272034, 2243.9269926997817, 3099.746763068969, 7590.745964376844, 4924.979830558336, 2986.7872548304895, 1562.2249765433774, 7345.152203751759, 2335.8383301555245, 1655.7275794439681, 2950.4673396173603, 3785.643857177471, 2506.719429947056, 3789.224750706259, 2098.7836491891644, 3002.0719418445155, 4472.490298199726, 4284.357911023964, 2775.00557373277, 4218.5410072838, 3044.961646978139, 2567.597141218978, 2911.730018718396, 3020.5189894880295, 2620.1218434825855, 6511.1303047763295, 4392.767093646335, 2072.6470376218995, 1992.2715007548918, 1649.8732801731296, 1474.0630454247776, 1446.6322112000635, 1399.5308560619048, 1307.567117271371, 1281.816865450406, 1096.9909425831645, 992.1106401540646, 969.9015875122335, 928.8564191179115, 864.0890931623467, 848.53676039938, 771.1730714313488, 767.0161138913383, 741.6590496038928, 721.5459768937385, 690.578338400445, 685.7255723430327, 669.197098553736, 665.5674517996969, 624.1724171330337, 617.0596075633413, 598.3833174419906, 594.72051265743, 556.9111363989902, 525.6652843714999, 3772.6332853905274, 5921.8958569391325, 2253.1967125197993, 1746.3086050110353, 1304.5307834421633, 3255.024578389985, 1189.5637688881982, 2046.0025784642241, 2019.7684155990119, 1569.8111946052989, 5301.694241491917, 3907.554841952509, 8367.757757066329, 2921.8872191516057, 1596.104374840812, 1513.205845393449, 5990.650465495094, 2912.0991255027966, 1475.68256996404, 1979.0784501541327, 1837.945786251275, 4933.1116147108605, 6960.78616047489, 5547.8638549929165, 1806.6530813380539, 1943.5587830542145, 2535.2091760075505, 2465.596147243679, 1711.6132975622322, 2478.861713868584, 2061.634333539351, 2093.9578019386486, 2452.8590686129287, 2232.278664853296, 2290.310947345475, 2204.236781100442, 2190.461404851237, 5798.085364648534, 5781.019970300157, 5663.495932395243, 4206.615605039238, 2837.6124192635334, 2755.057995451441, 2253.1600188351154, 1319.2701861144255, 1286.6544397240182, 1286.7539092391999, 1154.7193346365254, 1145.8511659015621, 1102.9303630889162, 1083.234593365215, 1016.5607926142653, 997.9545729924256, 963.7037323550363, 872.7587106761581, 838.5103604390016, 827.44778286359, 814.6626540447849, 806.8403069134772, 757.0702442369678, 736.0870108399611, 723.0962042607507, 718.0199628685282, 709.8534277756308, 674.7424468460628, 672.0920750218102, 668.6712905608262, 5529.603226230617, 2952.2824585016288, 2929.257389901967, 5942.100229312417, 1496.0383551580462, 4008.903609519942, 8924.641050642886, 1290.3220667963146, 4311.55228120266, 9029.795710073746, 1720.2860046405017, 2352.24908875773, 2638.728470693495, 2837.166491127726, 3915.944586523364, 4558.106592064672, 2471.0764849492007, 2566.582161925041, 8521.370833929577, 3565.437454084027, 3262.231518725681, 9306.529569921937, 4730.899642854309, 3959.577863543795, 4431.605393791076, 3177.5245101476385, 4112.215079790248, 3589.2339607793397, 4065.0621347701763, 2894.5321280202243, 2657.475910657949], \"Total\": [36891.0, 28161.0, 79482.0, 30885.0, 42468.0, 46513.0, 17716.0, 26566.0, 11585.0, 17810.0, 22479.0, 22088.0, 10706.0, 11033.0, 27121.0, 19133.0, 13320.0, 12725.0, 11122.0, 24670.0, 9263.0, 14137.0, 12754.0, 8315.0, 12500.0, 11296.0, 10227.0, 10007.0, 6512.0, 11173.0, 7777.274690606068, 4891.712652849954, 3817.812463595207, 2798.232152372424, 2638.0856376831994, 2400.9137031851446, 2013.7305901300385, 1999.8124898026272, 1859.509524116057, 1711.1886095668417, 1515.7470859261073, 1465.685915939491, 1373.0692088998385, 1183.4948793932347, 1133.563374315403, 1087.7837635550404, 1031.278453323269, 1008.0063455009454, 885.6572869286132, 762.0818146047458, 738.2834617430781, 726.2236325143914, 723.3832394357134, 712.4711014569657, 695.3348852575571, 692.6566584229986, 689.0878524808089, 683.3540952353613, 639.6430571376001, 482.95122977188953, 36891.60753043441, 12500.998890207886, 12754.253450586135, 3474.240536431951, 6338.839032862241, 2163.945778465405, 2406.0912619270434, 2987.3765263652267, 8071.763854038341, 22479.011027626686, 3062.656624984367, 46513.24309467653, 3878.914581613457, 4796.6835606676605, 5125.40916575425, 2306.0028973199715, 4090.8598250100954, 4542.968860563163, 8487.122732719723, 5895.3976447194045, 7608.011141640174, 6152.311928171332, 11027.639933090137, 19133.583620799298, 8644.540006854015, 8498.762493101001, 5110.7908390431, 57065.28683285424, 33337.46847212894, 17123.907790743448, 18339.33479451537, 27870.99969658378, 9896.588681018238, 6663.949747548601, 79482.4978466655, 10267.052969176406, 8896.861387842328, 12421.386966141185, 10374.20498507986, 28636.881097505695, 15461.832502452655, 10662.31281031841, 18287.93574999053, 30794.5768873349, 23205.791418888442, 27778.48175633668, 20792.63621832739, 27769.878078576636, 2125.2513261500894, 1651.3886000734406, 1522.7425365673862, 1286.6450519918449, 1131.1564402971494, 980.1623467296436, 895.3940043797792, 785.3555109539657, 729.7063284395847, 602.6171473989201, 534.723305494151, 522.4258472223645, 504.84359652322655, 499.97041817219196, 446.18940534910973, 404.4375312678076, 403.691350595552, 385.0842712850145, 377.654037433525, 375.68798033283144, 371.7142692651762, 361.75597340103565, 349.4376852077715, 346.49847274312157, 335.00021304201715, 327.77758779927285, 324.4534539047166, 322.14918190332367, 306.0969158054978, 296.3992103504896, 10227.27620118465, 1464.9683973368647, 1060.50511902311, 1101.3644808048803, 11296.412202614243, 2235.491321713272, 1985.8356143804708, 9415.196213304207, 2130.054958814533, 22088.461961260764, 2911.9463772508084, 9486.412364279331, 741.2898848384739, 5516.71328458077, 2013.7942621126963, 2270.2994483943094, 10342.289284349657, 8756.268457953292, 13173.668873991188, 42468.5723084683, 24670.502085040313, 1804.3692378097844, 10875.064036421627, 27121.91998700902, 7631.654784318413, 18394.084012107123, 9107.97039144074, 8718.046425872417, 5740.954433298656, 9371.55529082138, 6056.970530441582, 30794.5768873349, 5340.1539099125885, 4763.656245998198, 10335.399642804497, 7852.025162999566, 15878.372971007306, 7761.805415763368, 17153.60197008508, 8773.095316178207, 27769.878078576636, 11786.919379700053, 13836.666421615602, 15461.832502452655, 27778.48175633668, 16902.610896005783, 20792.63621832739, 8315.856431985443, 4439.047071569465, 3182.954645267, 1932.782024682394, 1485.738255365615, 1349.8195006263277, 1037.4238992179492, 995.7766227018192, 895.1428148741203, 847.57215608575, 824.4075073221463, 821.296429080501, 744.4806826949722, 746.2221489706687, 683.9379187090549, 679.013065825628, 605.0718623376592, 581.385404764429, 576.332122520975, 539.4001116584234, 527.3876463834144, 498.1575078452502, 469.3617217295898, 436.48726223918345, 421.2481412786199, 391.71910903514464, 379.118211962874, 382.2741657008952, 373.9367133841208, 369.0726415454475, 9263.275648994599, 6698.480930438581, 5046.952800664719, 871.8618179388411, 865.1765620878211, 3014.512397905966, 2415.013033128087, 1398.3607724184901, 1461.0657413460133, 4498.7265132438715, 10007.387810404234, 2959.659534070339, 1747.1837006185863, 1723.2870206390864, 13320.530761736527, 3816.255733033872, 2288.9671272043306, 3132.25920066152, 1541.4551191256533, 3646.8444210002767, 2634.974051465302, 30885.94943065964, 11786.919379700053, 10300.750104186798, 11691.611047956634, 79482.4978466655, 3724.8752772601347, 13981.853689600963, 6666.1936160320465, 14193.75257249933, 5513.304267579059, 7580.560362683263, 14212.160698704507, 12977.824304342403, 8849.897604695008, 6816.859294950204, 11326.594699475392, 23205.791418888442, 13196.42791149062, 12725.477296882033, 27778.48175633668, 17082.959142083266, 57065.28683285424, 32150.35378917186, 26566.139359381254, 27769.878078576636, 10706.497327829686, 6892.037095080784, 2685.101432239361, 1584.4397252667857, 1369.0585141956196, 1333.018312580431, 1250.070520379425, 1078.3781218798333, 964.3972393211837, 851.7302395450545, 765.7459992697969, 718.2951594154516, 614.0309199955562, 583.1303895969589, 571.1302766909675, 544.906154242078, 425.53144342351453, 405.89307627056905, 358.5857835639837, 345.03154674341965, 332.65098000204335, 329.9378385034898, 309.3603569798036, 301.26292710288726, 280.9385167805847, 283.1730209390691, 267.71764102348664, 256.5177411920873, 247.91394627820475, 249.26482325357702, 17716.400253246687, 1827.8023422165797, 812.9870529407627, 5579.008688010461, 3187.9494200007766, 28161.386965560712, 3771.0336241997147, 2154.564553929055, 17810.039180787033, 26566.139359381254, 1994.9363085085974, 1036.3274341414874, 3609.9174985372283, 5220.625277472374, 6485.640197412204, 6536.970506671218, 3109.8526913863507, 6870.03190909108, 14685.529332779719, 9937.693376505047, 7340.810099672742, 2820.7734850852544, 5821.251877065912, 11993.936113658812, 30885.94943065964, 22897.797865513345, 18394.084012107123, 23205.791418888442, 10080.551012879161, 27121.91998700902, 32150.35378917186, 14193.75257249933, 5905.118473564243, 8734.0282857502, 42468.5723084683, 11205.608981174148, 10374.20498507986, 19133.583620799298, 14908.20950931911, 19722.34508440764, 11585.403555240324, 2555.6430754215444, 2515.51048173255, 1525.7002858706846, 1411.2720478882961, 1372.056317809296, 1291.2437213597511, 1203.4719404287719, 1162.6154371907073, 1152.5422130662057, 981.5262580368436, 974.6057975786805, 763.309335553838, 688.3823607101591, 661.4771182673577, 650.1198394202096, 626.120078726432, 618.2295623785602, 599.3860844866264, 579.1567761461939, 571.1684507437936, 518.4507989030873, 502.16749383701483, 501.22279787488606, 496.4134121906749, 479.242013796016, 466.102190268783, 416.9385942828523, 400.41467809384386, 390.51375023793065, 5483.789622750303, 11033.103619599688, 2891.258321593159, 1380.7269804154432, 7099.270981790727, 1867.6400557490326, 1299.6539713983627, 663.5210262165269, 1500.293728288883, 1424.3965266537157, 982.1238251799738, 788.3334677557532, 1219.999121358339, 2281.4768823263194, 1576.1362412625838, 6721.975400849261, 6290.710575470901, 11173.145742997805, 1456.2735841274964, 1553.2888599108353, 11019.641247629788, 4888.760015855955, 2915.8314998951164, 4639.280204545081, 17153.60197008508, 10644.017674574046, 5054.584527380171, 1919.7855739199217, 32150.35378917186, 4121.911662155305, 2165.7067554451937, 6833.390124426436, 11420.448907977354, 4952.117671138835, 12040.232219614492, 3694.352171736448, 8726.043397420342, 28161.386965560712, 27778.48175633668, 9073.37162603363, 33337.46847212894, 14010.383898316468, 7846.913835170701, 19722.34508440764, 30794.5768873349, 13981.853689600963, 6512.066711377023, 4393.702727183082, 2073.5842971690568, 1993.207151613716, 1650.80918093059, 1474.9977606909624, 1447.5687536504793, 1400.466703841504, 1308.502041577631, 1282.7539635755002, 1097.9255434712877, 993.0455446840917, 970.8378735131339, 929.7938012567407, 865.0238950894907, 849.4728769474315, 772.1085161830838, 767.950575904853, 742.5941520385605, 722.4829124936366, 691.5147702683906, 686.6621069879952, 670.1335509207076, 666.5087704786868, 625.1086325634711, 617.9961640498677, 599.3191304081771, 595.6578904729381, 557.8460907360626, 526.600291600441, 3854.25631981008, 6082.931484319224, 2362.073799752078, 1837.9808527629484, 1358.3771196938644, 3562.6329555811412, 1243.9398326228331, 2242.488269798376, 2272.7405455951534, 1721.7034637743866, 7076.402904337135, 5099.194809374465, 12725.477296882033, 3916.130849369228, 1942.1226808507688, 1828.995524781692, 11878.568220314362, 4947.530477093915, 1845.7666888016197, 2997.7819705699076, 3126.8395948691727, 28636.881097505695, 79482.4978466655, 57065.28683285424, 3295.3362032160558, 4448.534606154263, 13196.42791149062, 11993.936113658812, 2943.411845244565, 18287.93574999053, 7453.695022390711, 9399.585816098957, 27769.878078576636, 18339.33479451537, 30794.5768873349, 20792.63621832739, 27778.48175633668, 5799.0055382418495, 5781.939787385933, 5664.415722784054, 4207.536153784821, 2838.5323103366395, 2755.976984591964, 2254.0801072395143, 1320.1905721760513, 1287.5742375200057, 1287.6738084940177, 1155.6388023500222, 1146.770070438358, 1103.8509629444948, 1084.1559987612889, 1017.4804460703203, 998.8738411869405, 964.6230406991857, 873.6786128746312, 839.4318590683453, 828.367497788217, 815.5814866823605, 807.7604408781519, 757.9892518030273, 737.0066959349576, 724.0153515471499, 718.939401794479, 710.7723199780404, 675.6619468569041, 673.0119793956794, 669.5903486111614, 5750.87028433193, 3054.5666541826495, 3106.972485392202, 6686.699067268033, 1569.6086987528363, 4589.275938961456, 11122.69237712552, 1376.2108343332332, 5446.428156202501, 14137.287434073422, 1991.1894046034267, 2949.0325293762257, 3513.539657234644, 4232.3791353572415, 6808.477888889401, 10080.551012879161, 4103.449983687937, 4566.233109700267, 42468.5723084683, 9618.644992242524, 8137.022541479395, 79482.4978466655, 19722.34508440764, 14908.20950931911, 24670.502085040313, 13173.668873991188, 32150.35378917186, 22897.797865513345, 57065.28683285424, 27769.878078576636, 27870.99969658378], \"Category\": [\"Default\", \"Default\", \"Default\", \"Default\", \"Default\", \"Default\", \"Default\", \"Default\", \"Default\", \"Default\", \"Default\", \"Default\", \"Default\", \"Default\", \"Default\", \"Default\", \"Default\", \"Default\", \"Default\", \"Default\", \"Default\", \"Default\", \"Default\", \"Default\", \"Default\", \"Default\", \"Default\", \"Default\", \"Default\", \"Default\", \"Topic1\", \"Topic1\", \"Topic1\", \"Topic1\", \"Topic1\", \"Topic1\", \"Topic1\", \"Topic1\", \"Topic1\", \"Topic1\", \"Topic1\", \"Topic1\", \"Topic1\", \"Topic1\", \"Topic1\", \"Topic1\", \"Topic1\", \"Topic1\", \"Topic1\", \"Topic1\", \"Topic1\", \"Topic1\", \"Topic1\", \"Topic1\", \"Topic1\", \"Topic1\", \"Topic1\", \"Topic1\", \"Topic1\", \"Topic1\", \"Topic1\", \"Topic1\", \"Topic1\", \"Topic1\", \"Topic1\", \"Topic1\", \"Topic1\", \"Topic1\", \"Topic1\", \"Topic1\", \"Topic1\", \"Topic1\", \"Topic1\", \"Topic1\", \"Topic1\", \"Topic1\", \"Topic1\", \"Topic1\", \"Topic1\", \"Topic1\", \"Topic1\", \"Topic1\", \"Topic1\", \"Topic1\", \"Topic1\", \"Topic1\", \"Topic1\", \"Topic1\", \"Topic1\", \"Topic1\", \"Topic1\", \"Topic1\", \"Topic1\", \"Topic1\", \"Topic1\", \"Topic1\", \"Topic1\", \"Topic1\", \"Topic1\", \"Topic1\", \"Topic1\", \"Topic1\", \"Topic1\", \"Topic1\", \"Topic1\", \"Topic1\", \"Topic1\", \"Topic1\", \"Topic2\", \"Topic2\", \"Topic2\", \"Topic2\", \"Topic2\", \"Topic2\", \"Topic2\", \"Topic2\", \"Topic2\", \"Topic2\", \"Topic2\", \"Topic2\", \"Topic2\", \"Topic2\", \"Topic2\", \"Topic2\", \"Topic2\", \"Topic2\", \"Topic2\", \"Topic2\", \"Topic2\", \"Topic2\", \"Topic2\", \"Topic2\", \"Topic2\", \"Topic2\", \"Topic2\", \"Topic2\", \"Topic2\", \"Topic2\", \"Topic2\", \"Topic2\", \"Topic2\", \"Topic2\", \"Topic2\", \"Topic2\", \"Topic2\", \"Topic2\", \"Topic2\", \"Topic2\", \"Topic2\", \"Topic2\", \"Topic2\", \"Topic2\", \"Topic2\", \"Topic2\", \"Topic2\", \"Topic2\", \"Topic2\", \"Topic2\", \"Topic2\", \"Topic2\", \"Topic2\", \"Topic2\", \"Topic2\", \"Topic2\", \"Topic2\", \"Topic2\", \"Topic2\", \"Topic2\", \"Topic2\", \"Topic2\", \"Topic2\", \"Topic2\", \"Topic2\", \"Topic2\", \"Topic2\", \"Topic2\", \"Topic2\", \"Topic2\", \"Topic2\", \"Topic2\", \"Topic2\", \"Topic2\", \"Topic2\", \"Topic2\", \"Topic2\", \"Topic3\", \"Topic3\", \"Topic3\", \"Topic3\", \"Topic3\", \"Topic3\", \"Topic3\", \"Topic3\", \"Topic3\", \"Topic3\", \"Topic3\", \"Topic3\", \"Topic3\", \"Topic3\", \"Topic3\", \"Topic3\", \"Topic3\", \"Topic3\", \"Topic3\", \"Topic3\", \"Topic3\", \"Topic3\", \"Topic3\", \"Topic3\", \"Topic3\", \"Topic3\", \"Topic3\", \"Topic3\", \"Topic3\", \"Topic3\", \"Topic3\", \"Topic3\", \"Topic3\", \"Topic3\", \"Topic3\", \"Topic3\", \"Topic3\", \"Topic3\", \"Topic3\", \"Topic3\", \"Topic3\", \"Topic3\", \"Topic3\", \"Topic3\", \"Topic3\", \"Topic3\", \"Topic3\", \"Topic3\", \"Topic3\", \"Topic3\", \"Topic3\", \"Topic3\", \"Topic3\", \"Topic3\", \"Topic3\", \"Topic3\", \"Topic3\", \"Topic3\", \"Topic3\", \"Topic3\", \"Topic3\", \"Topic3\", \"Topic3\", \"Topic3\", \"Topic3\", \"Topic3\", \"Topic3\", \"Topic3\", \"Topic3\", \"Topic3\", \"Topic3\", \"Topic3\", \"Topic3\", \"Topic3\", \"Topic3\", \"Topic3\", \"Topic4\", \"Topic4\", \"Topic4\", \"Topic4\", \"Topic4\", \"Topic4\", \"Topic4\", \"Topic4\", \"Topic4\", \"Topic4\", \"Topic4\", \"Topic4\", \"Topic4\", \"Topic4\", \"Topic4\", \"Topic4\", \"Topic4\", \"Topic4\", \"Topic4\", \"Topic4\", \"Topic4\", \"Topic4\", \"Topic4\", \"Topic4\", \"Topic4\", \"Topic4\", \"Topic4\", \"Topic4\", \"Topic4\", \"Topic4\", \"Topic4\", \"Topic4\", \"Topic4\", \"Topic4\", \"Topic4\", \"Topic4\", \"Topic4\", \"Topic4\", \"Topic4\", \"Topic4\", \"Topic4\", \"Topic4\", \"Topic4\", \"Topic4\", \"Topic4\", \"Topic4\", \"Topic4\", \"Topic4\", \"Topic4\", \"Topic4\", \"Topic4\", \"Topic4\", \"Topic4\", \"Topic4\", \"Topic4\", \"Topic4\", \"Topic4\", \"Topic4\", \"Topic4\", \"Topic4\", \"Topic4\", \"Topic4\", \"Topic4\", \"Topic4\", \"Topic4\", \"Topic4\", \"Topic4\", \"Topic4\", \"Topic4\", \"Topic4\", \"Topic5\", \"Topic5\", \"Topic5\", \"Topic5\", \"Topic5\", \"Topic5\", \"Topic5\", \"Topic5\", \"Topic5\", \"Topic5\", \"Topic5\", \"Topic5\", \"Topic5\", \"Topic5\", \"Topic5\", \"Topic5\", \"Topic5\", \"Topic5\", \"Topic5\", \"Topic5\", \"Topic5\", \"Topic5\", \"Topic5\", \"Topic5\", \"Topic5\", \"Topic5\", \"Topic5\", \"Topic5\", \"Topic5\", \"Topic5\", \"Topic5\", \"Topic5\", \"Topic5\", \"Topic5\", \"Topic5\", \"Topic5\", \"Topic5\", \"Topic5\", \"Topic5\", \"Topic5\", \"Topic5\", \"Topic5\", \"Topic5\", \"Topic5\", \"Topic5\", \"Topic5\", \"Topic5\", \"Topic5\", \"Topic5\", \"Topic5\", \"Topic5\", \"Topic5\", \"Topic5\", \"Topic5\", \"Topic5\", \"Topic5\", \"Topic5\", \"Topic5\", \"Topic5\", \"Topic5\", \"Topic5\", \"Topic5\", \"Topic5\", \"Topic5\", \"Topic5\", \"Topic5\", \"Topic5\", \"Topic5\", \"Topic5\", \"Topic5\", \"Topic5\", \"Topic5\", \"Topic5\", \"Topic5\", \"Topic5\", \"Topic5\", \"Topic6\", \"Topic6\", \"Topic6\", \"Topic6\", \"Topic6\", \"Topic6\", \"Topic6\", \"Topic6\", \"Topic6\", \"Topic6\", \"Topic6\", \"Topic6\", \"Topic6\", \"Topic6\", \"Topic6\", \"Topic6\", \"Topic6\", \"Topic6\", \"Topic6\", \"Topic6\", \"Topic6\", \"Topic6\", \"Topic6\", \"Topic6\", \"Topic6\", \"Topic6\", \"Topic6\", \"Topic6\", \"Topic6\", \"Topic6\", \"Topic6\", \"Topic6\", \"Topic6\", \"Topic6\", \"Topic6\", \"Topic6\", \"Topic6\", \"Topic6\", \"Topic6\", \"Topic6\", \"Topic6\", \"Topic6\", \"Topic6\", \"Topic6\", \"Topic6\", \"Topic6\", \"Topic6\", \"Topic6\", \"Topic6\", \"Topic6\", \"Topic6\", \"Topic6\", \"Topic6\", \"Topic6\", \"Topic6\", \"Topic6\", \"Topic6\", \"Topic6\", \"Topic6\", \"Topic6\", \"Topic6\", \"Topic6\", \"Topic6\", \"Topic6\", \"Topic6\", \"Topic6\", \"Topic6\", \"Topic7\", \"Topic7\", \"Topic7\", \"Topic7\", \"Topic7\", \"Topic7\", \"Topic7\", \"Topic7\", \"Topic7\", \"Topic7\", \"Topic7\", \"Topic7\", \"Topic7\", \"Topic7\", \"Topic7\", \"Topic7\", \"Topic7\", \"Topic7\", \"Topic7\", \"Topic7\", \"Topic7\", \"Topic7\", \"Topic7\", \"Topic7\", \"Topic7\", \"Topic7\", \"Topic7\", \"Topic7\", \"Topic7\", \"Topic7\", \"Topic7\", \"Topic7\", \"Topic7\", \"Topic7\", \"Topic7\", \"Topic7\", \"Topic7\", \"Topic7\", \"Topic7\", \"Topic7\", \"Topic7\", \"Topic7\", \"Topic7\", \"Topic7\", \"Topic7\", \"Topic7\", \"Topic7\", \"Topic7\", \"Topic7\", \"Topic7\", \"Topic7\", \"Topic7\", \"Topic7\", \"Topic7\", \"Topic7\", \"Topic7\", \"Topic7\", \"Topic7\", \"Topic7\", \"Topic7\", \"Topic7\"], \"logprob\": [30.0, 29.0, 28.0, 27.0, 26.0, 25.0, 24.0, 23.0, 22.0, 21.0, 20.0, 19.0, 18.0, 17.0, 16.0, 15.0, 14.0, 13.0, 12.0, 11.0, 10.0, 9.0, 8.0, 7.0, 6.0, 5.0, 4.0, 3.0, 2.0, 1.0, -5.264, -5.7277, -5.9756, -6.2864, -6.3454, -6.4396, -6.6155, -6.6225, -6.6953, -6.7784, -6.8998, -6.9334, -6.9987, -7.1474, -7.1905, -7.2318, -7.2852, -7.308, -7.4376, -7.588, -7.6198, -7.6363, -7.6402, -7.6554, -7.6798, -7.6836, -7.6888, -7.6972, -7.7634, -8.0449, -3.7248, -4.8069, -4.7902, -6.0781, -5.4965, -6.5581, -6.4565, -6.2447, -5.2786, -4.2882, -6.2368, -3.6169, -6.011, -5.8147, -5.7596, -6.5209, -5.9853, -5.89, -5.3119, -5.6516, -5.4185, -5.6156, -5.0934, -4.6262, -5.3382, -5.3622, -5.8157, -3.8188, -4.2638, -4.8211, -4.7816, -4.4554, -5.2896, -5.6096, -3.8212, -5.3014, -5.4093, -5.1747, -5.4521, -5.0741, -5.3611, -5.4785, -5.3243, -5.2032, -5.278, -5.2972, -5.3628, -5.3439, -6.2397, -6.4921, -6.5733, -6.7419, -6.8707, -7.0142, -7.1047, -7.236, -7.3096, -7.5012, -7.6209, -7.6442, -7.6785, -7.6882, -7.8023, -7.9007, -7.9026, -7.9499, -7.9694, -7.9746, -7.9853, -8.0125, -8.0473, -8.0557, -8.0896, -8.1114, -8.1217, -8.1288, -8.1801, -8.2124, -4.6999, -6.6328, -6.9525, -6.9178, -4.6512, -6.2451, -6.3672, -4.9093, -6.3244, -4.1196, -6.0391, -4.9419, -7.3364, -5.4735, -6.419, -6.3133, -4.9504, -5.1014, -4.788, -3.7684, -4.301, -6.5685, -5.0806, -4.4117, -5.4736, -4.855, -5.3836, -5.4392, -5.7391, -5.3931, -5.7081, -4.6732, -5.8155, -5.8916, -5.4499, -5.6456, -5.3144, -5.673, -5.2823, -5.6197, -5.1188, -5.5245, -5.5421, -5.6076, -5.5596, -5.6266, -5.634, -4.6653, -5.2931, -5.6258, -6.1249, -6.3881, -6.4841, -6.7475, -6.7885, -6.8951, -6.9498, -6.9775, -6.9813, -7.0796, -7.0773, -7.1646, -7.1718, -7.2873, -7.3273, -7.336, -7.4023, -7.4249, -7.482, -7.5417, -7.6144, -7.6501, -7.7229, -7.7557, -7.7474, -7.7695, -7.7826, -4.5768, -4.9126, -5.2117, -6.9368, -6.9459, -5.725, -5.942, -6.4768, -6.4531, -5.3871, -4.6292, -5.7912, -6.2897, -6.3048, -4.4122, -5.5697, -6.0448, -5.7748, -6.4196, -5.6558, -5.9526, -3.8305, -4.7884, -4.9051, -4.8377, -3.4634, -5.7789, -4.8447, -5.397, -4.9112, -5.5532, -5.3675, -5.0291, -5.1884, -5.3831, -5.5503, -5.365, -5.2072, -5.4245, -5.4343, -5.2793, -5.3938, -5.2186, -5.3112, -5.3957, -5.4656, -4.2679, -4.7085, -5.6513, -6.1791, -6.3253, -6.352, -6.4163, -6.5641, -6.6759, -6.8003, -6.9069, -6.9709, -7.128, -7.1797, -7.2005, -7.2476, -7.4954, -7.5428, -7.667, -7.7056, -7.7422, -7.7505, -7.8151, -7.8417, -7.9117, -7.9038, -7.9601, -8.003, -8.0372, -8.0318, -3.8011, -6.0639, -6.8672, -4.9866, -5.5566, -3.4737, -5.4187, -5.9579, -4.0138, -3.6745, -6.0921, -6.6981, -5.5707, -5.2608, -5.0908, -5.1149, -5.7628, -5.1022, -4.5226, -4.8458, -5.1647, -5.9105, -5.4019, -4.8903, -4.3161, -4.5297, -4.6771, -4.584, -5.0998, -4.5632, -4.5609, -5.0318, -5.4753, -5.2984, -4.7245, -5.2311, -5.2699, -5.153, -5.2324, -5.2829, -4.1322, -5.644, -5.6598, -6.16, -6.238, -6.2662, -6.327, -6.3974, -6.432, -6.4407, -6.6014, -6.6085, -6.8531, -6.9566, -6.9965, -7.0138, -7.0515, -7.0642, -7.0952, -7.1296, -7.1435, -7.2405, -7.2725, -7.2743, -7.284, -7.3193, -7.3471, -7.4588, -7.4993, -7.5244, -4.8929, -4.2359, -5.556, -6.2885, -4.7241, -6.0062, -6.364, -7.0067, -6.2437, -6.3003, -6.6449, -6.8481, -6.4532, -5.8923, -6.2263, -4.9393, -5.0279, -4.5311, -6.3047, -6.2548, -4.632, -5.343, -5.7737, -5.4506, -4.555, -4.9876, -5.4877, -6.1358, -4.5879, -5.7335, -6.0777, -5.5, -5.2507, -5.6629, -5.2498, -5.8406, -5.4826, -5.084, -5.1269, -5.5613, -5.1424, -5.4684, -5.6389, -5.5132, -5.4765, -5.6187, -4.6399, -5.0335, -5.7846, -5.8242, -6.0127, -6.1254, -6.1442, -6.1773, -6.2453, -6.2652, -6.4209, -6.5214, -6.544, -6.5872, -6.6595, -6.6777, -6.7733, -6.7787, -6.8123, -6.8398, -6.8837, -6.8907, -6.9151, -6.9206, -6.9848, -6.9962, -7.027, -7.0331, -7.0988, -7.1565, -5.1857, -4.7348, -5.7011, -5.9559, -6.2476, -5.3332, -6.3399, -5.7976, -5.8105, -6.0625, -4.8454, -5.1505, -4.3891, -5.4412, -6.0459, -6.0992, -4.7232, -5.4446, -6.1243, -5.8308, -5.9048, -4.9175, -4.5731, -4.8, -5.922, -5.8489, -5.5832, -5.611, -5.976, -5.6056, -5.7899, -5.7744, -5.6162, -5.7104, -5.6848, -5.7231, -5.7293, -4.6869, -4.6898, -4.7104, -5.0078, -5.4015, -5.431, -5.6321, -6.1674, -6.1924, -6.1923, -6.3006, -6.3083, -6.3465, -6.3645, -6.428, -6.4465, -6.4814, -6.5805, -6.6206, -6.6338, -6.6494, -6.6591, -6.7227, -6.7508, -6.7686, -6.7757, -6.7871, -6.8379, -6.8418, -6.8469, -4.7343, -5.3619, -5.3697, -4.6624, -6.0416, -5.0559, -4.2556, -6.1895, -4.9831, -4.2439, -5.9019, -5.5891, -5.4741, -5.4016, -5.0794, -4.9275, -5.5398, -5.5019, -4.3019, -5.1731, -5.262, -4.2137, -4.8903, -5.0683, -4.9557, -5.2883, -5.0305, -5.1665, -5.042, -5.3816, -5.4671], \"loglift\": [30.0, 29.0, 28.0, 27.0, 26.0, 25.0, 24.0, 23.0, 22.0, 21.0, 20.0, 19.0, 18.0, 17.0, 16.0, 15.0, 14.0, 13.0, 12.0, 11.0, 10.0, 9.0, 8.0, 7.0, 6.0, 5.0, 4.0, 3.0, 2.0, 1.0, 1.4274, 1.4274, 1.4273, 1.4272, 1.4272, 1.4272, 1.4271, 1.4271, 1.4271, 1.427, 1.4269, 1.4269, 1.4269, 1.4268, 1.4267, 1.4267, 1.4266, 1.4266, 1.4265, 1.4263, 1.4263, 1.4263, 1.4263, 1.4262, 1.4262, 1.4262, 1.4262, 1.4262, 1.4261, 1.4256, 1.4099, 1.41, 1.4066, 1.4191, 1.3995, 1.4125, 1.4081, 1.4035, 1.3757, 1.3419, 1.3865, 1.286, 1.3761, 1.36, 1.3488, 1.3862, 1.3486, 1.339, 1.2921, 1.3169, 1.2949, 1.3102, 1.2488, 1.165, 1.2475, 1.2405, 1.2955, 0.8797, 0.9721, 1.081, 1.052, 0.9596, 1.1609, 1.2363, 0.5458, 1.1123, 1.1476, 1.0485, 0.9512, 0.3138, 0.6431, 0.8974, 0.5121, 0.1121, 0.3202, 0.1212, 0.3452, 0.0748, 1.749, 1.7489, 1.7488, 1.7487, 1.7486, 1.7485, 1.7484, 1.7483, 1.7482, 1.7479, 1.7477, 1.7477, 1.7476, 1.7476, 1.7474, 1.7471, 1.7471, 1.747, 1.747, 1.747, 1.7469, 1.7469, 1.7468, 1.7468, 1.7466, 1.7466, 1.7466, 1.7465, 1.7464, 1.7463, 1.7176, 1.728, 1.7314, 1.7283, 1.667, 1.693, 1.6893, 1.591, 1.6621, 1.5279, 1.6347, 1.5508, 1.7056, 1.5613, 1.6236, 1.6094, 1.4559, 1.4715, 1.3764, 1.2255, 1.2361, 1.5839, 1.2756, 1.0306, 1.2367, 0.9755, 1.1499, 1.1381, 1.2559, 1.1118, 1.2333, 0.6421, 1.2519, 1.29, 0.9571, 1.0362, 0.6633, 1.0204, 0.6182, 0.9512, 0.2999, 0.7511, 0.5732, 0.3967, -0.1412, 0.2886, 0.074, 1.9592, 1.9591, 1.959, 1.9588, 1.9587, 1.9586, 1.9584, 1.9584, 1.9583, 1.9582, 1.9582, 1.9582, 1.958, 1.958, 1.9579, 1.9579, 1.9578, 1.9577, 1.9577, 1.9576, 1.9575, 1.9574, 1.9573, 1.9572, 1.9571, 1.9569, 1.9569, 1.9569, 1.9568, 1.9568, 1.9398, 1.9281, 1.9121, 1.9429, 1.9416, 1.9142, 1.9189, 1.9305, 1.9104, 1.8517, 1.81, 1.8664, 1.8949, 1.8936, 1.7411, 1.8336, 1.8697, 1.8261, 1.8903, 1.793, 1.8212, 1.4818, 1.4872, 1.5053, 1.446, 0.9036, 1.6487, 1.2601, 1.4486, 1.1786, 1.4822, 1.3495, 1.0594, 0.991, 1.1791, 1.273, 0.9505, 0.3911, 0.7382, 0.7647, 0.139, 0.5107, -0.5202, -0.039, 0.0672, -0.0469, 2.1038, 2.1038, 2.1036, 2.1033, 2.1032, 2.1032, 2.1032, 2.103, 2.1029, 2.1028, 2.1027, 2.1026, 2.1024, 2.1023, 2.1022, 2.1022, 2.1017, 2.1015, 2.1012, 2.1011, 2.101, 2.101, 2.1008, 2.1007, 2.1005, 2.1005, 2.1003, 2.1002, 2.1001, 2.1001, 2.067, 2.0756, 2.0824, 2.037, 2.0266, 1.9309, 1.9966, 2.0171, 1.8491, 1.7885, 1.9599, 2.0088, 1.8882, 1.8292, 1.7822, 1.7503, 1.8452, 1.7132, 1.5332, 1.6005, 1.5845, 1.7952, 1.5792, 1.368, 0.9962, 1.0819, 1.1535, 1.0142, 1.3322, 0.8791, 0.7113, 1.058, 1.4915, 1.277, 0.2694, 1.0951, 1.1334, 0.6382, 0.8083, 0.478, 2.1606, 2.1604, 2.1604, 2.1601, 2.1601, 2.1601, 2.16, 2.16, 2.16, 2.16, 2.1598, 2.1598, 2.1596, 2.1594, 2.1594, 2.1594, 2.1593, 2.1593, 2.1593, 2.1592, 2.1592, 2.159, 2.159, 2.159, 2.159, 2.1589, 2.1588, 2.1586, 2.1585, 2.1585, 2.148, 2.1058, 2.125, 2.1315, 2.0586, 2.1117, 2.1166, 2.1461, 2.0932, 2.0886, 2.1157, 2.1324, 2.0905, 2.0255, 2.0613, 1.898, 1.8756, 1.798, 2.062, 2.0475, 1.711, 1.8127, 1.8988, 1.7575, 1.3454, 1.39, 1.6346, 1.9546, 0.6843, 1.5928, 1.8922, 1.3208, 1.0565, 1.4799, 1.0046, 1.5953, 1.0937, 0.3207, 0.2914, 0.976, 0.0935, 0.6344, 1.0436, 0.2477, -0.1612, 0.4862, 2.229, 2.229, 2.2287, 2.2287, 2.2286, 2.2285, 2.2285, 2.2285, 2.2285, 2.2284, 2.2283, 2.2282, 2.2282, 2.2282, 2.2281, 2.2281, 2.228, 2.228, 2.2279, 2.2279, 2.2278, 2.2278, 2.2278, 2.2278, 2.2277, 2.2277, 2.2276, 2.2276, 2.2275, 2.2274, 2.2078, 2.2023, 2.182, 2.178, 2.1887, 2.1389, 2.1845, 2.1375, 2.1112, 2.1368, 1.9404, 1.963, 1.81, 1.9363, 2.033, 2.0396, 1.5446, 1.6992, 2.0054, 1.8139, 1.6978, 0.4705, -0.2061, -0.1016, 1.6281, 1.4011, 0.5795, 0.6472, 1.687, 0.2307, 0.944, 0.7276, -0.1975, 0.1232, -0.3695, -0.015, -0.311, 2.298, 2.298, 2.298, 2.298, 2.2979, 2.2979, 2.2978, 2.2975, 2.2975, 2.2975, 2.2974, 2.2974, 2.2974, 2.2973, 2.2973, 2.2973, 2.2972, 2.2971, 2.2971, 2.2971, 2.2971, 2.2971, 2.297, 2.2969, 2.2969, 2.2969, 2.2969, 2.2968, 2.2968, 2.2968, 2.259, 2.2641, 2.2393, 2.1801, 2.2502, 2.163, 2.078, 2.2338, 2.0645, 1.8499, 2.152, 2.0721, 2.0119, 1.8982, 1.7451, 1.5045, 1.791, 1.7221, 0.692, 1.3058, 1.3842, 0.1534, 0.8706, 0.9724, 0.5813, 0.8761, 0.2417, 0.4451, -0.3436, 0.0371, -0.052]}, \"token.table\": {\"Topic\": [4, 3, 5, 3, 4, 2, 1, 2, 3, 4, 5, 7, 1, 2, 3, 4, 5, 6, 7, 4, 6, 7, 1, 3, 4, 5, 6, 7, 7, 3, 4, 1, 2, 4, 5, 6, 7, 7, 1, 1, 3, 4, 5, 6, 7, 1, 2, 3, 4, 5, 6, 7, 2, 3, 2, 3, 1, 3, 6, 1, 4, 6, 4, 2, 2, 1, 3, 3, 6, 3, 4, 1, 4, 5, 6, 7, 2, 5, 1, 2, 3, 4, 6, 3, 5, 7, 1, 2, 3, 5, 1, 4, 1, 7, 1, 2, 6, 4, 3, 1, 4, 5, 1, 2, 4, 7, 1, 2, 3, 4, 6, 6, 1, 2, 3, 4, 4, 5, 1, 2, 3, 4, 6, 4, 1, 2, 3, 6, 6, 4, 5, 1, 2, 3, 4, 5, 6, 7, 5, 7, 1, 4, 5, 1, 5, 6, 7, 1, 3, 4, 1, 2, 3, 4, 5, 6, 7, 1, 3, 4, 5, 7, 5, 6, 7, 1, 2, 2, 3, 5, 7, 6, 3, 3, 7, 1, 3, 6, 7, 1, 2, 3, 4, 5, 6, 7, 1, 2, 6, 4, 5, 7, 2, 7, 6, 4, 1, 2, 3, 4, 6, 7, 1, 2, 4, 5, 6, 1, 2, 4, 7, 2, 3, 5, 7, 3, 4, 7, 5, 5, 5, 1, 4, 6, 1, 2, 3, 4, 5, 6, 7, 1, 3, 6, 2, 3, 4, 2, 4, 5, 5, 3, 7, 3, 7, 3, 2, 7, 7, 3, 1, 4, 1, 3, 5, 6, 7, 1, 2, 3, 4, 5, 6, 7, 3, 5, 7, 1, 1, 3, 2, 3, 4, 5, 6, 7, 1, 4, 4, 1, 2, 3, 4, 1, 2, 3, 4, 1, 2, 3, 5, 6, 7, 7, 1, 2, 5, 6, 7, 3, 2, 5, 1, 2, 3, 6, 2, 2, 1, 2, 6, 4, 5, 6, 7, 1, 1, 1, 1, 4, 6, 7, 1, 4, 1, 4, 6, 7, 1, 3, 5, 2, 3, 4, 6, 6, 2, 6, 1, 4, 1, 3, 2, 3, 4, 4, 6, 7, 4, 6, 6, 1, 2, 3, 4, 5, 6, 7, 2, 5, 6, 2, 5, 1, 2, 3, 4, 5, 6, 7, 2, 2, 1, 2, 3, 4, 5, 6, 7, 5, 4, 3, 3, 3, 5, 1, 3, 5, 6, 7, 4, 3, 1, 2, 3, 4, 5, 6, 7, 1, 4, 7, 2, 3, 5, 5, 1, 2, 3, 4, 6, 5, 1, 5, 6, 1, 2, 3, 4, 5, 6, 7, 1, 2, 6, 7, 1, 2, 3, 4, 5, 6, 7, 3, 4, 1, 6, 7, 2, 6, 4, 6, 6, 1, 1, 2, 3, 4, 5, 6, 7, 1, 3, 6, 4, 5, 2, 1, 2, 3, 4, 5, 6, 7, 1, 2, 3, 6, 1, 2, 2, 6, 1, 2, 3, 4, 5, 6, 7, 1, 4, 6, 3, 2, 3, 3, 4, 5, 1, 2, 3, 4, 5, 6, 7, 6, 1, 2, 7, 6, 3, 1, 2, 3, 4, 5, 6, 7, 1, 5, 6, 1, 4, 5, 6, 7, 2, 3, 7, 2, 5, 7, 7, 2, 5, 1, 4, 1, 4, 6, 7, 1, 2, 4, 6, 5, 5, 1, 3, 4, 4, 1, 2, 4, 5, 6, 7, 2, 3, 4, 5, 6, 7, 7, 7, 7, 7, 7, 1, 3, 6, 7, 7, 2, 3, 1, 2, 6, 1, 2, 3, 4, 6, 7, 1, 2, 3, 4, 7, 2, 3, 7, 3, 2, 4, 1, 2, 7, 2, 1, 2, 4, 5, 6, 7, 2, 1, 2, 3, 6, 7, 1, 3, 4, 7, 2, 3, 4, 2, 3, 4, 5, 7, 1, 3, 4, 6, 7, 3, 6, 1, 2, 3, 4, 5, 6, 7, 1, 2, 3, 6, 1, 3, 4, 5, 6, 7, 2, 3, 5, 6, 2, 3, 5, 6, 7, 4, 3, 4, 5, 6, 4, 5, 2, 3, 6, 2, 7, 3, 1, 4, 4, 5, 4, 1, 2, 3, 5, 6, 7, 3, 1, 2, 3, 4, 5, 6, 7, 5, 6, 7, 6, 7, 6, 7, 3, 4, 7, 3, 5, 1, 2, 4, 6, 5, 1, 2, 3, 5, 7, 3, 7, 5, 7, 1, 2, 3, 4, 5, 6, 7, 5, 6, 7, 1, 2, 3, 4, 5, 6, 7, 1, 2, 3, 4, 5, 6, 7, 4, 2, 3, 1, 2, 3, 4, 3, 2, 6, 7, 1, 3, 4, 5, 6, 7, 1, 2, 4, 7, 4, 5, 3, 1, 2, 3, 4, 6, 7, 1, 2, 3, 5, 6, 7, 6, 1, 3, 4, 5, 6, 7, 5, 2, 4, 2, 6, 3, 5, 5, 1, 2, 3, 4, 5, 6, 7, 1, 2, 3, 4, 4, 1, 2, 4, 1, 1, 2, 3, 4, 5, 6, 7, 1, 3, 4, 6, 7, 1, 3, 4, 6, 2, 3, 5, 6, 1, 4, 6, 7, 6, 2, 3, 6, 1, 2, 3, 4, 5, 6, 7, 1, 2, 3, 4, 1, 2, 3, 4, 7, 3, 4, 6, 1, 2, 3, 4, 6, 7, 1, 2, 3, 4, 5, 6, 7, 1, 7, 1, 2, 3, 4, 6, 7, 5, 5, 4, 1, 2, 4, 5, 6, 7, 1, 2, 3, 4, 7, 1, 4, 6, 1, 2, 3, 4, 5, 6, 7, 3, 7, 1, 6, 7, 1, 3, 4, 5, 6, 7, 1, 2, 3, 4, 6, 7, 1, 3, 4, 6, 7, 2, 6, 1, 3, 4, 7, 7, 6, 2, 5, 1, 2, 3, 4, 5, 6, 7, 1, 2, 7, 1, 1, 2, 3, 4, 5, 6, 7, 3, 1, 2, 3, 4, 7, 7, 3, 3, 5, 7, 4, 3, 4, 1, 2, 3, 4, 5, 6, 7, 5, 1, 2, 3, 4, 1, 3, 4, 5, 6, 7, 2, 1, 1, 6, 6, 3, 1, 2, 3, 4, 5, 6, 7, 1, 2, 3, 4, 6, 7, 2, 5, 2, 4, 2, 2, 4, 7, 2, 7, 1, 2, 3, 4, 1, 7, 7, 1, 3, 5, 1, 4, 1, 3, 4, 6, 1, 2, 3, 4, 7, 1, 2, 3, 4, 6, 7, 1, 2, 3, 4, 1, 2, 3, 4, 6, 7, 1, 2, 3, 4, 5, 6, 7, 3, 7, 1, 1, 2, 4, 5, 7, 2, 6, 7, 4, 1, 4, 6, 1, 3, 4, 5, 6, 7, 1, 2, 3, 4, 5, 6, 7, 1, 3, 5, 6, 7, 3, 1, 4, 1, 2, 3, 5, 6, 7, 1, 1, 3, 5, 1, 3, 4, 5, 6, 7, 3, 4, 1, 7, 1, 4, 1, 1, 4, 1, 3, 5, 6, 7, 7, 1, 2, 3, 5, 6, 7, 1, 2, 3, 4, 5, 6, 7, 4, 1, 4, 6, 7, 6, 1, 6, 7, 7, 7, 1, 2, 3, 4, 5, 6, 7, 2, 5, 7, 1, 3, 7, 1, 1, 4, 1, 2, 3, 5, 6, 7, 5, 1, 2, 3, 4, 5, 6, 5, 5, 7, 2, 3, 4, 1, 2, 3, 4, 3, 4, 1, 1, 2, 4, 7, 4, 6, 1, 2, 3, 4, 5, 6, 7, 1, 2, 4, 5, 7, 1, 2, 3, 4, 5, 7, 1, 3, 4, 5, 7, 1, 1, 2, 5, 6, 7, 1, 2, 3, 4, 5, 6, 7], \"Freq\": [0.9983664060572576, 0.9970936844818518, 0.9999651669241905, 0.9970987797544038, 0.9971575297100097, 0.9984431385814955, 0.009170263083732174, 0.01397373422282998, 0.170596005303716, 0.6765616319553515, 0.0004366791944634369, 0.12925704156117732, 0.14835769499247362, 0.16010571148451952, 0.008317179817377637, 0.14336738710204702, 0.01549074740986585, 0.15365989712605185, 0.37063432561189097, 0.972205779014939, 0.027355255459058498, 0.9990981815798844, 0.2109021089912791, 0.23786860002642354, 0.06251932747451402, 0.05353049712946587, 0.2766413159923775, 0.15844490503734135, 0.9990585811836424, 0.6000425775783184, 0.39977836731155464, 0.2333900953613829, 0.15753704677119632, 0.19673116880342506, 0.14764978442153964, 0.02479421173836981, 0.2398801957755165, 0.9995278080555003, 0.9995884751928854, 0.10510294022593633, 0.13400624878806883, 0.030722397912196775, 0.055987527774200706, 0.5885764652652434, 0.08549719945302128, 0.10520231887356714, 0.32580630997554616, 0.11127609109611514, 0.018450515619438244, 0.34402762664319014, 0.04904857568397248, 0.04629818826244131, 0.027889798376243634, 0.9718522049567974, 0.10180658874276678, 0.8980319181676372, 0.11975520685773909, 0.21982919587534835, 0.6601547475528291, 0.8757873609742843, 0.011435314483680434, 0.11277586008043462, 0.9973194107764319, 0.9988141283599378, 0.9976276968645305, 0.9993387781539457, 0.9997000757555815, 0.9993249470482934, 0.9991369583573187, 0.9995913924691067, 0.9985511786386208, 0.2707676282451711, 0.7021601207035792, 0.008872611547016906, 0.014226773687458142, 0.0038244015288865976, 0.9982681571790687, 0.9980026545594591, 0.042572990553880086, 0.05695219691248503, 0.150755815356578, 0.7294624084382335, 0.02028898488818865, 0.015910027705394653, 0.9649777673489365, 0.019022859212971865, 0.042955677783097695, 0.047251245561407466, 0.20352809235324862, 0.7061095224154916, 0.9983150747791629, 0.9992360850778863, 0.9990519712544255, 0.9998266016069103, 0.9980303813030172, 0.043410459721465476, 0.9566379086767391, 0.9956026784004118, 0.9976886200353573, 0.7690665947179887, 0.2309029028517889, 0.9974083787308667, 0.2176115989422401, 0.5490795188244918, 0.04018458386118057, 0.19312754921261371, 0.5885214691813763, 0.17969834819944494, 0.005345932070651546, 0.06874681066294006, 0.15765810194324997, 0.9992366634900822, 0.08053978602584688, 0.8012780623223518, 0.053421555655142956, 0.06473968185326646, 0.06880106639281684, 0.9302184996987992, 0.05144199738117463, 0.8198041262979409, 0.09919450724525682, 0.027196793697424292, 0.0022136925102554657, 0.9991426398745165, 0.029039830405593808, 0.03695978415257394, 0.044879737899554066, 0.8887948093833257, 0.9989471332007996, 0.9637397979237367, 0.03623760983173474, 0.07366691304787898, 0.06987628548327939, 0.4970013386113699, 0.06644326429269862, 0.1873857399858669, 0.030325020516796784, 0.0753119023683656, 0.9716700245908211, 0.02663847325901729, 0.08261530139600595, 0.9166585407702909, 0.9990986515390853, 0.017853788109174207, 0.9057364044615684, 0.05424804848556778, 0.021287208899400015, 0.976107288205792, 0.02343193078683314, 0.9977997252902788, 0.250968505012175, 0.04181035289096429, 0.1346867856487552, 0.2953321618964806, 0.009255726975862324, 0.22277577341903113, 0.0452147582154194, 0.15318103031376556, 0.0008167235028577548, 0.11007617877405072, 0.6377703086760335, 0.09809756739880365, 0.01898796345484228, 0.014404661931259659, 0.9664218641154207, 0.9852372555803779, 0.014325682421665906, 0.020937276319187317, 0.07296323565777398, 0.9053785850751606, 0.9986340749134164, 0.9993315931971736, 0.9976764219608835, 0.046508406877461626, 0.9531037902559258, 0.023024676651758294, 0.3028570096104999, 0.6575784785730834, 0.016502327975662943, 0.27078513743049043, 0.15098017367501687, 0.16199589450109106, 0.11958896922947213, 0.15422009156503869, 0.07883800199053098, 0.06357438881976152, 0.010583919944679115, 0.035138614216334664, 0.9538228654144819, 0.0516393814528786, 0.9319678843162377, 0.015573781708011008, 0.9686841154101664, 0.03128887826095218, 0.9993235510469555, 0.997010282818612, 0.08144026371469457, 0.5425527427753596, 0.04645536169641028, 0.31027593429330813, 0.012273391855594814, 0.006882275806875597, 0.054299473475005244, 0.21248352100916781, 0.22570060214959545, 0.00319903874736465, 0.5043537140910952, 0.003521944044152933, 0.29272386355545377, 0.6044662249493333, 0.09921819507242262, 0.06869137853533942, 0.8709763189978119, 0.00834922833026225, 0.05199292187481492, 0.9375087458863484, 0.045215623275348914, 0.01717048985139832, 0.9986844247158579, 0.9989643783893789, 0.9996078509079291, 0.3153260084229581, 0.47907542157544086, 0.20560389655500125, 0.1727346926620688, 0.01846181604619163, 0.027020742259177024, 0.028435440806777915, 0.06061983276469819, 0.053970749590974004, 0.6387363942418024, 0.04864671022429467, 0.803946944123413, 0.14736650026279388, 0.00032385951942665215, 0.9806466248239027, 0.018891805299888043, 0.016848871413663542, 0.9352916067712379, 0.047678721234409596, 0.9990368035567744, 0.9693242493973739, 0.03060395366186072, 0.8754064795853744, 0.12451076843118017, 0.9997641224450692, 0.9164082794776205, 0.08309644747312439, 0.9990202987455732, 0.9973688303225715, 0.7659204847563807, 0.23402003201791263, 0.6844646272735212, 0.0945144051304533, 0.10184047912267752, 0.0842901040643821, 0.03477872488616339, 0.1138655706917371, 0.3375030936598557, 0.2228187992850475, 0.02506554045094655, 0.14075749474338076, 0.10933110106242014, 0.05057193211585447, 0.06676741896679056, 0.9029096109222098, 0.03028479974232061, 0.9998361006063463, 0.9995030058943609, 0.9970504926231729, 0.058123337284441065, 0.09994378728178281, 0.147198533041491, 0.01252250762632267, 0.011813686439927047, 0.6703085686014606, 0.9152605108291584, 0.08452622322231766, 0.9966593516925354, 0.0593477466419609, 0.4900646546743896, 0.15117119155366435, 0.29928584679958825, 0.10602236420295945, 0.6225250699514618, 0.11586138672656453, 0.15549333726557193, 0.2634803920667385, 0.0043951287718926755, 0.29492829621045336, 0.049331531560381586, 0.19209743856461955, 0.1957347865137721, 0.9991183436075716, 0.26262040130363484, 0.00849354467346814, 0.04076901443264706, 0.5816379392390981, 0.10667892109875982, 0.9974949948732138, 0.9982740161174661, 0.999748370409104, 0.33094677237285786, 0.0033978108046494645, 0.6350993795433371, 0.030580297241845182, 0.9989181734285736, 0.9995123689333194, 0.01997522199365131, 0.9787858776889142, 0.9996070973146906, 0.2587749780253346, 0.5909486692367542, 0.03224795215453329, 0.11791275757117693, 0.9993053895051682, 0.9980802268290299, 0.9982615596724219, 0.8352092759447539, 0.011683675466817195, 0.10017884113132368, 0.052981419443586884, 0.9915836177359265, 0.00805931532557502, 0.8892592026988073, 0.006664161453235441, 0.061927939358114706, 0.04209799552165803, 0.9494826829164068, 0.025892729740283015, 0.02465384314983885, 0.36845929458715937, 0.62374228270891, 0.007720422704911698, 0.9992555903495874, 0.9991998966906358, 0.9971843272606374, 0.9996163234281044, 0.19391024871999052, 0.8061126053931035, 0.9599509053728825, 0.0398346974338407, 0.9564409477332747, 0.03102699830446448, 0.010791999410248516, 0.015124286741871176, 0.9735437617974033, 0.011178820635296087, 0.9963134535514225, 0.9995098277015071, 0.9988163389528277, 0.0716205137210831, 0.27348331395986536, 0.17395373884213244, 0.04230962732277507, 0.3272624185689349, 0.04498583868957711, 0.06626809098747903, 0.0029176903383787115, 0.9872734682488965, 0.009482493599730813, 0.028245989651238215, 0.9712274903156525, 0.12624341227603564, 0.22806869086183806, 0.0969250408724563, 0.11187491864198684, 0.3146949270486178, 0.05589593188274473, 0.06627779144491872, 0.9980784453968146, 0.9991591318522007, 0.33043475491030233, 0.02671746844605992, 0.20839625387926736, 0.3362953608920187, 0.003016488372942249, 0.07166314520289943, 0.02348551661790751, 0.9995295503626169, 0.9981968980321326, 0.9974043170771347, 0.9982927043850944, 0.04378266660226909, 0.95609125440769, 0.8362623422558407, 0.03328001296984315, 0.031466388284838075, 0.06293277656967615, 0.03600044999735076, 0.9983370453150078, 0.9995953890959212, 0.2893037873447989, 0.30845579924746486, 0.09633823345756107, 0.06128643808853097, 0.09930137492174712, 0.07133221036955197, 0.0740062648616223, 0.8952746393159049, 0.04783392351024729, 0.05682398714869802, 0.05150362052077828, 0.05536639205983666, 0.8929440207789935, 0.9982110800076716, 0.18765591764904374, 0.0073557014210655245, 0.5985488202862388, 0.06312218196216694, 0.14326511488703203, 0.9994445518479517, 0.2752374701903924, 0.1763097796919713, 0.5483507261676285, 0.20782995024585887, 0.012482936948381408, 0.09395052545360744, 0.07029864491983215, 0.03416382743767543, 0.01905290376331899, 0.5621701604648259, 0.0061011803108828415, 0.09369669763141507, 0.026583714211703812, 0.8735582809403326, 0.11190233627375366, 0.5988216355632954, 0.10849547357689465, 0.04284785007203448, 0.034330693329886953, 0.022537707071528842, 0.08124057200202257, 0.9602432650213384, 0.039337261827092344, 0.017668142117565146, 0.9607052276426049, 0.021349005058724554, 0.9973343039192535, 0.9991570070695673, 0.9980615148564969, 0.9998400603712366, 0.9990357601194866, 0.9997259900476717, 0.25876005602427754, 0.17152740831652982, 0.45831038743863306, 0.021582170611631882, 0.019435253116233946, 0.03615861044880734, 0.03423768426871445, 0.30057830319570467, 0.5034576557187206, 0.19583798670876806, 0.9990913347829983, 0.9994638370267381, 0.9994986558329771, 0.28129342558748277, 0.07712532053834724, 0.059962098017639166, 0.3598599327497063, 0.006507175968410951, 0.05847723907182727, 0.1567399634270262, 0.5158655496228383, 0.09950033791287673, 0.3646285675068153, 0.019953040255820887, 0.999257854095129, 0.9989758880881768, 0.998059048821849, 0.9984832900147311, 0.17423343755111384, 0.23203515859947996, 0.149562692743367, 0.13524537801081365, 0.1423448729195178, 0.06058235655427524, 0.10595996151240913, 0.9242188958591967, 0.04604510437466127, 0.029461062544804455, 0.9998970121727753, 0.99874745848459, 0.9976170630478927, 0.9981642227336933, 0.8411517525386327, 0.15879899684873208, 0.6868842376860532, 0.0017994109584535806, 0.05430949438241716, 0.04902031671665966, 0.04934748234546941, 0.121705613917224, 0.036915188450699216, 0.9991462609713382, 0.9990016476528774, 0.9994112102720781, 0.9992290961614738, 0.9988955229445282, 0.9984214845765829, 0.04729781594056869, 0.46118088807338414, 0.054474036290172216, 0.3865916886820505, 0.0033162836464076897, 0.014896093755995196, 0.03223862626753705, 0.9596692192242867, 0.02168253997343621, 0.018646984377155142, 0.005955035951447853, 0.15807913616570665, 0.5681645664585929, 0.12397302117105076, 0.1437329131917641, 0.9990320373935976, 0.20820985193912422, 0.7917115357685217, 0.12623402070431647, 0.8735569557767456, 0.9997500672879005, 0.9998374615750957, 0.9979102669848727, 0.9993558667833321, 0.9825614823165335, 0.01735861285212796, 0.8733230605261676, 0.07741139378921913, 0.043477632128191564, 0.005655626943504593, 0.0929488860308714, 0.06817954002813918, 0.09243817786586661, 0.7461446290719952, 0.9991672018109855, 0.9991304885554404, 0.9996371956935951, 0.9986286493504772, 0.9999535489698957, 0.9991436320095765, 0.03329975221969906, 0.051515001297141275, 0.0031307459351853813, 0.02362290114730788, 0.13746820788132175, 0.7510944111776565, 0.1297497915142423, 0.037401185454283364, 0.008773117575696097, 0.7646464581764599, 0.046636046060279254, 0.012467061818094455, 0.9996455033560054, 0.999872572982091, 0.99859761047196, 0.9986948999597631, 0.9993541096647099, 0.023297376135808224, 0.04771751738659516, 0.9136501123139249, 0.015438020330957257, 0.9994767242374792, 0.014910619702022456, 0.9841009003334821, 0.917878458916278, 0.04119398308323915, 0.04092706742611233, 0.10486589140446076, 0.6080349096255072, 0.05992336651683472, 0.08988504977525208, 0.06348131640377178, 0.07378064502385275, 0.01655595835802493, 0.04527547795868042, 0.9112534630937396, 0.00743328742605201, 0.01959684866868257, 0.0911888574415176, 0.8820163624946789, 0.026727768560444815, 0.9966668799118061, 0.9989776477806681, 0.9990257875711942, 0.9995320171040524, 0.9986473275304832, 0.9991251736196214, 0.997014291325565, 0.9240111276583943, 0.04082271384099256, 0.0026889212709635814, 0.0036667108240412472, 0.006600079483274245, 0.0222447123325169, 0.998561399883886, 0.013544507088396676, 0.0054178028353586705, 0.08776840593281046, 0.7996676984989398, 0.093727989051705, 0.009000856542361524, 0.6203468034231899, 0.3303120087955837, 0.040309591349784527, 0.047003197395382744, 0.936582229582071, 0.0162480188527249, 0.019226219859355874, 0.6206804184784509, 0.02702553546267948, 0.021946911348887366, 0.3112471064024026, 0.01649798581837664, 0.23220529572406745, 0.7249862553084763, 0.019581721485362927, 0.006784218467369833, 0.9335335048977825, 0.06617124218177471, 0.011157434463465074, 0.08375514137241116, 0.03406736656178003, 0.04953900901778493, 0.7689703832220129, 0.021571039962699143, 0.031092050704856006, 0.017445829299892135, 0.9452060848890278, 0.014314526605039702, 0.022813776776782025, 0.7296154040004829, 0.02629771179817519, 0.0884382307879373, 0.028927482977992712, 0.09379517208015818, 0.032920839214011906, 0.9986024069115018, 0.02231363165750761, 0.9571778545496369, 0.020774760508713984, 0.14529360221465618, 0.052299338215122414, 0.751902339688538, 0.0034972201845978514, 0.04689454338438028, 0.9979816554220332, 0.09323605932013564, 0.8656917980960981, 0.040602800026510684, 0.9996667512049919, 0.9983210617544085, 0.9982774876994859, 0.08059255755028384, 0.3313249588178335, 0.587813971338975, 0.92082333872278, 0.07914017158413433, 0.9993928813252828, 0.9995818491470885, 0.9958078907516691, 0.3317324955910723, 0.6682071061288656, 0.9998495227076587, 0.031296158329736555, 0.333097871214948, 0.019893682039057347, 0.5667273322346092, 0.01698241149675627, 0.03153876420826165, 0.9983622183121279, 0.04653908088932701, 0.4528126789231817, 0.1692242255206506, 0.18035103280188264, 0.019931498260293896, 0.017319117420352463, 0.11388045365226172, 0.9982846593211284, 0.9983880740564154, 0.9992232694441284, 0.20210017830019153, 0.797549696916192, 0.8272300175149915, 0.17222568110854083, 0.021909727357837153, 0.016345352155846763, 0.9615935895939639, 0.9988836736341771, 0.999470644229364, 0.45641420568231955, 0.2585075216256527, 0.1712604246346581, 0.11376400563911013, 0.9976750907787876, 0.011244136650077242, 0.025165448693030015, 0.006425220942901281, 0.9520035697065398, 0.00481891570717596, 0.9520447715915473, 0.04722580103509473, 0.13559734667921974, 0.8638053195861406, 0.42878091859945416, 0.029249027981275464, 0.028511657527965997, 0.014255828763982998, 0.034533516229993295, 0.06378254421126876, 0.400883736449246, 0.07550661466116171, 0.9118875770617222, 0.012197222368341507, 0.32831787679625923, 0.12679453421051023, 0.1140138127781096, 0.1177851732007852, 0.07972236893489255, 0.17226037930609944, 0.0611100068489102, 0.06196949199671371, 0.32261445786435905, 0.05876316832802203, 0.024601247057961604, 0.4425309630734278, 0.039000555170086056, 0.05054332037737609, 0.9949257852068026, 0.9788607062151228, 0.020478257452199222, 0.017121256036395097, 0.9416690820017303, 0.03676034384284829, 0.0045320971861045846, 0.9993543382573311, 0.9952793047294726, 0.056968640962282865, 0.9427183580707712, 0.6263140967325842, 0.10509131469579165, 0.04151268388631989, 0.06946288332231228, 0.06225108603523336, 0.09533206662571472, 0.04749394411824405, 0.5921555313265252, 0.15969456073868674, 0.200642487769736, 0.9992268305666675, 0.9977488428854452, 0.9987233155926286, 0.3771594807674683, 0.22109752582007258, 0.23491246256710388, 0.08528967305264648, 0.044488779354846485, 0.03705447017318135, 0.014497129697110337, 0.05342460758749921, 0.732910445798356, 0.0735595099445969, 0.01691331797996206, 0.10872847272832753, 0.9998361946484424, 0.04183249758405667, 0.08827366015618737, 0.7341957838693335, 0.023752350323150817, 0.08047438094560053, 0.03119711684234734, 0.9976353033909852, 0.9825506556345942, 0.016973043955300093, 0.8819173007955523, 0.11768828845075782, 0.013564001206290376, 0.9856507543237674, 0.9997970663464704, 0.20441980896356077, 0.12590661418007024, 0.08151097131158742, 0.1665907242042426, 0.217338798287026, 0.12226645696738114, 0.08201060073293691, 0.022238790047000974, 0.7456762993150936, 0.164953807913842, 0.06710313170703773, 0.9980209827125325, 0.9995071170295863, 0.8473875346356278, 0.15185361967963507, 0.9996194352242096, 0.18043347323766493, 0.04637585047360083, 0.1355817117467646, 0.24842650418018097, 0.22845782812112547, 0.032845672770035195, 0.1278990591196825, 0.8679893577367155, 0.032334877121740276, 0.052350682042179235, 0.040483094162391584, 0.0068367625829211486, 0.9346040745235239, 0.05482954976571197, 0.0031271606330253976, 0.007296708143725928, 0.022635052815080037, 0.2078309394839167, 0.7695917957127213, 0.9985643000176144, 0.11678806424209584, 0.7750684801912937, 0.0784389066087538, 0.02970234903080226, 0.9993943672072726, 0.041807405048886095, 0.9538428810679511, 0.0041609265688464835, 0.3121769919513667, 0.0482955380758453, 0.06405866508671147, 0.2737417928993398, 0.0028172397210909756, 0.033337336699576545, 0.26562545941714916, 0.03611858341330051, 0.8694888250957952, 0.06386822676742164, 0.030392466530704088, 0.02740893579867446, 0.7572860553375431, 0.11020676269050356, 0.05824398857218323, 0.04682359865606887, 0.457738487737488, 0.5420721047901218, 0.9988600621571694, 0.06868119927432957, 0.5968330177324553, 0.16113665983592707, 0.1066539777192714, 0.014858913304542457, 0.05184109752918146, 0.03239911197138594, 0.2252722785413768, 0.015036051964621096, 0.006175521342612236, 0.6957754046009786, 0.004117014228408157, 0.021211573307233333, 0.9808439261401378, 0.019118144323070484, 0.006743793778404447, 0.12386101239669502, 0.19084936392884586, 0.06833711028783174, 0.4369978368406082, 0.1733155001049943, 0.9980111556396145, 0.9992301206622608, 0.9995897986474043, 0.07284002546059506, 0.5984474879800922, 0.13120932799997007, 0.014065380542474394, 0.003810218360209202, 0.17964774226007643, 0.04567937230023187, 0.8285730586680947, 0.043141629394663435, 0.033353192473185175, 0.049123451957789034, 0.08040485122204932, 0.15316143610834274, 0.7663955087213872, 0.04975170074438021, 0.6316576689444728, 0.2220983096521277, 0.06990428838767347, 0.005877838062627198, 0.017213668611979652, 0.003358764607215542, 0.9143862203719464, 0.08519126276757265, 0.03645304568830634, 0.9499554891310875, 0.013057807410736599, 0.23669558796503065, 0.010077947934069199, 0.5651141209786505, 0.013210283102766384, 0.06714092339859615, 0.10772509210606401, 0.11545413835880654, 0.034763424768991934, 0.03391553635999213, 0.03914418154882425, 0.7492507240861594, 0.027697688027326906, 0.24754125580395053, 0.09585567018640138, 0.5917971035701662, 0.04930210993458279, 0.01546059196554861, 0.9972707184570874, 0.9994433289628614, 0.005788055508177696, 0.18907647993380475, 0.772062293063036, 0.03279898121300694, 0.9989134073509444, 0.9994122305625948, 0.06465400619292769, 0.9344836771390166, 0.6341813271657176, 0.034675698335236475, 0.08404957330046074, 0.03722538203635681, 0.12655430041207846, 0.042114775486740495, 0.041184890842802496, 0.06421821550730208, 0.8914999329248996, 0.04395685339537255, 0.9995596675667602, 0.13108258357564162, 0.450126193513225, 0.25920156091392094, 0.04069259333609049, 0.022455016490783828, 0.05927212474724665, 0.03715906282231232, 0.9970370402707738, 0.11167244707558596, 0.0517179428994995, 0.03524482034632559, 0.7598706647493131, 0.0413743543195996, 0.9993284874987506, 0.9995031053666762, 0.08490531558020713, 0.8136325333514327, 0.10105295228564529, 0.9987511065710235, 0.08973997689933096, 0.9089791208512877, 0.40031855426896884, 0.08891107352019442, 0.0852474560996206, 0.03636276992062072, 0.12472703487058025, 0.13555384456123123, 0.12893746086138896, 0.9975603705975256, 0.08734632360595099, 0.48731800721817403, 0.13151723778067842, 0.2938213815178655, 0.3306378404464661, 0.08210839704420575, 0.0706462852420616, 0.30584000241298115, 0.12806705686626454, 0.08265946011161653, 0.9982874277724006, 0.9984213152548075, 0.9722600570939498, 0.027607579099698396, 0.9997182187529803, 0.9985080319118805, 0.11173529723349894, 0.14832368171802, 0.40662360372316775, 0.0859827035386245, 0.1229228994124198, 0.027863462030519887, 0.09660740749470657, 0.0844436871146358, 0.02368542443459297, 0.014932115404417306, 0.03810263930782347, 0.8217812477741386, 0.01699171752916452, 0.9964327647938322, 0.9992787078280085, 0.8534075995831174, 0.14646534907593267, 0.9981687454248018, 0.9964164428033805, 0.8981622381367087, 0.10156366613710052, 0.061763792203526756, 0.9373563757947002, 0.023212413451648168, 0.048306914480457, 0.0028231313657409935, 0.9256734067001857, 0.9995937170075844, 0.9994855340982357, 0.9984963426704706, 0.707139990939783, 0.17385050400757568, 0.11901488987821271, 0.01968051021492198, 0.9791053831923686, 0.39891510064166363, 0.5434954413504147, 0.03469400511532988, 0.02282153188194703, 0.019542582518386933, 0.058925350334628625, 0.007043265780738438, 0.46217711651352655, 0.4521578229381099, 0.06635054248514037, 0.48236200206672925, 0.07356535875536924, 0.28910799482845634, 0.02847275706643888, 0.06016641425351564, 0.023471414711864737, 0.41412735128202316, 0.12502821885539656, 0.43736977658206483, 0.040933960150764157, 0.6105256609720355, 0.052604493470343724, 0.26302246735171864, 0.014109152222178283, 0.018986390027375715, 0.1873169056252454, 0.005622184399423754, 0.0334653833299033, 0.3646388167626263, 0.1709857985602526, 0.13270140003084321, 0.10530440621142904, 0.9824584220691353, 0.016181668128197522, 0.9980878193462258, 0.04944958323008285, 0.013213800477460154, 0.5948934709800876, 0.3398807442398256, 0.0025882701966159064, 0.9983289943082645, 0.9987621912989217, 0.9989337339251827, 0.9958575822824538, 0.6210596387160555, 0.3789206021717856, 0.9983084701263647, 0.41406600058657694, 0.3479759789803879, 0.019878590165196792, 0.013411757668417582, 0.08757902920249042, 0.1170949611819535, 0.25851751958314556, 0.23467874009240278, 0.13449824984580702, 0.1081387534904842, 0.07158835895407346, 0.08833312098306952, 0.10424964747084642, 0.8259366004410073, 0.05222128214997647, 0.059724339930145504, 0.038865839301275594, 0.023409540274127384, 0.9992200834161863, 0.876381002678366, 0.12346425824738759, 0.09037940648088011, 0.30928171115910325, 0.029875936861663073, 0.46270122340783215, 0.07732042778977581, 0.030345684296594882, 0.9989946625224422, 0.8294148713677, 0.0649506325712825, 0.1056624421177748, 0.3705633670007389, 0.02591842075430499, 0.03414927058844239, 0.3315106114047253, 0.16724386365108962, 0.07057515921611426, 0.9560418467683146, 0.04378817618786174, 0.9992794858856149, 0.99928702809976, 0.9824727743321843, 0.017510757682951884, 0.99801845742229, 0.9792027458436664, 0.020698977092059246, 0.9497502258654067, 0.03995963219574865, 0.010054359068607724, 0.9977989516081713, 0.9994472300958369, 0.9995208212715931, 0.3640055443206564, 0.014486249435284378, 0.3797246660483054, 0.046386820000219126, 0.1460953666452084, 0.04931489169458512, 0.26835893963520546, 0.33041532076333685, 0.09849136785014256, 0.06296563213367176, 0.09810168884776811, 0.07436374295312445, 0.0672845744099886, 0.9980430540080196, 0.027050408909880218, 0.0402100672984706, 0.33020994660259184, 0.6021762199667929, 0.9982264961548766, 0.08338951089220784, 0.9123793544676857, 0.003567465706618517, 0.9983491653259353, 0.9998124698687765, 0.3388218754960124, 0.18722974610446788, 0.11840730411230412, 0.1251404570675123, 0.039437038737648, 0.10599906509484901, 0.08498200908466343, 0.688570517960179, 0.07013991385681903, 0.24123879462875633, 0.9992213000678275, 0.998228537130254, 0.9995540159912553, 0.9985804482090852, 0.9998543142452289, 0.9987220420631021, 0.05394377365267566, 0.024004979275440666, 0.0032366264191605394, 0.05888861957083759, 0.057540025229520696, 0.8024136330835504, 0.9995410069217592, 0.015952771167053553, 0.42385907189424565, 0.02726106465255987, 0.016962440228259473, 0.5062480672886488, 0.009490889175335658, 0.9979542799636919, 0.9993784178380782, 0.9986933505214289, 0.1904358967928689, 0.4580888645753732, 0.3513517637092258, 0.0132901814659092, 0.10841990143241716, 0.8613636408732128, 0.01688752381758387, 0.8467594565366752, 0.15300899506070748, 0.9997871913293399, 0.043668781421518595, 0.06625092523881075, 0.0013459555917591348, 0.8886297918036421, 0.021015727361897742, 0.9789177695856813, 0.0976089448801937, 0.2366321797170513, 0.112681990341453, 0.03424361784402598, 0.43170372923024203, 0.08209687867734433, 0.004829228157490843, 0.16069904655793854, 0.528514194954495, 0.003307882100462214, 0.22888410017714353, 0.07853552341742547, 0.001450181250140432, 0.021299537111437596, 0.02302162734597936, 0.006435179297498167, 0.946605811029167, 0.001268908593872878, 0.7557721433300546, 0.04934324374210202, 0.12588709109602336, 0.03046018007769851, 0.03855292164815716, 0.9987603218906113, 0.0964973391588953, 0.022178231678832865, 0.18286025457050936, 0.12337559344516294, 0.575165266584831, 0.5781623440645691, 0.06681820440451618, 0.08378123138158716, 0.06285782827143968, 0.03991918951835506, 0.09722197693056799, 0.07123419903077846], \"Term\": [\"aarp\", \"abele\", \"abortion\", \"absentee\", \"aca\", \"acorn\", \"act\", \"act\", \"act\", \"act\", \"act\", \"act\", \"administration\", \"administration\", \"administration\", \"administration\", \"administration\", \"administration\", \"administration\", \"affordable\", \"affordable\", \"afghanistan\", \"agency\", \"agency\", \"agency\", \"agency\", \"agency\", \"agency\", \"alien\", \"amendment\", \"amendment\", \"american\", \"american\", \"american\", \"american\", \"american\", \"american\", \"amnesty\", \"amp\", \"area\", \"area\", \"area\", \"area\", \"area\", \"area\", \"article\", \"article\", \"article\", \"article\", \"article\", \"article\", \"article\", \"assault\", \"assault\", \"attorney\", \"attorney\", \"austin\", \"austin\", \"austin\", \"average\", \"average\", \"average\", \"axelrod\", \"bachmann\", \"bain\", \"balanced\", \"ballot\", \"barne\", \"barrel\", \"barrett\", \"beneficiary\", \"benefit\", \"benefit\", \"benefit\", \"benefit\", \"benefit\", \"benghazi\", \"bible\", \"bill\", \"bill\", \"bill\", \"bill\", \"bill\", \"birth\", \"birth\", \"birth\", \"black\", \"black\", \"black\", \"black\", \"bls\", \"boehner\", \"bonus\", \"border\", \"bracket\", \"bridge\", \"bridge\", \"broun\", \"broward\", \"budget\", \"budget\", \"buffett\", \"bush\", \"bush\", \"bush\", \"bush\", \"business\", \"business\", \"business\", \"business\", \"business\", \"cain\", \"campaign\", \"campaign\", \"campaign\", \"campaign\", \"cancer\", \"cancer\", \"candidate\", \"candidate\", \"candidate\", \"candidate\", \"candidate\", \"cantor\", \"car\", \"car\", \"car\", \"car\", \"carbon\", \"care\", \"care\", \"case\", \"case\", \"case\", \"case\", \"case\", \"case\", \"case\", \"catholic\", \"catholic\", \"cbo\", \"cbo\", \"cdc\", \"cell\", \"cell\", \"cell\", \"cell\", \"census\", \"census\", \"chafee\", \"change\", \"change\", \"change\", \"change\", \"change\", \"change\", \"change\", \"child\", \"child\", \"child\", \"child\", \"child\", \"china\", \"china\", \"china\", \"christie\", \"christie\", \"church\", \"church\", \"church\", \"cia\", \"cicilline\", \"circuit\", \"citizenship\", \"citizenship\", \"city\", \"city\", \"city\", \"city\", \"claim\", \"claim\", \"claim\", \"claim\", \"claim\", \"claim\", \"claim\", \"climate\", \"climate\", \"climate\", \"clinic\", \"clinic\", \"clinic\", \"clinton\", \"clinton\", \"coal\", \"coburn\", \"committee\", \"committee\", \"committee\", \"committee\", \"committee\", \"committee\", \"company\", \"company\", \"company\", \"company\", \"company\", \"congress\", \"congress\", \"congress\", \"congress\", \"constitution\", \"constitution\", \"constitution\", \"constitution\", \"constitutional\", \"constitutional\", \"constitutional\", \"contraception\", \"contraceptive\", \"coronavirus\", \"cost\", \"cost\", \"cost\", \"country\", \"country\", \"country\", \"country\", \"country\", \"country\", \"country\", \"county\", \"county\", \"county\", \"court\", \"court\", \"court\", \"coverage\", \"coverage\", \"coverage\", \"covid\", \"crime\", \"crime\", \"criminal\", \"criminal\", \"crist\", \"cruz\", \"cruz\", \"cuba\", \"cuccinelli\", \"cut\", \"cut\", \"datum\", \"datum\", \"datum\", \"datum\", \"datum\", \"day\", \"day\", \"day\", \"day\", \"day\", \"day\", \"day\", \"death\", \"death\", \"death\", \"debt\", \"deduction\", \"defendant\", \"defense\", \"defense\", \"defense\", \"defense\", \"defense\", \"defense\", \"deficit\", \"deficit\", \"demint\", \"democrat\", \"democrat\", \"democrat\", \"democrat\", \"democratic\", \"democratic\", \"democratic\", \"democratic\", \"department\", \"department\", \"department\", \"department\", \"department\", \"department\", \"deportation\", \"development\", \"development\", \"development\", \"development\", \"development\", \"dewine\", \"disclosure\", \"disease\", \"district\", \"district\", \"district\", \"district\", \"dnc\", \"donation\", \"donor\", \"donor\", \"drilling\", \"drug\", \"drug\", \"drug\", \"drug\", \"earmark\", \"earner\", \"earning\", \"economic\", \"economic\", \"economic\", \"economic\", \"economist\", \"economist\", \"economy\", \"economy\", \"economy\", \"economy\", \"education\", \"education\", \"education\", \"election\", \"election\", \"election\", \"electric\", \"electricity\", \"emanuel\", \"emission\", \"employer\", \"employer\", \"employment\", \"employment\", \"endorsement\", \"endorsement\", \"endorsement\", \"energy\", \"energy\", \"energy\", \"enrollee\", \"environmental\", \"epa\", \"evidence\", \"evidence\", \"evidence\", \"evidence\", \"evidence\", \"evidence\", \"evidence\", \"facebook\", \"facebook\", \"facebook\", \"fake\", \"fake\", \"false\", \"false\", \"false\", \"false\", \"false\", \"false\", \"false\", \"fannie\", \"fbi\", \"federal\", \"federal\", \"federal\", \"federal\", \"federal\", \"federal\", \"federal\", \"feed\", \"feingold\", \"felon\", \"felony\", \"female\", \"female\", \"figure\", \"figure\", \"figure\", \"figure\", \"figure\", \"filibuster\", \"firearm\", \"first\", \"first\", \"first\", \"first\", \"first\", \"first\", \"first\", \"fiscal\", \"fiscal\", \"fiscal\", \"flag\", \"flag\", \"flag\", \"flagged\", \"florida\", \"florida\", \"florida\", \"florida\", \"florida\", \"flu\", \"food\", \"food\", \"food\", \"force\", \"force\", \"force\", \"force\", \"force\", \"force\", \"force\", \"foreign\", \"foreign\", \"foreign\", \"foreign\", \"former\", \"former\", \"former\", \"former\", \"former\", \"former\", \"former\", \"fraud\", \"fraud\", \"fuel\", \"fuel\", \"fuel\", \"fundraiser\", \"gallon\", \"gallup\", \"gas\", \"gasoline\", \"gdp\", \"general\", \"general\", \"general\", \"general\", \"general\", \"general\", \"general\", \"georgia\", \"georgia\", \"georgia\", \"gingrich\", \"girl\", \"giuliani\", \"government\", \"government\", \"government\", \"government\", \"government\", \"government\", \"government\", \"governor\", \"governor\", \"governor\", \"governor\", \"graduation\", \"grayson\", \"greene\", \"greenhouse\", \"group\", \"group\", \"group\", \"group\", \"group\", \"group\", \"group\", \"growth\", \"growth\", \"growth\", \"gun\", \"handel\", \"handgun\", \"hasner\", \"health\", \"health\", \"high\", \"high\", \"high\", \"high\", \"high\", \"high\", \"high\", \"highway\", \"hike\", \"hillary\", \"homeland\", \"homeless\", \"homicide\", \"house\", \"house\", \"house\", \"house\", \"house\", \"house\", \"house\", \"household\", \"household\", \"household\", \"human\", \"human\", \"human\", \"human\", \"human\", \"hutchison\", \"illegal\", \"illegal\", \"image\", \"image\", \"immigrant\", \"immigration\", \"impeachment\", \"incest\", \"income\", \"income\", \"increase\", \"increase\", \"increase\", \"increase\", \"industry\", \"industry\", \"industry\", \"industry\", \"infant\", \"infection\", \"inflation\", \"inmate\", \"insurance\", \"insurer\", \"international\", \"international\", \"international\", \"international\", \"international\", \"international\", \"internet\", \"internet\", \"internet\", \"internet\", \"internet\", \"internet\", \"iran\", \"iraq\", \"iraqi\", \"isis\", \"islamic\", \"island\", \"island\", \"island\", \"island\", \"israel\", \"jail\", \"jail\", \"job\", \"job\", \"job\", \"john\", \"john\", \"john\", \"john\", \"john\", \"john\", \"judge\", \"judge\", \"judge\", \"judge\", \"judge\", \"justice\", \"justice\", \"justice\", \"kagan\", \"kaine\", \"kaiser\", \"kasich\", \"koch\", \"korea\", \"kyl\", \"labor\", \"labor\", \"labor\", \"labor\", \"labor\", \"labor\", \"laden\", \"land\", \"land\", \"land\", \"land\", \"land\", \"law\", \"law\", \"law\", \"law\", \"lawsuit\", \"lawsuit\", \"lawsuit\", \"legal\", \"legal\", \"legal\", \"legal\", \"legal\", \"legislation\", \"legislation\", \"legislation\", \"legislation\", \"legislation\", \"license\", \"license\", \"life\", \"life\", \"life\", \"life\", \"life\", \"life\", \"life\", \"lobbyist\", \"lobbyist\", \"lobbyist\", \"lobbyist\", \"low\", \"low\", \"low\", \"low\", \"low\", \"low\", \"lynch\", \"mack\", \"mack\", \"mack\", \"man\", \"man\", \"man\", \"man\", \"man\", \"manchin\", \"mandate\", \"mandate\", \"mandate\", \"marijuana\", \"marketplace\", \"mask\", \"mayor\", \"mayor\", \"mayor\", \"mccain\", \"mccain\", \"mccollum\", \"median\", \"medicaid\", \"medical\", \"medical\", \"medicare\", \"medium\", \"medium\", \"medium\", \"medium\", \"medium\", \"medium\", \"meek\", \"member\", \"member\", \"member\", \"member\", \"member\", \"member\", \"member\", \"meme\", \"metro\", \"mexican\", \"mexico\", \"mexico\", \"mile\", \"mile\", \"military\", \"military\", \"military\", \"misdemeanor\", \"misinformation\", \"money\", \"money\", \"money\", \"money\", \"mortality\", \"mother\", \"mother\", \"mother\", \"mother\", \"mother\", \"murder\", \"murder\", \"muslim\", \"muslim\", \"nation\", \"nation\", \"nation\", \"nation\", \"nation\", \"nation\", \"nation\", \"natural\", \"natural\", \"natural\", \"new\", \"new\", \"new\", \"new\", \"new\", \"new\", \"new\", \"news\", \"news\", \"news\", \"news\", \"news\", \"news\", \"news\", \"newt\", \"nomination\", \"nomination\", \"nominee\", \"nominee\", \"nominee\", \"nominee\", \"nra\", \"nrcc\", \"nuclear\", \"nuclear\", \"number\", \"number\", \"number\", \"number\", \"number\", \"number\", \"obama\", \"obama\", \"obama\", \"obama\", \"obamacare\", \"obesity\", \"offender\", \"office\", \"office\", \"office\", \"office\", \"office\", \"office\", \"officer\", \"officer\", \"officer\", \"officer\", \"officer\", \"officer\", \"oil\", \"option\", \"option\", \"option\", \"option\", \"option\", \"option\", \"outbreak\", \"pac\", \"pac\", \"palin\", \"palin\", \"pandemic\", \"pandemic\", \"parenthood\", \"part\", \"part\", \"part\", \"part\", \"part\", \"part\", \"part\", \"party\", \"party\", \"party\", \"party\", \"payer\", \"payroll\", \"pelosi\", \"pelosi\", \"pension\", \"people\", \"people\", \"people\", \"people\", \"people\", \"people\", \"people\", \"percent\", \"percent\", \"percent\", \"percent\", \"percent\", \"percentage\", \"percentage\", \"percentage\", \"percentage\", \"photo\", \"photo\", \"photo\", \"pipeline\", \"plan\", \"plan\", \"plan\", \"plan\", \"plant\", \"police\", \"police\", \"police\", \"policy\", \"policy\", \"policy\", \"policy\", \"policy\", \"policy\", \"policy\", \"politic\", \"politic\", \"politic\", \"politic\", \"political\", \"political\", \"political\", \"political\", \"political\", \"poll\", \"poll\", \"pollution\", \"position\", \"position\", \"position\", \"position\", \"position\", \"position\", \"post\", \"post\", \"post\", \"post\", \"post\", \"post\", \"post\", \"poverty\", \"poverty\", \"power\", \"power\", \"power\", \"power\", \"power\", \"power\", \"prayer\", \"pregnancy\", \"premium\", \"president\", \"president\", \"president\", \"president\", \"president\", \"president\", \"presidential\", \"presidential\", \"presidential\", \"presidential\", \"presidential\", \"price\", \"price\", \"price\", \"primary\", \"primary\", \"primary\", \"primary\", \"primary\", \"primary\", \"primary\", \"prison\", \"prison\", \"production\", \"production\", \"production\", \"program\", \"program\", \"program\", \"program\", \"program\", \"program\", \"project\", \"project\", \"project\", \"project\", \"project\", \"project\", \"proposal\", \"proposal\", \"proposal\", \"proposal\", \"proposal\", \"protester\", \"providence\", \"provision\", \"provision\", \"provision\", \"provision\", \"qaida\", \"rail\", \"rape\", \"rape\", \"rate\", \"rate\", \"rate\", \"rate\", \"rate\", \"rate\", \"rate\", \"reagan\", \"reagan\", \"reagan\", \"recession\", \"record\", \"record\", \"record\", \"record\", \"record\", \"record\", \"record\", \"redistricting\", \"reform\", \"reform\", \"reform\", \"reform\", \"reform\", \"refugee\", \"registration\", \"religious\", \"religious\", \"religious\", \"renacci\", \"repeal\", \"repeal\", \"report\", \"report\", \"report\", \"report\", \"report\", \"report\", \"report\", \"reproductive\", \"republican\", \"republican\", \"republican\", \"republican\", \"research\", \"research\", \"research\", \"research\", \"research\", \"research\", \"responsive\", \"retiree\", \"revenue\", \"revenue\", \"rhode\", \"rifle\", \"right\", \"right\", \"right\", \"right\", \"right\", \"right\", \"right\", \"road\", \"road\", \"road\", \"road\", \"road\", \"road\", \"robbery\", \"roe\", \"romney\", \"romney\", \"rourke\", \"rove\", \"rubio\", \"rubio\", \"russia\", \"russia\", \"ryan\", \"ryan\", \"ryan\", \"ryan\", \"salary\", \"sanction\", \"saudi\", \"school\", \"school\", \"school\", \"schultz\", \"schultz\", \"scott\", \"scott\", \"scott\", \"scott\", \"security\", \"security\", \"security\", \"security\", \"security\", \"sen\", \"sen\", \"sen\", \"sen\", \"sen\", \"sen\", \"senate\", \"senate\", \"senate\", \"senate\", \"senator\", \"senator\", \"senator\", \"senator\", \"senator\", \"senator\", \"service\", \"service\", \"service\", \"service\", \"service\", \"service\", \"service\", \"sheriff\", \"sheriff\", \"shortfall\", \"social\", \"social\", \"social\", \"social\", \"social\", \"socialist\", \"solar\", \"soldier\", \"sotomayor\", \"spending\", \"spending\", \"spill\", \"state\", \"state\", \"state\", \"state\", \"state\", \"state\", \"statement\", \"statement\", \"statement\", \"statement\", \"statement\", \"statement\", \"statement\", \"statistic\", \"statistic\", \"statistic\", \"statistic\", \"statistic\", \"statute\", \"stimulus\", \"stimulus\", \"story\", \"story\", \"story\", \"story\", \"story\", \"story\", \"strickland\", \"student\", \"student\", \"student\", \"study\", \"study\", \"study\", \"study\", \"study\", \"study\", \"supreme\", \"supreme\", \"surplus\", \"syria\", \"tax\", \"tax\", \"taxation\", \"taxis\", \"taxis\", \"teacher\", \"teacher\", \"teacher\", \"temperature\", \"terrorism\", \"terrorist\", \"texas\", \"texas\", \"texas\", \"texas\", \"texas\", \"texas\", \"time\", \"time\", \"time\", \"time\", \"time\", \"time\", \"time\", \"toomey\", \"trade\", \"trade\", \"trade\", \"trade\", \"transit\", \"transportation\", \"transportation\", \"transportation\", \"treaty\", \"troop\", \"true\", \"true\", \"true\", \"true\", \"true\", \"true\", \"true\", \"trump\", \"trump\", \"trump\", \"tuition\", \"turnout\", \"undocumented\", \"unemployed\", \"unemployment\", \"uninsured\", \"united\", \"united\", \"united\", \"united\", \"united\", \"united\", \"vaccine\", \"video\", \"video\", \"video\", \"video\", \"video\", \"video\", \"viral\", \"virus\", \"visa\", \"vote\", \"vote\", \"vote\", \"voter\", \"voter\", \"voter\", \"voter\", \"voting\", \"voting\", \"wage\", \"war\", \"war\", \"war\", \"war\", \"water\", \"water\", \"website\", \"website\", \"website\", \"website\", \"website\", \"website\", \"website\", \"white\", \"white\", \"white\", \"white\", \"white\", \"woman\", \"woman\", \"woman\", \"woman\", \"woman\", \"woman\", \"worker\", \"worker\", \"worker\", \"worker\", \"worker\", \"workforce\", \"world\", \"world\", \"world\", \"world\", \"world\", \"year\", \"year\", \"year\", \"year\", \"year\", \"year\", \"year\"]}, \"R\": 30, \"lambda.step\": 0.01, \"plot.opts\": {\"xlab\": \"PC1\", \"ylab\": \"PC2\"}, \"topic.order\": [6, 1, 2, 7, 5, 4, 3]};\n",
       "\n",
       "function LDAvis_load_lib(url, callback){\n",
       "  var s = document.createElement('script');\n",
       "  s.src = url;\n",
       "  s.async = true;\n",
       "  s.onreadystatechange = s.onload = callback;\n",
       "  s.onerror = function(){console.warn(\"failed to load library \" + url);};\n",
       "  document.getElementsByTagName(\"head\")[0].appendChild(s);\n",
       "}\n",
       "\n",
       "if(typeof(LDAvis) !== \"undefined\"){\n",
       "   // already loaded: just create the visualization\n",
       "   !function(LDAvis){\n",
       "       new LDAvis(\"#\" + \"ldavis_el142731406042025274243039875824\", ldavis_el142731406042025274243039875824_data);\n",
       "   }(LDAvis);\n",
       "}else if(typeof define === \"function\" && define.amd){\n",
       "   // require.js is available: use it to load d3/LDAvis\n",
       "   require.config({paths: {d3: \"https://d3js.org/d3.v5\"}});\n",
       "   require([\"d3\"], function(d3){\n",
       "      window.d3 = d3;\n",
       "      LDAvis_load_lib(\"https://cdn.jsdelivr.net/gh/bmabey/pyLDAvis@3.3.1/pyLDAvis/js/ldavis.v3.0.0.js\", function(){\n",
       "        new LDAvis(\"#\" + \"ldavis_el142731406042025274243039875824\", ldavis_el142731406042025274243039875824_data);\n",
       "      });\n",
       "    });\n",
       "}else{\n",
       "    // require.js not available: dynamically load d3 & LDAvis\n",
       "    LDAvis_load_lib(\"https://d3js.org/d3.v5.js\", function(){\n",
       "         LDAvis_load_lib(\"https://cdn.jsdelivr.net/gh/bmabey/pyLDAvis@3.3.1/pyLDAvis/js/ldavis.v3.0.0.js\", function(){\n",
       "                 new LDAvis(\"#\" + \"ldavis_el142731406042025274243039875824\", ldavis_el142731406042025274243039875824_data);\n",
       "            })\n",
       "         });\n",
       "}\n",
       "</script>"
      ],
      "text/plain": [
       "PreparedData(topic_coordinates=              x         y  topics  cluster       Freq\n",
       "topic                                                \n",
       "5      0.125144  0.059565       1        1  23.989291\n",
       "0     -0.042036 -0.149329       2        1  17.386730\n",
       "1      0.050720  0.005058       3        1  14.096151\n",
       "6      0.109784 -0.147633       4        1  12.197753\n",
       "4     -0.245001  0.027684       5        1  11.524385\n",
       "3      0.049478  0.193139       6        1  10.761667\n",
       "2     -0.048089  0.011516       7        1  10.044024, topic_info=            Term          Freq         Total Category  logprob  loglift\n",
       "275          tax  36891.000000  36891.000000  Default  30.0000  30.0000\n",
       "53        health  28161.000000  28161.000000  Default  29.0000  29.0000\n",
       "117        state  79482.000000  79482.000000  Default  28.0000  28.0000\n",
       "468          law  30885.000000  30885.000000  Default  27.0000  27.0000\n",
       "2114       obama  42468.000000  42468.000000  Default  26.0000  26.0000\n",
       "...          ...           ...           ...      ...      ...      ...\n",
       "86        people   4112.215080  32150.353789   Topic7  -5.0305   0.2417\n",
       "448   government   3589.233961  22897.797866   Topic7  -5.1665   0.4451\n",
       "130         year   4065.062135  57065.286833   Topic7  -5.0420  -0.3436\n",
       "270    statement   2894.532128  27769.878079   Topic7  -5.3816   0.0371\n",
       "247       number   2657.475911  27870.999697   Topic7  -5.4671  -0.0520\n",
       "\n",
       "[535 rows x 6 columns], token_table=       Topic      Freq      Term\n",
       "term                            \n",
       "8818       4  0.998366      aarp\n",
       "30896      3  0.997094     abele\n",
       "7736       5  0.999965  abortion\n",
       "1393       3  0.997099  absentee\n",
       "6579       4  0.997158       aca\n",
       "...      ...       ...       ...\n",
       "130        3  0.083781      year\n",
       "130        4  0.062858      year\n",
       "130        5  0.039919      year\n",
       "130        6  0.097222      year\n",
       "130        7  0.071234      year\n",
       "\n",
       "[1217 rows x 3 columns], R=30, lambda_step=0.01, plot_opts={'xlab': 'PC1', 'ylab': 'PC2'}, topic_order=[6, 1, 2, 7, 5, 4, 3])"
      ]
     },
     "execution_count": 22,
     "metadata": {},
     "output_type": "execute_result"
    }
   ],
   "source": [
    "# Visualize the topics\n",
    "import pyLDAvis\n",
    "import pyLDAvis.gensim_models as gensimvis\n",
    "\n",
    "pyLDAvis.enable_notebook()\n",
    "vis = gensimvis.prepare(lda_model, doc_term_matrix, dictionary)\n",
    "vis"
   ]
  },
  {
   "cell_type": "code",
   "execution_count": 39,
   "metadata": {},
   "outputs": [
    {
     "name": "stderr",
     "output_type": "stream",
     "text": [
      "/Users/adamdouglas/opt/anaconda3/lib/python3.8/site-packages/ipykernel/ipkernel.py:283: DeprecationWarning: `should_run_async` will not call `transform_cell` automatically in the future. Please pass the result to `transformed_cell` argument and any exception that happen during thetransform in `preprocessing_exc_tuple` in IPython 7.17 and above.\n",
      "  and should_run_async(code)\n"
     ]
    }
   ],
   "source": [
    "# Manually assign description of a topic based on the\n",
    "#    model-generated ones.\n",
    "\n",
    "topic_names = {0:'Economy',1:'Elections',2:'Laws',3:'Healthcare',4:'Abortion',5:'Energy',6:'Foreign Policy'}"
   ]
  },
  {
   "cell_type": "code",
   "execution_count": 84,
   "metadata": {},
   "outputs": [
    {
     "name": "stderr",
     "output_type": "stream",
     "text": [
      "/Users/adamdouglas/opt/anaconda3/lib/python3.8/site-packages/ipykernel/ipkernel.py:283: DeprecationWarning: `should_run_async` will not call `transform_cell` automatically in the future. Please pass the result to `transformed_cell` argument and any exception that happen during thetransform in `preprocessing_exc_tuple` in IPython 7.17 and above.\n",
      "  and should_run_async(code)\n"
     ]
    }
   ],
   "source": [
    "# Assign topic numbers from the model\n",
    "topics = lda_model.get_document_topics(doc_term_matrix)\n",
    "\n",
    "nums = [max(t, key = lambda i : i[1])[0] for t in topics]\n",
    "\n",
    "pol[\"topic_number\"] = nums\n"
   ]
  },
  {
   "cell_type": "markdown",
   "metadata": {},
   "source": [
    "## Network Analysis"
   ]
  },
  {
   "cell_type": "markdown",
   "metadata": {},
   "source": [
    "Next we will look at who is making statements about which topics and evaluate how trustworthy they are."
   ]
  },
  {
   "cell_type": "code",
   "execution_count": 130,
   "metadata": {
    "scrolled": false
   },
   "outputs": [],
   "source": [
    "# Import additional packages\n",
    "import networkx as nx\n",
    "from matplotlib import pyplot as plt\n",
    "from pyvis import network as net"
   ]
  },
  {
   "cell_type": "code",
   "execution_count": 163,
   "metadata": {},
   "outputs": [
    {
     "name": "stdout",
     "output_type": "stream",
     "text": [
      "Name: \n",
      "Type: Graph\n",
      "Number of nodes: 4371\n",
      "Number of edges: 7893\n",
      "Average degree:   3.6115\n"
     ]
    }
   ],
   "source": [
    "# Truth values to edge weights\n",
    "truth = {'half-true': 0, 'barely-true': -3, 'mostly-true': 3, 'false': -5, 'true': 5, 'pants-fire': -7}\n",
    "\n",
    "# We only want the records where the truth is being evaluated, not whether the politician\n",
    "# flipped their viewpoint.\n",
    "\n",
    "pol2 = pol[pol['fact'].isin(truth)]\n",
    "\n",
    "# Create bipartite graph\n",
    "G = nx.Graph()\n",
    "\n",
    "for n, t, f in zip(pol2['sources'],pol2['topic_number'],pol2['fact']):\n",
    "    if n not in G.nodes():\n",
    "        G.add_node(n, bipartite = 0, color = \"firebrick\")\n",
    "    if t not in G.nodes():\n",
    "        G.add_node(t, bipartite = 1, color = \"teal\")\n",
    "    if (n,t) not in G.edges():\n",
    "        G.add_edge(n,t, weight = truth[f])\n",
    "    else:\n",
    "        G[n][t]['weight'] += truth[f]            \n",
    "\n",
    "print(nx.info(G))"
   ]
  },
  {
   "cell_type": "markdown",
   "metadata": {},
   "source": [
    "Now that we have our network, let's see who are biggest liars are, and who is the most truthful:"
   ]
  },
  {
   "cell_type": "code",
   "execution_count": 255,
   "metadata": {
    "scrolled": false
   },
   "outputs": [
    {
     "data": {
      "text/html": [
       "<div>\n",
       "<style scoped>\n",
       "    .dataframe tbody tr th:only-of-type {\n",
       "        vertical-align: middle;\n",
       "    }\n",
       "\n",
       "    .dataframe tbody tr th {\n",
       "        vertical-align: top;\n",
       "    }\n",
       "\n",
       "    .dataframe thead th {\n",
       "        text-align: right;\n",
       "    }\n",
       "</style>\n",
       "<table border=\"1\" class=\"dataframe\">\n",
       "  <thead>\n",
       "    <tr style=\"text-align: right;\">\n",
       "      <th></th>\n",
       "      <th>Source</th>\n",
       "      <th>Truth Level</th>\n",
       "    </tr>\n",
       "  </thead>\n",
       "  <tbody>\n",
       "    <tr>\n",
       "      <th>0</th>\n",
       "      <td>Facebook posts</td>\n",
       "      <td>-4367</td>\n",
       "    </tr>\n",
       "    <tr>\n",
       "      <th>1</th>\n",
       "      <td>Viral image</td>\n",
       "      <td>-2281</td>\n",
       "    </tr>\n",
       "    <tr>\n",
       "      <th>2</th>\n",
       "      <td>Donald Trump</td>\n",
       "      <td>-2146</td>\n",
       "    </tr>\n",
       "    <tr>\n",
       "      <th>3</th>\n",
       "      <td>Bloggers</td>\n",
       "      <td>-1876</td>\n",
       "    </tr>\n",
       "    <tr>\n",
       "      <th>4</th>\n",
       "      <td>Chain email</td>\n",
       "      <td>-434</td>\n",
       "    </tr>\n",
       "    <tr>\n",
       "      <th>5</th>\n",
       "      <td>Joe Biden</td>\n",
       "      <td>-355</td>\n",
       "    </tr>\n",
       "    <tr>\n",
       "      <th>6</th>\n",
       "      <td>Ted Cruz</td>\n",
       "      <td>-252</td>\n",
       "    </tr>\n",
       "    <tr>\n",
       "      <th>7</th>\n",
       "      <td>Instagram posts</td>\n",
       "      <td>-249</td>\n",
       "    </tr>\n",
       "    <tr>\n",
       "      <th>8</th>\n",
       "      <td>Tweets</td>\n",
       "      <td>-177</td>\n",
       "    </tr>\n",
       "    <tr>\n",
       "      <th>9</th>\n",
       "      <td>Newt Gingrich</td>\n",
       "      <td>-176</td>\n",
       "    </tr>\n",
       "  </tbody>\n",
       "</table>\n",
       "</div>"
      ],
      "text/plain": [
       "            Source  Truth Level\n",
       "0   Facebook posts        -4367\n",
       "1      Viral image        -2281\n",
       "2     Donald Trump        -2146\n",
       "3         Bloggers        -1876\n",
       "4      Chain email         -434\n",
       "5        Joe Biden         -355\n",
       "6         Ted Cruz         -252\n",
       "7  Instagram posts         -249\n",
       "8           Tweets         -177\n",
       "9    Newt Gingrich         -176"
      ]
     },
     "execution_count": 255,
     "metadata": {},
     "output_type": "execute_result"
    }
   ],
   "source": [
    "# Top 10 biggest liars\n",
    "\n",
    "liars = pd.DataFrame(sorted(list(G.degree(weight = 'weight')),key = lambda x: 999999 if x[0] in [0,1,2,3,4,5,6] else(x[1])))\n",
    "\n",
    "liars.columns = [\"Source\",\"Truth Level\"]\n",
    "\n",
    "liars.head(10)"
   ]
  },
  {
   "cell_type": "code",
   "execution_count": 222,
   "metadata": {},
   "outputs": [
    {
     "data": {
      "text/html": [
       "<div>\n",
       "<style scoped>\n",
       "    .dataframe tbody tr th:only-of-type {\n",
       "        vertical-align: middle;\n",
       "    }\n",
       "\n",
       "    .dataframe tbody tr th {\n",
       "        vertical-align: top;\n",
       "    }\n",
       "\n",
       "    .dataframe thead th {\n",
       "        text-align: right;\n",
       "    }\n",
       "</style>\n",
       "<table border=\"1\" class=\"dataframe\">\n",
       "  <thead>\n",
       "    <tr style=\"text-align: right;\">\n",
       "      <th></th>\n",
       "      <th>Source</th>\n",
       "      <th>Truth Level</th>\n",
       "    </tr>\n",
       "  </thead>\n",
       "  <tbody>\n",
       "    <tr>\n",
       "      <th>0</th>\n",
       "      <td>Hillary Clinton</td>\n",
       "      <td>60</td>\n",
       "    </tr>\n",
       "    <tr>\n",
       "      <th>1</th>\n",
       "      <td>Sheldon Whitehouse</td>\n",
       "      <td>43</td>\n",
       "    </tr>\n",
       "    <tr>\n",
       "      <th>2</th>\n",
       "      <td>Charlie Crist</td>\n",
       "      <td>26</td>\n",
       "    </tr>\n",
       "    <tr>\n",
       "      <th>3</th>\n",
       "      <td>Lincoln Chafee</td>\n",
       "      <td>26</td>\n",
       "    </tr>\n",
       "    <tr>\n",
       "      <th>4</th>\n",
       "      <td>Pam Bondi</td>\n",
       "      <td>24</td>\n",
       "    </tr>\n",
       "    <tr>\n",
       "      <th>5</th>\n",
       "      <td>Paul Krugman</td>\n",
       "      <td>23</td>\n",
       "    </tr>\n",
       "    <tr>\n",
       "      <th>6</th>\n",
       "      <td>Stephen Colbert</td>\n",
       "      <td>23</td>\n",
       "    </tr>\n",
       "    <tr>\n",
       "      <th>7</th>\n",
       "      <td>Edward Lindsey</td>\n",
       "      <td>23</td>\n",
       "    </tr>\n",
       "    <tr>\n",
       "      <th>8</th>\n",
       "      <td>Matthew Dowd</td>\n",
       "      <td>22</td>\n",
       "    </tr>\n",
       "    <tr>\n",
       "      <th>9</th>\n",
       "      <td>Leonard Lance</td>\n",
       "      <td>21</td>\n",
       "    </tr>\n",
       "  </tbody>\n",
       "</table>\n",
       "</div>"
      ],
      "text/plain": [
       "               Source  Truth Level\n",
       "0     Hillary Clinton           60\n",
       "1  Sheldon Whitehouse           43\n",
       "2       Charlie Crist           26\n",
       "3      Lincoln Chafee           26\n",
       "4           Pam Bondi           24\n",
       "5        Paul Krugman           23\n",
       "6     Stephen Colbert           23\n",
       "7      Edward Lindsey           23\n",
       "8        Matthew Dowd           22\n",
       "9       Leonard Lance           21"
      ]
     },
     "execution_count": 222,
     "metadata": {},
     "output_type": "execute_result"
    }
   ],
   "source": [
    "# Top 10 most truthful\n",
    "\n",
    "truth = pd.DataFrame(sorted(list(G.degree(weight = 'weight')),reverse = True, key = lambda x: x[1]))\n",
    "\n",
    "truth.columns = [\"Source\",\"Truth Level\"]\n",
    "\n",
    "truth.head(10)"
   ]
  },
  {
   "cell_type": "markdown",
   "metadata": {},
   "source": [
    "Next we look at who had the most egregious of lies, the dreaded \"Pants On Fire\" rating."
   ]
  },
  {
   "cell_type": "code",
   "execution_count": 266,
   "metadata": {},
   "outputs": [
    {
     "data": {
      "text/plain": [
       "Facebook posts     266\n",
       "Bloggers           180\n",
       "Donald Trump       149\n",
       "Viral image        134\n",
       "Chain email         45\n",
       "Barack Obama        36\n",
       "Scott Walker        20\n",
       "Joe Biden           20\n",
       "Mitt Romney         17\n",
       "Hillary Clinton     16\n",
       "Name: sources, dtype: int64"
      ]
     },
     "execution_count": 266,
     "metadata": {},
     "output_type": "execute_result"
    }
   ],
   "source": [
    "# Who had the most \"pants on fire\" statements?\n",
    "\n",
    "fire = pol.loc[pol['fact'] == 'pants-fire']\n",
    "\n",
    "fire['sources'].value_counts().head(10)"
   ]
  },
  {
   "cell_type": "markdown",
   "metadata": {},
   "source": [
    "Some surprising results, I have to say.\n",
    "\n",
    "Now to visualization...we can visualize the entire network, but as you can see, it is quite busy!"
   ]
  },
  {
   "cell_type": "code",
   "execution_count": 155,
   "metadata": {
    "scrolled": false
   },
   "outputs": [
    {
     "data": {
      "text/html": [
       "\n",
       "        <iframe\n",
       "            width=\"100%\"\n",
       "            height=\"1000px\"\n",
       "            src=\"politifact1.html\"\n",
       "            frameborder=\"0\"\n",
       "            allowfullscreen\n",
       "        ></iframe>\n",
       "        "
      ],
      "text/plain": [
       "<IPython.lib.display.IFrame object at 0x7fe033ecd8b0>"
      ]
     },
     "execution_count": 155,
     "metadata": {},
     "output_type": "execute_result"
    }
   ],
   "source": [
    "# Visualize entire network\n",
    "\n",
    "n = net.Network(height = \"1000px\", width = \"100%\", notebook = True, \n",
    "                bgcolor = \"#ffffff\", font_color = \"black\",\n",
    "                heading = 'Politifact - People & Statements', directed = False)\n",
    "nx_graph = nx.Graph(G)\n",
    "n.from_nx(nx_graph)\n",
    "n.show_buttons(filter_=['physics'])\n",
    "n.show(\"politifact1.html\")"
   ]
  },
  {
   "cell_type": "markdown",
   "metadata": {},
   "source": [
    "### Most Truthful People and their Topics"
   ]
  },
  {
   "cell_type": "markdown",
   "metadata": {},
   "source": [
    "We can now look at the people who are the most truthful about their topics. We'll use a cut-off value of 10 or higher to include someone in this subnetwork. This means that the person's statements about a topic have to be reasonably truthful in aggregate."
   ]
  },
  {
   "cell_type": "code",
   "execution_count": 188,
   "metadata": {
    "scrolled": true
   },
   "outputs": [
    {
     "name": "stdout",
     "output_type": "stream",
     "text": [
      "Name: \n",
      "Type: Graph\n",
      "Number of nodes: 63\n",
      "Number of edges: 67\n",
      "Average degree:   2.1270\n"
     ]
    },
    {
     "data": {
      "text/html": [
       "\n",
       "        <iframe\n",
       "            width=\"100%\"\n",
       "            height=\"1000px\"\n",
       "            src=\"politifact2.html\"\n",
       "            frameborder=\"0\"\n",
       "            allowfullscreen\n",
       "        ></iframe>\n",
       "        "
      ],
      "text/plain": [
       "<IPython.lib.display.IFrame object at 0x7fe033ecdb80>"
      ]
     },
     "execution_count": 188,
     "metadata": {},
     "output_type": "execute_result"
    }
   ],
   "source": [
    "# Truthful people and topics\n",
    "\n",
    "H = nx.Graph()\n",
    "\n",
    "for u,v,d in G.edges(data=True):\n",
    "    if int(d['weight']) > 10:\n",
    "        if u not in H.nodes():\n",
    "            H.add_node(u)\n",
    "        if v not in H.nodes():\n",
    "            H.add_node(v)\n",
    "        H.add_edge(u,v,value=d['weight'])\n",
    "        \n",
    "print(nx.info(H))\n",
    "        \n",
    "n2 = net.Network(height = \"1000px\", width = \"100%\", notebook = True, \n",
    "                bgcolor = \"#ffffff\", font_color = \"black\",\n",
    "                heading = 'Politifact - Truthful Statements', directed = False)\n",
    "\n",
    "n2.from_nx(nx.Graph(H))\n",
    "n2.show_buttons(filter_=['physics'])\n",
    "n2.show(\"politifact2.html\")"
   ]
  },
  {
   "cell_type": "markdown",
   "metadata": {},
   "source": [
    "Interestingly, Hillary Clinton has a really large truth value when it comes to topic 5.\n",
    "\n",
    "Next we'll look at the opposite, people who are generally untruthful with their statements about certain topics."
   ]
  },
  {
   "cell_type": "markdown",
   "metadata": {},
   "source": [
    "### Least Truthful People and Their Topics"
   ]
  },
  {
   "cell_type": "code",
   "execution_count": 224,
   "metadata": {
    "scrolled": false
   },
   "outputs": [
    {
     "name": "stdout",
     "output_type": "stream",
     "text": [
      "Name: \n",
      "Type: Graph\n",
      "Number of nodes: 257\n",
      "Number of edges: 426\n",
      "Average degree:   3.3152\n"
     ]
    },
    {
     "data": {
      "text/html": [
       "\n",
       "        <iframe\n",
       "            width=\"100%\"\n",
       "            height=\"1000px\"\n",
       "            src=\"politifact3.html\"\n",
       "            frameborder=\"0\"\n",
       "            allowfullscreen\n",
       "        ></iframe>\n",
       "        "
      ],
      "text/plain": [
       "<IPython.lib.display.IFrame object at 0x7fe033e9d3a0>"
      ]
     },
     "execution_count": 224,
     "metadata": {},
     "output_type": "execute_result"
    }
   ],
   "source": [
    "# Least truthful people and topics\n",
    "\n",
    "H = nx.Graph()\n",
    "\n",
    "for u,v,d in G.edges(data=True):\n",
    "    if int(d['weight']) < -10:\n",
    "        if u not in H.nodes():\n",
    "            H.add_node(u)\n",
    "        if v not in H.nodes():\n",
    "            H.add_node(v)\n",
    "        H.add_edge(u,v,value=d['weight'])\n",
    "        \n",
    "print(nx.info(H))\n",
    "        \n",
    "n3 = net.Network(height = \"1000px\", width = \"100%\", notebook = True, \n",
    "                bgcolor = \"#ffffff\", font_color = \"black\",\n",
    "                heading = 'Politifact - Untruthful Statements', directed = False)\n",
    "\n",
    "n3.from_nx(nx.Graph(H))\n",
    "n3.show_buttons(filter_=['physics'])\n",
    "n3.show(\"politifact3.html\")"
   ]
  },
  {
   "cell_type": "markdown",
   "metadata": {},
   "source": [
    "Wow! The opposite side is quite busy! However, that may be a function of the dataset we are looking at. After all, one would expect a political fact-checking site to concentrate more on false statements than they do on true ones.\n",
    "\n",
    "We'll increase the threshold a bit and see if we can get a clearer visualization."
   ]
  },
  {
   "cell_type": "code",
   "execution_count": 232,
   "metadata": {
    "scrolled": false
   },
   "outputs": [
    {
     "name": "stdout",
     "output_type": "stream",
     "text": [
      "Name: \n",
      "Type: Graph\n",
      "Number of nodes: 24\n",
      "Number of edges: 54\n",
      "Average degree:   4.5000\n"
     ]
    },
    {
     "data": {
      "text/html": [
       "\n",
       "        <iframe\n",
       "            width=\"100%\"\n",
       "            height=\"1000px\"\n",
       "            src=\"politifact4.html\"\n",
       "            frameborder=\"0\"\n",
       "            allowfullscreen\n",
       "        ></iframe>\n",
       "        "
      ],
      "text/plain": [
       "<IPython.lib.display.IFrame object at 0x7fe033ca1370>"
      ]
     },
     "execution_count": 232,
     "metadata": {},
     "output_type": "execute_result"
    }
   ],
   "source": [
    "# Least truthful people and topics, part deux\n",
    "\n",
    "H = nx.Graph()\n",
    "\n",
    "for u,v,d in G.edges(data=True):\n",
    "    if int(d['weight']) < -40:\n",
    "        if u not in H.nodes():\n",
    "            H.add_node(u)\n",
    "        if v not in H.nodes():\n",
    "            H.add_node(v)\n",
    "        H.add_edge(u,v,value=abs(d['weight']))\n",
    "        \n",
    "print(nx.info(H))\n",
    "        \n",
    "n4 = net.Network(height = \"1000px\", width = \"100%\", notebook = True, \n",
    "                bgcolor = \"#ffffff\", font_color = \"black\",\n",
    "                heading = 'Politifact - Untruthful Statements', directed = False)\n",
    "\n",
    "n4.from_nx(nx.Graph(H))\n",
    "n4.show_buttons(filter_=['physics'])\n",
    "n4.show(\"politifact4.html\")"
   ]
  },
  {
   "cell_type": "markdown",
   "metadata": {},
   "source": [
    "There are some surprising names shown here."
   ]
  },
  {
   "cell_type": "markdown",
   "metadata": {},
   "source": [
    "### Topics 0 and 1 - Most and Least Trusted"
   ]
  },
  {
   "cell_type": "code",
   "execution_count": 239,
   "metadata": {},
   "outputs": [
    {
     "name": "stdout",
     "output_type": "stream",
     "text": [
      "Name: \n",
      "Type: Graph\n",
      "Number of nodes: 17\n",
      "Number of edges: 16\n",
      "Average degree:   1.8824\n"
     ]
    },
    {
     "data": {
      "text/html": [
       "\n",
       "        <iframe\n",
       "            width=\"100%\"\n",
       "            height=\"1000px\"\n",
       "            src=\"politifact5.html\"\n",
       "            frameborder=\"0\"\n",
       "            allowfullscreen\n",
       "        ></iframe>\n",
       "        "
      ],
      "text/plain": [
       "<IPython.lib.display.IFrame object at 0x7fe033cb29a0>"
      ]
     },
     "execution_count": 239,
     "metadata": {},
     "output_type": "execute_result"
    }
   ],
   "source": [
    "# Topic 0 and 1 Most Trusted\n",
    "\n",
    "H = nx.Graph()\n",
    "\n",
    "H.add_node(0)\n",
    "H.add_node(1)\n",
    "\n",
    "for u,v,d in G.edges(data=True):\n",
    "    if u in [0,1] or v in [0,1]:\n",
    "        if d['weight'] > 10:\n",
    "            H.add_edge(u,v,value=d['weight'])\n",
    "            if u not in H.nodes():\n",
    "                H.add_node(u)\n",
    "            if v not in H.nodes():\n",
    "                H.add_node(v)\n",
    "        \n",
    "        \n",
    "print(nx.info(H))\n",
    "        \n",
    "n5 = net.Network(height = \"1000px\", width = \"100%\", notebook = True, \n",
    "                bgcolor = \"#ffffff\", font_color = \"black\",\n",
    "                heading = 'Politifact - Most Truthful for Topics 0 & 1', directed = False)\n",
    "\n",
    "n5.from_nx(nx.Graph(H))\n",
    "n5.show_buttons(filter_=['physics'])\n",
    "n5.show(\"politifact5.html\")"
   ]
  },
  {
   "cell_type": "code",
   "execution_count": 240,
   "metadata": {},
   "outputs": [
    {
     "name": "stdout",
     "output_type": "stream",
     "text": [
      "Name: \n",
      "Type: Graph\n",
      "Number of nodes: 13\n",
      "Number of edges: 16\n",
      "Average degree:   2.4615\n"
     ]
    },
    {
     "data": {
      "text/html": [
       "\n",
       "        <iframe\n",
       "            width=\"100%\"\n",
       "            height=\"1000px\"\n",
       "            src=\"politifact6.html\"\n",
       "            frameborder=\"0\"\n",
       "            allowfullscreen\n",
       "        ></iframe>\n",
       "        "
      ],
      "text/plain": [
       "<IPython.lib.display.IFrame object at 0x7fe033cb2fa0>"
      ]
     },
     "execution_count": 240,
     "metadata": {},
     "output_type": "execute_result"
    }
   ],
   "source": [
    "# Topic 0 and 1 Least Trusted\n",
    "\n",
    "H = nx.Graph()\n",
    "\n",
    "H.add_node(0)\n",
    "\n",
    "for u,v,d in G.edges(data=True):\n",
    "    if u in [0,1] or v in [0,1]:\n",
    "        if d['weight'] < -40:\n",
    "            H.add_edge(u,v,value=abs(d['weight']))\n",
    "            if u not in H.nodes():\n",
    "                H.add_node(u)\n",
    "            if v not in H.nodes():\n",
    "                H.add_node(v)\n",
    "        \n",
    "        \n",
    "print(nx.info(H))\n",
    "        \n",
    "n6 = net.Network(height = \"1000px\", width = \"100%\", notebook = True, \n",
    "                bgcolor = \"#ffffff\", font_color = \"black\",\n",
    "                heading = 'Politifact - Least Truthful for Topics 0 & 1', directed = False)\n",
    "\n",
    "n6.from_nx(nx.Graph(H))\n",
    "n6.show_buttons(filter_=['physics'])\n",
    "n6.show(\"politifact6.html\")"
   ]
  },
  {
   "cell_type": "markdown",
   "metadata": {},
   "source": [
    "### Topics 2 and 3 - Most and Least Trusted"
   ]
  },
  {
   "cell_type": "code",
   "execution_count": 244,
   "metadata": {},
   "outputs": [
    {
     "name": "stdout",
     "output_type": "stream",
     "text": [
      "Name: \n",
      "Type: Graph\n",
      "Number of nodes: 16\n",
      "Number of edges: 14\n",
      "Average degree:   1.7500\n"
     ]
    },
    {
     "data": {
      "text/html": [
       "\n",
       "        <iframe\n",
       "            width=\"100%\"\n",
       "            height=\"1000px\"\n",
       "            src=\"politifact7.html\"\n",
       "            frameborder=\"0\"\n",
       "            allowfullscreen\n",
       "        ></iframe>\n",
       "        "
      ],
      "text/plain": [
       "<IPython.lib.display.IFrame object at 0x7fe033cc27c0>"
      ]
     },
     "execution_count": 244,
     "metadata": {},
     "output_type": "execute_result"
    }
   ],
   "source": [
    "# Topic 2 and 3 Most Trusted\n",
    "\n",
    "H = nx.Graph()\n",
    "\n",
    "H.add_node(2)\n",
    "H.add_node(3)\n",
    "\n",
    "for u,v,d in G.edges(data=True):\n",
    "    if u in [2,3] or v in [2,3]:\n",
    "        if d['weight'] > 10:\n",
    "            H.add_edge(u,v,value=d['weight'])\n",
    "            if u not in H.nodes():\n",
    "                H.add_node(u)\n",
    "            if v not in H.nodes():\n",
    "                H.add_node(v)\n",
    "        \n",
    "        \n",
    "print(nx.info(H))\n",
    "        \n",
    "n7 = net.Network(height = \"1000px\", width = \"100%\", notebook = True, \n",
    "                bgcolor = \"#ffffff\", font_color = \"black\",\n",
    "                heading = 'Politifact - Most Truthful for Topics 2 & 3', directed = False)\n",
    "\n",
    "n7.from_nx(nx.Graph(H))\n",
    "n7.show_buttons(filter_=['physics'])\n",
    "n7.show(\"politifact7.html\")"
   ]
  },
  {
   "cell_type": "code",
   "execution_count": 243,
   "metadata": {
    "scrolled": false
   },
   "outputs": [
    {
     "name": "stdout",
     "output_type": "stream",
     "text": [
      "Name: \n",
      "Type: Graph\n",
      "Number of nodes: 12\n",
      "Number of edges: 14\n",
      "Average degree:   2.3333\n"
     ]
    },
    {
     "data": {
      "text/html": [
       "\n",
       "        <iframe\n",
       "            width=\"100%\"\n",
       "            height=\"1000px\"\n",
       "            src=\"politifact8.html\"\n",
       "            frameborder=\"0\"\n",
       "            allowfullscreen\n",
       "        ></iframe>\n",
       "        "
      ],
      "text/plain": [
       "<IPython.lib.display.IFrame object at 0x7fe036dcca30>"
      ]
     },
     "execution_count": 243,
     "metadata": {},
     "output_type": "execute_result"
    }
   ],
   "source": [
    "# Topic 2 and 3 Least Trusted\n",
    "\n",
    "H = nx.Graph()\n",
    "\n",
    "H.add_node(2)\n",
    "H.add_node(3)\n",
    "\n",
    "for u,v,d in G.edges(data=True):\n",
    "    if u in [2,3] or v in [2,3]:\n",
    "        if d['weight'] < -30:\n",
    "            H.add_edge(u,v,value=abs(d['weight']))\n",
    "            if u not in H.nodes():\n",
    "                H.add_node(u)\n",
    "            if v not in H.nodes():\n",
    "                H.add_node(v)\n",
    "        \n",
    "        \n",
    "print(nx.info(H))\n",
    "        \n",
    "n8 = net.Network(height = \"1000px\", width = \"100%\", notebook = True, \n",
    "                bgcolor = \"#ffffff\", font_color = \"black\",\n",
    "                heading = 'Politifact - Least Truthful for Topics 2 & 3', directed = False)\n",
    "\n",
    "n8.from_nx(nx.Graph(H))\n",
    "n8.show_buttons(filter_=['physics'])\n",
    "n8.show(\"politifact8.html\")"
   ]
  },
  {
   "cell_type": "markdown",
   "metadata": {},
   "source": [
    "### Topics 4 and 5 - Most and Least Trusted"
   ]
  },
  {
   "cell_type": "code",
   "execution_count": 245,
   "metadata": {},
   "outputs": [
    {
     "name": "stdout",
     "output_type": "stream",
     "text": [
      "Name: \n",
      "Type: Graph\n",
      "Number of nodes: 33\n",
      "Number of edges: 31\n",
      "Average degree:   1.8788\n"
     ]
    },
    {
     "data": {
      "text/html": [
       "\n",
       "        <iframe\n",
       "            width=\"100%\"\n",
       "            height=\"1000px\"\n",
       "            src=\"politifact9.html\"\n",
       "            frameborder=\"0\"\n",
       "            allowfullscreen\n",
       "        ></iframe>\n",
       "        "
      ],
      "text/plain": [
       "<IPython.lib.display.IFrame object at 0x7fe03018c9a0>"
      ]
     },
     "execution_count": 245,
     "metadata": {},
     "output_type": "execute_result"
    }
   ],
   "source": [
    "# Topic 4 and 5 Most Trusted\n",
    "\n",
    "H = nx.Graph()\n",
    "\n",
    "H.add_node(4)\n",
    "H.add_node(5)\n",
    "\n",
    "for u,v,d in G.edges(data=True):\n",
    "    if u in [4,5] or v in [4,5]:\n",
    "        if d['weight'] > 10:\n",
    "            H.add_edge(u,v,value=d['weight'])\n",
    "            if u not in H.nodes():\n",
    "                H.add_node(u)\n",
    "            if v not in H.nodes():\n",
    "                H.add_node(v)\n",
    "        \n",
    "        \n",
    "print(nx.info(H))\n",
    "        \n",
    "n9 = net.Network(height = \"1000px\", width = \"100%\", notebook = True, \n",
    "                bgcolor = \"#ffffff\", font_color = \"black\",\n",
    "                heading = 'Politifact - Most Truthful for Topics 4 & 5', directed = False)\n",
    "\n",
    "n9.from_nx(nx.Graph(H))\n",
    "n9.show_buttons(filter_=['physics'])\n",
    "n9.show(\"politifact9.html\")"
   ]
  },
  {
   "cell_type": "code",
   "execution_count": 247,
   "metadata": {
    "scrolled": true
   },
   "outputs": [
    {
     "name": "stdout",
     "output_type": "stream",
     "text": [
      "Name: \n",
      "Type: Graph\n",
      "Number of nodes: 27\n",
      "Number of edges: 33\n",
      "Average degree:   2.4444\n"
     ]
    },
    {
     "data": {
      "text/html": [
       "\n",
       "        <iframe\n",
       "            width=\"100%\"\n",
       "            height=\"1000px\"\n",
       "            src=\"politifact10.html\"\n",
       "            frameborder=\"0\"\n",
       "            allowfullscreen\n",
       "        ></iframe>\n",
       "        "
      ],
      "text/plain": [
       "<IPython.lib.display.IFrame object at 0x7fe033ca1850>"
      ]
     },
     "execution_count": 247,
     "metadata": {},
     "output_type": "execute_result"
    }
   ],
   "source": [
    "# Topic 4 and 5 Least Trusted\n",
    "\n",
    "H = nx.Graph()\n",
    "\n",
    "H.add_node(4)\n",
    "H.add_node(5)\n",
    "\n",
    "for u,v,d in G.edges(data=True):\n",
    "    if u in [4,5] or v in [4,5]:\n",
    "        if d['weight'] < -30:\n",
    "            H.add_edge(u,v,value=abs(d['weight']))\n",
    "            if u not in H.nodes():\n",
    "                H.add_node(u)\n",
    "            if v not in H.nodes():\n",
    "                H.add_node(v)\n",
    "        \n",
    "        \n",
    "print(nx.info(H))\n",
    "        \n",
    "n10 = net.Network(height = \"1000px\", width = \"100%\", notebook = True, \n",
    "                bgcolor = \"#ffffff\", font_color = \"black\",\n",
    "                heading = 'Politifact - Least Truthful for Topics 4 & 5', directed = False)\n",
    "\n",
    "n10.from_nx(nx.Graph(H))\n",
    "n10.show_buttons(filter_=['physics'])\n",
    "n10.show(\"politifact10.html\")"
   ]
  },
  {
   "cell_type": "markdown",
   "metadata": {},
   "source": [
    "### Topic 6 - Most and Least Trusted"
   ]
  },
  {
   "cell_type": "code",
   "execution_count": 249,
   "metadata": {},
   "outputs": [
    {
     "name": "stdout",
     "output_type": "stream",
     "text": [
      "Name: \n",
      "Type: Graph\n",
      "Number of nodes: 7\n",
      "Number of edges: 6\n",
      "Average degree:   1.7143\n"
     ]
    },
    {
     "data": {
      "text/html": [
       "\n",
       "        <iframe\n",
       "            width=\"100%\"\n",
       "            height=\"1000px\"\n",
       "            src=\"politifact11.html\"\n",
       "            frameborder=\"0\"\n",
       "            allowfullscreen\n",
       "        ></iframe>\n",
       "        "
      ],
      "text/plain": [
       "<IPython.lib.display.IFrame object at 0x7fe033e93190>"
      ]
     },
     "execution_count": 249,
     "metadata": {},
     "output_type": "execute_result"
    }
   ],
   "source": [
    "# Topic 6 Most Trusted\n",
    "\n",
    "H = nx.Graph()\n",
    "\n",
    "H.add_node(6)\n",
    "\n",
    "for u,v,d in G.edges(data=True):\n",
    "    if u == 6 or v == 6:\n",
    "        if d['weight'] > 10:\n",
    "            H.add_edge(u,v,value=d['weight'])\n",
    "            if u not in H.nodes():\n",
    "                H.add_node(u)\n",
    "            if v not in H.nodes():\n",
    "                H.add_node(v)\n",
    "        \n",
    "        \n",
    "print(nx.info(H))\n",
    "        \n",
    "n11 = net.Network(height = \"1000px\", width = \"100%\", notebook = True, \n",
    "                bgcolor = \"#ffffff\", font_color = \"black\",\n",
    "                heading = 'Politifact - Most Truthful for Topic 6', directed = False)\n",
    "\n",
    "n11.from_nx(nx.Graph(H))\n",
    "n11.show_buttons(filter_=['physics'])\n",
    "n11.show(\"politifact11.html\")"
   ]
  },
  {
   "cell_type": "code",
   "execution_count": 250,
   "metadata": {},
   "outputs": [
    {
     "name": "stdout",
     "output_type": "stream",
     "text": [
      "Name: \n",
      "Type: Graph\n",
      "Number of nodes: 9\n",
      "Number of edges: 8\n",
      "Average degree:   1.7778\n"
     ]
    },
    {
     "data": {
      "text/html": [
       "\n",
       "        <iframe\n",
       "            width=\"100%\"\n",
       "            height=\"1000px\"\n",
       "            src=\"politifact12.html\"\n",
       "            frameborder=\"0\"\n",
       "            allowfullscreen\n",
       "        ></iframe>\n",
       "        "
      ],
      "text/plain": [
       "<IPython.lib.display.IFrame object at 0x7fe033ccbeb0>"
      ]
     },
     "execution_count": 250,
     "metadata": {},
     "output_type": "execute_result"
    }
   ],
   "source": [
    "# Topic 6 Least Trusted\n",
    "\n",
    "H = nx.Graph()\n",
    "\n",
    "H.add_node(6)\n",
    "\n",
    "for u,v,d in G.edges(data=True):\n",
    "    if u == 6 or v == 6:\n",
    "        if d['weight'] < -30:\n",
    "            H.add_edge(u,v,value=abs(d['weight']))\n",
    "            if u not in H.nodes():\n",
    "                H.add_node(u)\n",
    "            if v not in H.nodes():\n",
    "                H.add_node(v)\n",
    "        \n",
    "        \n",
    "print(nx.info(H))\n",
    "        \n",
    "n12 = net.Network(height = \"1000px\", width = \"100%\", notebook = True, \n",
    "                bgcolor = \"#ffffff\", font_color = \"black\",\n",
    "                heading = 'Politifact - Least Truthful for Topic 6', directed = False)\n",
    "\n",
    "n12.from_nx(nx.Graph(H))\n",
    "n12.show_buttons(filter_=['physics'])\n",
    "n12.show(\"politifact12.html\")"
   ]
  },
  {
   "cell_type": "markdown",
   "metadata": {},
   "source": [
    "### Works Cited\n",
    "1 - https://www.politifact.com/who-pays-for-politifact/\n",
    "\n",
    "2 - https://www.kaggle.com/shivkumarganesh/politifact-factcheck-data"
   ]
  }
 ],
 "metadata": {
  "kernelspec": {
   "display_name": "Python 3",
   "language": "python",
   "name": "python3"
  },
  "language_info": {
   "codemirror_mode": {
    "name": "ipython",
    "version": 3
   },
   "file_extension": ".py",
   "mimetype": "text/x-python",
   "name": "python",
   "nbconvert_exporter": "python",
   "pygments_lexer": "ipython3",
   "version": "3.8.5"
  },
  "toc": {
   "base_numbering": 1,
   "nav_menu": {},
   "number_sections": false,
   "sideBar": true,
   "skip_h1_title": true,
   "title_cell": "Table of Contents",
   "title_sidebar": "Contents",
   "toc_cell": false,
   "toc_position": {},
   "toc_section_display": true,
   "toc_window_display": false
  },
  "varInspector": {
   "cols": {
    "lenName": 16,
    "lenType": 16,
    "lenVar": 40
   },
   "kernels_config": {
    "python": {
     "delete_cmd_postfix": "",
     "delete_cmd_prefix": "del ",
     "library": "var_list.py",
     "varRefreshCmd": "print(var_dic_list())"
    },
    "r": {
     "delete_cmd_postfix": ") ",
     "delete_cmd_prefix": "rm(",
     "library": "var_list.r",
     "varRefreshCmd": "cat(var_dic_list()) "
    }
   },
   "types_to_exclude": [
    "module",
    "function",
    "builtin_function_or_method",
    "instance",
    "_Feature"
   ],
   "window_display": false
  }
 },
 "nbformat": 4,
 "nbformat_minor": 4
}
