{
 "cells": [
  {
   "cell_type": "markdown",
   "metadata": {},
   "source": [
    "## Final Project: Politifact Analysis\n",
    "\n",
    "**GROUP: Forhad Akbar, Adam Douglas, and Soumya Ghosh**"
   ]
  },
  {
   "cell_type": "markdown",
   "metadata": {},
   "source": [
    "### Introduction\n",
    "The website www.politifact.com is a non-partisan fact-checking website that dedicates itself to countering false and misleading political information $^1$. Politifact uses human fact-checkers to research statements made by politicians or viral media that states a political viewpoint. The fact-checker (also known as a \"curtor\") assigns a score for the item: True, Mostly True, Half True, Mostly False, False, and the dreaded \"Pants On Fire\" for the biggest falsehoods. The specifics of their research are also included to provide detail and sources related to their scoring."
   ]
  },
  {
   "cell_type": "markdown",
   "metadata": {},
   "source": [
    "### The Data\n",
    "The data was sourced from the Kaggle web site $^2$ and contains 19,421 records. The items date from  to ."
   ]
  },
  {
   "cell_type": "markdown",
   "metadata": {},
   "source": [
    "### Goal\n",
    "The goal of this analysis is to use NLP techniques on the curator's review to categorize the topics of the record (e.g. budget, coronavirus, election, etc.). Once topics have been assigned to each record, a network analysis of sources will be done to analyze patterns of false information by topic (e.g. politician X frequently puts out more misleading/false information on topic Y than any other)."
   ]
  },
  {
   "cell_type": "markdown",
   "metadata": {},
   "source": [
    "### Analysis\n",
    "#### Data Loading and Cleansing"
   ]
  },
  {
   "cell_type": "markdown",
   "metadata": {},
   "source": [
    "First we will load the data from the CSV file and then prepare the data for analysis."
   ]
  },
  {
   "cell_type": "code",
   "execution_count": 2,
   "metadata": {},
   "outputs": [
    {
     "data": {
      "text/html": [
       "<div>\n",
       "<style scoped>\n",
       "    .dataframe tbody tr th:only-of-type {\n",
       "        vertical-align: middle;\n",
       "    }\n",
       "\n",
       "    .dataframe tbody tr th {\n",
       "        vertical-align: top;\n",
       "    }\n",
       "\n",
       "    .dataframe thead th {\n",
       "        text-align: right;\n",
       "    }\n",
       "</style>\n",
       "<table border=\"1\" class=\"dataframe\">\n",
       "  <thead>\n",
       "    <tr style=\"text-align: right;\">\n",
       "      <th></th>\n",
       "      <th>sources</th>\n",
       "      <th>sources_dates</th>\n",
       "      <th>sources_post_location</th>\n",
       "      <th>sources_quote</th>\n",
       "      <th>curator_name</th>\n",
       "      <th>curated_date</th>\n",
       "      <th>fact</th>\n",
       "      <th>sources_url</th>\n",
       "      <th>curators_article_title</th>\n",
       "      <th>curator_complete_article</th>\n",
       "    </tr>\n",
       "  </thead>\n",
       "  <tbody>\n",
       "    <tr>\n",
       "      <th>0</th>\n",
       "      <td>Viral image</td>\n",
       "      <td>2021-03-20 00:00:00</td>\n",
       "      <td>a Facebook post:\\n</td>\n",
       "      <td>\\nSays Disneyland is enforcing a “no scream” p...</td>\n",
       "      <td>Ciara O'Rourke</td>\n",
       "      <td>2021-03-22 00:00:00</td>\n",
       "      <td>false</td>\n",
       "      <td>https://www.politifact.com/factchecks/2021/mar...</td>\n",
       "      <td>\\nNo, Disneyland isn’t enforcing a ‘no scream’...</td>\n",
       "      <td>\\nBack in July a Japanese amusement park drew ...</td>\n",
       "    </tr>\n",
       "    <tr>\n",
       "      <th>1</th>\n",
       "      <td>Viral image</td>\n",
       "      <td>2021-01-24 00:00:00</td>\n",
       "      <td>a Facebook post:\\n</td>\n",
       "      <td>\\nVideo “proves 100% that President Joe Biden ...</td>\n",
       "      <td>Ciara O'Rourke</td>\n",
       "      <td>2021-03-22 00:00:00</td>\n",
       "      <td>pants-fire</td>\n",
       "      <td>https://www.politifact.com/factchecks/2021/mar...</td>\n",
       "      <td>\\nNo, this video doesn’t prove Biden isn’t hum...</td>\n",
       "      <td>\\nA recent Facebook post uses a video clip of ...</td>\n",
       "    </tr>\n",
       "    <tr>\n",
       "      <th>2</th>\n",
       "      <td>Terry McAuliffe</td>\n",
       "      <td>2021-03-10 00:00:00</td>\n",
       "      <td>a speech:\\n</td>\n",
       "      <td>\\n“If you look at the average teacher pay comp...</td>\n",
       "      <td>Warren Fiske</td>\n",
       "      <td>2021-03-22 00:00:00</td>\n",
       "      <td>true</td>\n",
       "      <td>https://www.politifact.com/factchecks/2021/mar...</td>\n",
       "      <td>\\nVa. teachers pay ranks last in U.S. compared...</td>\n",
       "      <td>\\n\"If you look at the average teacher pay comp...</td>\n",
       "    </tr>\n",
       "    <tr>\n",
       "      <th>3</th>\n",
       "      <td>TikTok posts</td>\n",
       "      <td>2021-03-17 00:00:00</td>\n",
       "      <td>a video caption:\\n</td>\n",
       "      <td>\\n“You will need a WHO Yellow Vaccination Pass...</td>\n",
       "      <td>Daniel Funke</td>\n",
       "      <td>2021-03-22 00:00:00</td>\n",
       "      <td>barely-true</td>\n",
       "      <td>https://www.politifact.com/factchecks/2021/mar...</td>\n",
       "      <td>\\nNo, you don’t need a WHO vaccination certifi...</td>\n",
       "      <td>\\nA popular TikTok video said that if you want...</td>\n",
       "    </tr>\n",
       "    <tr>\n",
       "      <th>4</th>\n",
       "      <td>Mike Bost</td>\n",
       "      <td>2021-03-15 00:00:00</td>\n",
       "      <td>a radio</td>\n",
       "      <td>\\nThe American Rescue Plan Act “does not” incl...</td>\n",
       "      <td>Kiannah Sepeda-Miller</td>\n",
       "      <td>2021-03-21 00:00:00</td>\n",
       "      <td>half-true</td>\n",
       "      <td>https://www.politifact.com/factchecks/2021/mar...</td>\n",
       "      <td>\\nDoes the American Rescue Plan limit how stat...</td>\n",
       "      <td>\\nAfter failing to stop the $1.9 trillion COVI...</td>\n",
       "    </tr>\n",
       "  </tbody>\n",
       "</table>\n",
       "</div>"
      ],
      "text/plain": [
       "           sources        sources_dates sources_post_location  \\\n",
       "0      Viral image  2021-03-20 00:00:00    a Facebook post:\\n   \n",
       "1      Viral image  2021-01-24 00:00:00    a Facebook post:\\n   \n",
       "2  Terry McAuliffe  2021-03-10 00:00:00           a speech:\\n   \n",
       "3     TikTok posts  2021-03-17 00:00:00    a video caption:\\n   \n",
       "4        Mike Bost  2021-03-15 00:00:00              a radio    \n",
       "\n",
       "                                       sources_quote            curator_name  \\\n",
       "0  \\nSays Disneyland is enforcing a “no scream” p...         Ciara O'Rourke    \n",
       "1  \\nVideo “proves 100% that President Joe Biden ...         Ciara O'Rourke    \n",
       "2  \\n“If you look at the average teacher pay comp...           Warren Fiske    \n",
       "3  \\n“You will need a WHO Yellow Vaccination Pass...           Daniel Funke    \n",
       "4  \\nThe American Rescue Plan Act “does not” incl...  Kiannah Sepeda-Miller    \n",
       "\n",
       "          curated_date         fact  \\\n",
       "0  2021-03-22 00:00:00        false   \n",
       "1  2021-03-22 00:00:00   pants-fire   \n",
       "2  2021-03-22 00:00:00         true   \n",
       "3  2021-03-22 00:00:00  barely-true   \n",
       "4  2021-03-21 00:00:00    half-true   \n",
       "\n",
       "                                         sources_url  \\\n",
       "0  https://www.politifact.com/factchecks/2021/mar...   \n",
       "1  https://www.politifact.com/factchecks/2021/mar...   \n",
       "2  https://www.politifact.com/factchecks/2021/mar...   \n",
       "3  https://www.politifact.com/factchecks/2021/mar...   \n",
       "4  https://www.politifact.com/factchecks/2021/mar...   \n",
       "\n",
       "                              curators_article_title  \\\n",
       "0  \\nNo, Disneyland isn’t enforcing a ‘no scream’...   \n",
       "1  \\nNo, this video doesn’t prove Biden isn’t hum...   \n",
       "2  \\nVa. teachers pay ranks last in U.S. compared...   \n",
       "3  \\nNo, you don’t need a WHO vaccination certifi...   \n",
       "4  \\nDoes the American Rescue Plan limit how stat...   \n",
       "\n",
       "                            curator_complete_article  \n",
       "0  \\nBack in July a Japanese amusement park drew ...  \n",
       "1  \\nA recent Facebook post uses a video clip of ...  \n",
       "2  \\n\"If you look at the average teacher pay comp...  \n",
       "3  \\nA popular TikTok video said that if you want...  \n",
       "4  \\nAfter failing to stop the $1.9 trillion COVI...  "
      ]
     },
     "execution_count": 2,
     "metadata": {},
     "output_type": "execute_result"
    }
   ],
   "source": [
    "pol = pd.read_csv(\"politifact.csv\", index_col = 0, usecols = range(0,11))\n",
    "pol.head()"
   ]
  },
  {
   "cell_type": "code",
   "execution_count": 3,
   "metadata": {
    "scrolled": true
   },
   "outputs": [
    {
     "data": {
      "text/html": [
       "<div>\n",
       "<style scoped>\n",
       "    .dataframe tbody tr th:only-of-type {\n",
       "        vertical-align: middle;\n",
       "    }\n",
       "\n",
       "    .dataframe tbody tr th {\n",
       "        vertical-align: top;\n",
       "    }\n",
       "\n",
       "    .dataframe thead th {\n",
       "        text-align: right;\n",
       "    }\n",
       "</style>\n",
       "<table border=\"1\" class=\"dataframe\">\n",
       "  <thead>\n",
       "    <tr style=\"text-align: right;\">\n",
       "      <th></th>\n",
       "      <th>sources</th>\n",
       "      <th>sources_dates</th>\n",
       "      <th>sources_post_location</th>\n",
       "      <th>sources_quote</th>\n",
       "      <th>curator_name</th>\n",
       "      <th>curated_date</th>\n",
       "      <th>fact</th>\n",
       "      <th>sources_url</th>\n",
       "      <th>curators_article_title</th>\n",
       "      <th>curator_complete_article</th>\n",
       "    </tr>\n",
       "  </thead>\n",
       "  <tbody>\n",
       "    <tr>\n",
       "      <th>0</th>\n",
       "      <td>Viral image</td>\n",
       "      <td>2021-03-20 00:00:00</td>\n",
       "      <td>a Facebook post:</td>\n",
       "      <td>Says Disneyland is enforcing a “no scream” po...</td>\n",
       "      <td>Ciara O'Rourke</td>\n",
       "      <td>2021-03-22 00:00:00</td>\n",
       "      <td>false</td>\n",
       "      <td>https://www.politifact.com/factchecks/2021/mar...</td>\n",
       "      <td>No, Disneyland isn’t enforcing a ‘no scream’ ...</td>\n",
       "      <td>Back in July a Japanese amusement park drew a...</td>\n",
       "    </tr>\n",
       "    <tr>\n",
       "      <th>1</th>\n",
       "      <td>Viral image</td>\n",
       "      <td>2021-01-24 00:00:00</td>\n",
       "      <td>a Facebook post:</td>\n",
       "      <td>Video “proves 100% that President Joe Biden i...</td>\n",
       "      <td>Ciara O'Rourke</td>\n",
       "      <td>2021-03-22 00:00:00</td>\n",
       "      <td>pants-fire</td>\n",
       "      <td>https://www.politifact.com/factchecks/2021/mar...</td>\n",
       "      <td>No, this video doesn’t prove Biden isn’t human</td>\n",
       "      <td>A recent Facebook post uses a video clip of a...</td>\n",
       "    </tr>\n",
       "    <tr>\n",
       "      <th>2</th>\n",
       "      <td>Terry McAuliffe</td>\n",
       "      <td>2021-03-10 00:00:00</td>\n",
       "      <td>a speech:</td>\n",
       "      <td>“If you look at the average teacher pay compa...</td>\n",
       "      <td>Warren Fiske</td>\n",
       "      <td>2021-03-22 00:00:00</td>\n",
       "      <td>true</td>\n",
       "      <td>https://www.politifact.com/factchecks/2021/mar...</td>\n",
       "      <td>Va. teachers pay ranks last in U.S. compared ...</td>\n",
       "      <td>\"If you look at the average teacher pay compa...</td>\n",
       "    </tr>\n",
       "    <tr>\n",
       "      <th>3</th>\n",
       "      <td>TikTok posts</td>\n",
       "      <td>2021-03-17 00:00:00</td>\n",
       "      <td>a video caption:</td>\n",
       "      <td>“You will need a WHO Yellow Vaccination Passp...</td>\n",
       "      <td>Daniel Funke</td>\n",
       "      <td>2021-03-22 00:00:00</td>\n",
       "      <td>barely-true</td>\n",
       "      <td>https://www.politifact.com/factchecks/2021/mar...</td>\n",
       "      <td>No, you don’t need a WHO vaccination certific...</td>\n",
       "      <td>A popular TikTok video said that if you want ...</td>\n",
       "    </tr>\n",
       "    <tr>\n",
       "      <th>4</th>\n",
       "      <td>Mike Bost</td>\n",
       "      <td>2021-03-15 00:00:00</td>\n",
       "      <td>a radio</td>\n",
       "      <td>The American Rescue Plan Act “does not” inclu...</td>\n",
       "      <td>Kiannah Sepeda-Miller</td>\n",
       "      <td>2021-03-21 00:00:00</td>\n",
       "      <td>half-true</td>\n",
       "      <td>https://www.politifact.com/factchecks/2021/mar...</td>\n",
       "      <td>Does the American Rescue Plan limit how state...</td>\n",
       "      <td>After failing to stop the $1.9 trillion COVID...</td>\n",
       "    </tr>\n",
       "  </tbody>\n",
       "</table>\n",
       "</div>"
      ],
      "text/plain": [
       "           sources        sources_dates sources_post_location  \\\n",
       "0      Viral image  2021-03-20 00:00:00     a Facebook post:    \n",
       "1      Viral image  2021-01-24 00:00:00     a Facebook post:    \n",
       "2  Terry McAuliffe  2021-03-10 00:00:00            a speech:    \n",
       "3     TikTok posts  2021-03-17 00:00:00     a video caption:    \n",
       "4        Mike Bost  2021-03-15 00:00:00              a radio    \n",
       "\n",
       "                                       sources_quote            curator_name  \\\n",
       "0   Says Disneyland is enforcing a “no scream” po...         Ciara O'Rourke    \n",
       "1   Video “proves 100% that President Joe Biden i...         Ciara O'Rourke    \n",
       "2   “If you look at the average teacher pay compa...           Warren Fiske    \n",
       "3   “You will need a WHO Yellow Vaccination Passp...           Daniel Funke    \n",
       "4   The American Rescue Plan Act “does not” inclu...  Kiannah Sepeda-Miller    \n",
       "\n",
       "          curated_date         fact  \\\n",
       "0  2021-03-22 00:00:00        false   \n",
       "1  2021-03-22 00:00:00   pants-fire   \n",
       "2  2021-03-22 00:00:00         true   \n",
       "3  2021-03-22 00:00:00  barely-true   \n",
       "4  2021-03-21 00:00:00    half-true   \n",
       "\n",
       "                                         sources_url  \\\n",
       "0  https://www.politifact.com/factchecks/2021/mar...   \n",
       "1  https://www.politifact.com/factchecks/2021/mar...   \n",
       "2  https://www.politifact.com/factchecks/2021/mar...   \n",
       "3  https://www.politifact.com/factchecks/2021/mar...   \n",
       "4  https://www.politifact.com/factchecks/2021/mar...   \n",
       "\n",
       "                              curators_article_title  \\\n",
       "0   No, Disneyland isn’t enforcing a ‘no scream’ ...   \n",
       "1    No, this video doesn’t prove Biden isn’t human    \n",
       "2   Va. teachers pay ranks last in U.S. compared ...   \n",
       "3   No, you don’t need a WHO vaccination certific...   \n",
       "4   Does the American Rescue Plan limit how state...   \n",
       "\n",
       "                            curator_complete_article  \n",
       "0   Back in July a Japanese amusement park drew a...  \n",
       "1   A recent Facebook post uses a video clip of a...  \n",
       "2   \"If you look at the average teacher pay compa...  \n",
       "3   A popular TikTok video said that if you want ...  \n",
       "4   After failing to stop the $1.9 trillion COVID...  "
      ]
     },
     "execution_count": 3,
     "metadata": {},
     "output_type": "execute_result"
    }
   ],
   "source": [
    "# Remove newlines\n",
    "pol[\"sources_post_location\"] = pol[\"sources_post_location\"].str.replace(\"\\n\",\" \", regex = False)\n",
    "pol[\"sources_quote\"] = pol[\"sources_quote\"].str.replace(\"\\n\",\" \", regex = False)\n",
    "pol[\"curators_article_title\"] = pol[\"curators_article_title\"].str.replace(\"\\n\",\" \", regex = False)\n",
    "pol[\"curator_complete_article\"] = pol[\"curator_complete_article\"].str.replace(\"\\n\",\" \", regex = False)\n",
    "\n",
    "pol.head()"
   ]
  },
  {
   "cell_type": "code",
   "execution_count": 4,
   "metadata": {
    "scrolled": true
   },
   "outputs": [
    {
     "name": "stdout",
     "output_type": "stream",
     "text": [
      "<class 'pandas.core.frame.DataFrame'>\n",
      "Int64Index: 19422 entries, 0 to 19421\n",
      "Data columns (total 10 columns):\n",
      " #   Column                    Non-Null Count  Dtype \n",
      "---  ------                    --------------  ----- \n",
      " 0   sources                   19422 non-null  object\n",
      " 1   sources_dates             19099 non-null  object\n",
      " 2   sources_post_location     19261 non-null  object\n",
      " 3   sources_quote             19422 non-null  object\n",
      " 4   curator_name              19400 non-null  object\n",
      " 5   curated_date              19333 non-null  object\n",
      " 6   fact                      19422 non-null  object\n",
      " 7   sources_url               19422 non-null  object\n",
      " 8   curators_article_title    19417 non-null  object\n",
      " 9   curator_complete_article  19376 non-null  object\n",
      "dtypes: object(10)\n",
      "memory usage: 1.6+ MB\n"
     ]
    }
   ],
   "source": [
    "pol.info()"
   ]
  },
  {
   "cell_type": "code",
   "execution_count": 5,
   "metadata": {
    "scrolled": true
   },
   "outputs": [
    {
     "data": {
      "text/html": [
       "<div>\n",
       "<style scoped>\n",
       "    .dataframe tbody tr th:only-of-type {\n",
       "        vertical-align: middle;\n",
       "    }\n",
       "\n",
       "    .dataframe tbody tr th {\n",
       "        vertical-align: top;\n",
       "    }\n",
       "\n",
       "    .dataframe thead th {\n",
       "        text-align: right;\n",
       "    }\n",
       "</style>\n",
       "<table border=\"1\" class=\"dataframe\">\n",
       "  <thead>\n",
       "    <tr style=\"text-align: right;\">\n",
       "      <th></th>\n",
       "      <th>sources</th>\n",
       "      <th>sources_dates</th>\n",
       "      <th>sources_post_location</th>\n",
       "      <th>sources_quote</th>\n",
       "      <th>curator_name</th>\n",
       "      <th>curated_date</th>\n",
       "      <th>fact</th>\n",
       "      <th>sources_url</th>\n",
       "      <th>curators_article_title</th>\n",
       "      <th>curator_complete_article</th>\n",
       "    </tr>\n",
       "  </thead>\n",
       "  <tbody>\n",
       "    <tr>\n",
       "      <th>count</th>\n",
       "      <td>19422</td>\n",
       "      <td>19099</td>\n",
       "      <td>19261</td>\n",
       "      <td>19422</td>\n",
       "      <td>19400</td>\n",
       "      <td>19333</td>\n",
       "      <td>19422</td>\n",
       "      <td>19422</td>\n",
       "      <td>19417</td>\n",
       "      <td>19376</td>\n",
       "    </tr>\n",
       "    <tr>\n",
       "      <th>unique</th>\n",
       "      <td>4395</td>\n",
       "      <td>4378</td>\n",
       "      <td>4437</td>\n",
       "      <td>19396</td>\n",
       "      <td>521</td>\n",
       "      <td>3970</td>\n",
       "      <td>9</td>\n",
       "      <td>19421</td>\n",
       "      <td>19395</td>\n",
       "      <td>19353</td>\n",
       "    </tr>\n",
       "    <tr>\n",
       "      <th>top</th>\n",
       "      <td>Facebook posts</td>\n",
       "      <td>2020-11-04 00:00:00</td>\n",
       "      <td>an</td>\n",
       "      <td>On changing the rules for filibusters on pres...</td>\n",
       "      <td>Louis Jacobson</td>\n",
       "      <td>2020-02-20 00:00:00</td>\n",
       "      <td>false</td>\n",
       "      <td>https://www.politifact.com/factchecks/2011/oct...</td>\n",
       "      <td>Milwaukee County executive candidate Chris Ab...</td>\n",
       "      <td>A doppelganger is a ghostly double of a livi...</td>\n",
       "    </tr>\n",
       "    <tr>\n",
       "      <th>freq</th>\n",
       "      <td>1250</td>\n",
       "      <td>30</td>\n",
       "      <td>1953</td>\n",
       "      <td>3</td>\n",
       "      <td>1773</td>\n",
       "      <td>19</td>\n",
       "      <td>4556</td>\n",
       "      <td>2</td>\n",
       "      <td>4</td>\n",
       "      <td>4</td>\n",
       "    </tr>\n",
       "  </tbody>\n",
       "</table>\n",
       "</div>"
      ],
      "text/plain": [
       "               sources        sources_dates sources_post_location  \\\n",
       "count            19422                19099                 19261   \n",
       "unique            4395                 4378                  4437   \n",
       "top     Facebook posts  2020-11-04 00:00:00                   an    \n",
       "freq              1250                   30                  1953   \n",
       "\n",
       "                                            sources_quote     curator_name  \\\n",
       "count                                               19422            19400   \n",
       "unique                                              19396              521   \n",
       "top      On changing the rules for filibusters on pres...  Louis Jacobson    \n",
       "freq                                                    3             1773   \n",
       "\n",
       "               curated_date   fact  \\\n",
       "count                 19333  19422   \n",
       "unique                 3970      9   \n",
       "top     2020-02-20 00:00:00  false   \n",
       "freq                     19   4556   \n",
       "\n",
       "                                              sources_url  \\\n",
       "count                                               19422   \n",
       "unique                                              19421   \n",
       "top     https://www.politifact.com/factchecks/2011/oct...   \n",
       "freq                                                    2   \n",
       "\n",
       "                                   curators_article_title  \\\n",
       "count                                               19417   \n",
       "unique                                              19395   \n",
       "top      Milwaukee County executive candidate Chris Ab...   \n",
       "freq                                                    4   \n",
       "\n",
       "                                 curator_complete_article  \n",
       "count                                               19376  \n",
       "unique                                              19353  \n",
       "top       A doppelganger is a ghostly double of a livi...  \n",
       "freq                                                    4  "
      ]
     },
     "execution_count": 5,
     "metadata": {},
     "output_type": "execute_result"
    }
   ],
   "source": [
    "pol.describe()"
   ]
  },
  {
   "cell_type": "markdown",
   "metadata": {},
   "source": [
    "## Check the most frequent words in the data"
   ]
  },
  {
   "cell_type": "code",
   "execution_count": 46,
   "metadata": {},
   "outputs": [],
   "source": [
    "# function to plot most frequent terms\n",
    "def freq_words(x, terms = 30):\n",
    "  all_words = ' '.join([text for text in x])\n",
    "  all_words = all_words.split()\n",
    "\n",
    "  fdist = FreqDist(all_words)\n",
    "  words_df = pd.DataFrame({'word':list(fdist.keys()), 'count':list(fdist.values())})\n",
    "\n",
    "  # selecting top 20 most frequent words\n",
    "  d = words_df.nlargest(columns=\"count\", n = terms) \n",
    "  plt.figure(figsize=(20,5))\n",
    "  ax = sns.barplot(data=d, x= \"word\", y = \"count\")\n",
    "  ax.set(ylabel = 'Count')\n",
    "  plt.show()"
   ]
  },
  {
   "cell_type": "code",
   "execution_count": 47,
   "metadata": {},
   "outputs": [
    {
     "data": {
      "image/png": "[encoded data removed]",
      "text/plain": [
       "<Figure size 1440x360 with 1 Axes>"
      ]
     },
     "metadata": {
      "needs_background": "light"
     },
     "output_type": "display_data"
    }
   ],
   "source": [
    "freq_words(pol['curator_complete_article'])"
   ]
  },
  {
   "cell_type": "markdown",
   "metadata": {},
   "source": [
    "Let’s try to remove the stopwords and short words (<2 letters) from the articles"
   ]
  },
  {
   "cell_type": "code",
   "execution_count": 15,
   "metadata": {},
   "outputs": [],
   "source": [
    "# remove unwanted characters, numbers and symbols\n",
    "pol['curator_complete_article'] = pol['curator_complete_article'].str.replace(\"[^a-zA-Z#]\", \" \")"
   ]
  },
  {
   "cell_type": "code",
   "execution_count": 16,
   "metadata": {},
   "outputs": [
    {
     "name": "stderr",
     "output_type": "stream",
     "text": [
      "[nltk_data] Downloading package stopwords to\n",
      "[nltk_data]     C:\\Users\\forhad\\AppData\\Roaming\\nltk_data...\n",
      "[nltk_data]   Unzipping corpora\\stopwords.zip.\n"
     ]
    },
    {
     "data": {
      "text/plain": [
       "True"
      ]
     },
     "execution_count": 16,
     "metadata": {},
     "output_type": "execute_result"
    }
   ],
   "source": [
    "nltk.download('stopwords')"
   ]
  },
  {
   "cell_type": "code",
   "execution_count": 17,
   "metadata": {},
   "outputs": [],
   "source": [
    "from nltk.corpus import stopwords\n",
    "stop_words = stopwords.words('english')"
   ]
  },
  {
   "cell_type": "code",
   "execution_count": 32,
   "metadata": {},
   "outputs": [],
   "source": [
    "# function to remove stopwords\n",
    "def remove_stopwords(rev):\n",
    "    rev_new = \" \".join([i for i in rev if i not in stop_words])\n",
    "    return rev_new\n",
    "\n",
    "# remove short words (length < 3)\n",
    "pol['curator_complete_article']= pol['curator_complete_article'].apply(lambda x: ' '.join([w for w in x.split() if len(w)>2]))\n",
    "\n",
    "# remove stopwords from the text\n",
    "pols = [remove_stopwords(r.split()) for r in pol['curator_complete_article']]\n",
    "\n",
    "# make entire text lowercase\n",
    "pols = [r.lower() for r in pols]"
   ]
  },
  {
   "cell_type": "markdown",
   "metadata": {},
   "source": [
    "Let’s again plot the most frequent words and see if the more significant words have come out."
   ]
  },
  {
   "cell_type": "code",
   "execution_count": null,
   "metadata": {},
   "outputs": [],
   "source": [
    "Let’s again plot the most frequent words and see if the more significant words have come out."
   ]
  },
  {
   "cell_type": "code",
   "execution_count": 48,
   "metadata": {},
   "outputs": [
    {
     "data": {
      "image/png": "[encoded data removed]",
      "text/plain": [
       "<Figure size 1440x360 with 1 Axes>"
      ]
     },
     "metadata": {
      "needs_background": "light"
     },
     "output_type": "display_data"
    }
   ],
   "source": [
    "freq_words(pols, 35)"
   ]
  },
  {
   "cell_type": "markdown",
   "metadata": {},
   "source": [
    "To further remove noise from the text we can use lemmatization from the spaCy library. It reduces any given word to its base form thereby reducing multiple forms of a word to a single word."
   ]
  },
  {
   "cell_type": "code",
   "execution_count": 34,
   "metadata": {},
   "outputs": [
    {
     "name": "stdout",
     "output_type": "stream",
     "text": [
      "Collecting en-core-web-sm==3.0.0\n",
      "  Downloading https://github.com/explosion/spacy-models/releases/download/en_core_web_sm-3.0.0/en_core_web_sm-3.0.0-py3-none-any.whl (13.7 MB)\n",
      "Requirement already satisfied: spacy<3.1.0,>=3.0.0 in c:\\users\\forhad\\anaconda3\\lib\\site-packages (from en-core-web-sm==3.0.0) (3.0.6)\n",
      "Requirement already satisfied: setuptools in c:\\users\\forhad\\anaconda3\\lib\\site-packages (from spacy<3.1.0,>=3.0.0->en-core-web-sm==3.0.0) (50.3.1.post20201107)\n",
      "Requirement already satisfied: wasabi<1.1.0,>=0.8.1 in c:\\users\\forhad\\anaconda3\\lib\\site-packages (from spacy<3.1.0,>=3.0.0->en-core-web-sm==3.0.0) (0.8.2)\n",
      "Requirement already satisfied: srsly<3.0.0,>=2.4.1 in c:\\users\\forhad\\anaconda3\\lib\\site-packages (from spacy<3.1.0,>=3.0.0->en-core-web-sm==3.0.0) (2.4.1)\n",
      "Requirement already satisfied: packaging>=20.0 in c:\\users\\forhad\\anaconda3\\lib\\site-packages (from spacy<3.1.0,>=3.0.0->en-core-web-sm==3.0.0) (20.4)\n",
      "Requirement already satisfied: pydantic<1.8.0,>=1.7.1 in c:\\users\\forhad\\anaconda3\\lib\\site-packages (from spacy<3.1.0,>=3.0.0->en-core-web-sm==3.0.0) (1.7.3)\n",
      "Requirement already satisfied: blis<0.8.0,>=0.4.0 in c:\\users\\forhad\\anaconda3\\lib\\site-packages (from spacy<3.1.0,>=3.0.0->en-core-web-sm==3.0.0) (0.7.4)\n",
      "Requirement already satisfied: spacy-legacy<3.1.0,>=3.0.4 in c:\\users\\forhad\\anaconda3\\lib\\site-packages (from spacy<3.1.0,>=3.0.0->en-core-web-sm==3.0.0) (3.0.5)\n",
      "Requirement already satisfied: catalogue<2.1.0,>=2.0.3 in c:\\users\\forhad\\anaconda3\\lib\\site-packages (from spacy<3.1.0,>=3.0.0->en-core-web-sm==3.0.0) (2.0.4)\n",
      "Requirement already satisfied: tqdm<5.0.0,>=4.38.0 in c:\\users\\forhad\\anaconda3\\lib\\site-packages (from spacy<3.1.0,>=3.0.0->en-core-web-sm==3.0.0) (4.50.2)\n",
      "Requirement already satisfied: thinc<8.1.0,>=8.0.3 in c:\\users\\forhad\\anaconda3\\lib\\site-packages (from spacy<3.1.0,>=3.0.0->en-core-web-sm==3.0.0) (8.0.3)\n",
      "Requirement already satisfied: numpy>=1.15.0 in c:\\users\\forhad\\anaconda3\\lib\\site-packages (from spacy<3.1.0,>=3.0.0->en-core-web-sm==3.0.0) (1.19.2)\n",
      "Requirement already satisfied: typer<0.4.0,>=0.3.0 in c:\\users\\forhad\\anaconda3\\lib\\site-packages (from spacy<3.1.0,>=3.0.0->en-core-web-sm==3.0.0) (0.3.2)\n",
      "Requirement already satisfied: preshed<3.1.0,>=3.0.2 in c:\\users\\forhad\\anaconda3\\lib\\site-packages (from spacy<3.1.0,>=3.0.0->en-core-web-sm==3.0.0) (3.0.5)\n",
      "Requirement already satisfied: cymem<2.1.0,>=2.0.2 in c:\\users\\forhad\\anaconda3\\lib\\site-packages (from spacy<3.1.0,>=3.0.0->en-core-web-sm==3.0.0) (2.0.5)\n",
      "Requirement already satisfied: murmurhash<1.1.0,>=0.28.0 in c:\\users\\forhad\\anaconda3\\lib\\site-packages (from spacy<3.1.0,>=3.0.0->en-core-web-sm==3.0.0) (1.0.5)\n",
      "Requirement already satisfied: pathy>=0.3.5 in c:\\users\\forhad\\anaconda3\\lib\\site-packages (from spacy<3.1.0,>=3.0.0->en-core-web-sm==3.0.0) (0.5.2)\n",
      "Requirement already satisfied: requests<3.0.0,>=2.13.0 in c:\\users\\forhad\\anaconda3\\lib\\site-packages (from spacy<3.1.0,>=3.0.0->en-core-web-sm==3.0.0) (2.24.0)\n",
      "Requirement already satisfied: jinja2 in c:\\users\\forhad\\anaconda3\\lib\\site-packages (from spacy<3.1.0,>=3.0.0->en-core-web-sm==3.0.0) (2.11.2)\n",
      "Requirement already satisfied: six in c:\\users\\forhad\\anaconda3\\lib\\site-packages (from packaging>=20.0->spacy<3.1.0,>=3.0.0->en-core-web-sm==3.0.0) (1.15.0)\n",
      "Requirement already satisfied: pyparsing>=2.0.2 in c:\\users\\forhad\\anaconda3\\lib\\site-packages (from packaging>=20.0->spacy<3.1.0,>=3.0.0->en-core-web-sm==3.0.0) (2.4.7)\n",
      "Requirement already satisfied: click<7.2.0,>=7.1.1 in c:\\users\\forhad\\anaconda3\\lib\\site-packages (from typer<0.4.0,>=0.3.0->spacy<3.1.0,>=3.0.0->en-core-web-sm==3.0.0) (7.1.2)\n",
      "Requirement already satisfied: smart-open<4.0.0,>=2.2.0 in c:\\users\\forhad\\anaconda3\\lib\\site-packages (from pathy>=0.3.5->spacy<3.1.0,>=3.0.0->en-core-web-sm==3.0.0) (3.0.0)\n",
      "Requirement already satisfied: certifi>=2017.4.17 in c:\\users\\forhad\\anaconda3\\lib\\site-packages (from requests<3.0.0,>=2.13.0->spacy<3.1.0,>=3.0.0->en-core-web-sm==3.0.0) (2020.6.20)\n",
      "Requirement already satisfied: idna<3,>=2.5 in c:\\users\\forhad\\anaconda3\\lib\\site-packages (from requests<3.0.0,>=2.13.0->spacy<3.1.0,>=3.0.0->en-core-web-sm==3.0.0) (2.10)\n",
      "Requirement already satisfied: urllib3!=1.25.0,!=1.25.1,<1.26,>=1.21.1 in c:\\users\\forhad\\anaconda3\\lib\\site-packages (from requests<3.0.0,>=2.13.0->spacy<3.1.0,>=3.0.0->en-core-web-sm==3.0.0) (1.25.11)\n",
      "Requirement already satisfied: chardet<4,>=3.0.2 in c:\\users\\forhad\\anaconda3\\lib\\site-packages (from requests<3.0.0,>=2.13.0->spacy<3.1.0,>=3.0.0->en-core-web-sm==3.0.0) (3.0.4)\n",
      "Requirement already satisfied: MarkupSafe>=0.23 in c:\\users\\forhad\\anaconda3\\lib\\site-packages (from jinja2->spacy<3.1.0,>=3.0.0->en-core-web-sm==3.0.0) (1.1.1)\n",
      "Installing collected packages: en-core-web-sm\n",
      "Successfully installed en-core-web-sm-3.0.0\n",
      "[!] As of spaCy v3.0, shortcuts like 'en' are deprecated. Please use the full\n",
      "pipeline package name 'en_core_web_sm' instead.\n",
      "[+] Download and installation successful\n",
      "You can now load the package via spacy.load('en_core_web_sm')\n"
     ]
    }
   ],
   "source": [
    "!python -m spacy download en"
   ]
  },
  {
   "cell_type": "code",
   "execution_count": 36,
   "metadata": {},
   "outputs": [],
   "source": [
    "nlp = spacy.load('en_core_web_sm', disable=['parser', 'ner'])\n",
    "\n",
    "def lemmatization(texts, tags=['NOUN', 'ADJ']): # filter noun and adjective\n",
    "       output = []\n",
    "       for sent in texts:\n",
    "             doc = nlp(\" \".join(sent)) \n",
    "             output.append([token.lemma_ for token in doc if token.pos_ in tags])\n",
    "       return output"
   ]
  },
  {
   "cell_type": "code",
   "execution_count": 37,
   "metadata": {},
   "outputs": [
    {
     "name": "stdout",
     "output_type": "stream",
     "text": [
      "['recent', 'facebook', 'post', 'uses', 'video', 'clip', 'debate', 'president', 'donald', 'trump', 'joe', 'biden', 'raise', 'suspicions', 'something', 'visible', 'around', 'biden', 'wrist', 'previous', 'social', 'media', 'posts', 'sept', 'debate', 'wrongly', 'said', 'biden', 'wearing', 'wire', 'aid', 'debate', 'now', 'footage', 'cast', 'evidence', 'biden', 'human', 'this', 'proves', 'that', 'president', 'joe', 'biden', 'not', 'human', 'being', 'description', 'video', 'says', 'someone', 'narrating', 'clip', 'claims', 'something', 'looks', 'like', 'live', 'little', 'serpents', 'emerges', 'biden', 'suit', 'jacket', 'that', 'alive', 'narrator', 'says', 'kind', 'looks', 'like', 'shaking', 'head', 'little', 'bit', 'the', 'camera', 'pans', 'biden', 'narrator', 'says', 'that', 'human', 'people', 'this', 'post', 'flagged', 'part', 'facebook', 'efforts', 'combat', 'false', 'news', 'misinformation', 'news', 'feed', 'read', 'partnership', 'facebook', 'the', 'clip', 'used', 'facebook', 'video', 'comes', 'mark', 'span', 'video', 'debate', 'debate', 'moderator', 'chris', 'wallace', 'asks', 'biden', 'reopening', 'economy', 'schools', 'something', 'visible', 'biden', 'left', 'wrist', 'slips', 'back', 'shirt', 'sleeve', 'appears', 'rosary', 'beads', 'biden', 'wears', 'remember', 'late', 'son', 'beau', 'biden', 'taken', 'rosay', 'beau', 'wearing', 'passed', 'since', 'biden', 'said', 'interview', 'connection', 'the', 'biden', 'campaign', 'told', 'associated', 'press', 'september', 'debate', 'presidential', 'candidate', 'wearing', 'rosary', 'spokesperson', 'campaign', 'also', 'told', 'agence', 'france', 'presse', 'time', 'facebook', 'post', 'calls', 'serpent', 'serpents', 'beau', 'biden', 'rosary', 'rate', 'claim', 'pants', 'fire']\n"
     ]
    }
   ],
   "source": [
    "tokenized_article = pd.Series(pols).apply(lambda x: x.split())\n",
    "print(tokenized_article[1])"
   ]
  },
  {
   "cell_type": "code",
   "execution_count": null,
   "metadata": {},
   "outputs": [],
   "source": [
    "articles_2 = lemmatization(tokenized_article)\n",
    "#print(articles_2[1]) # print lemmatized review"
   ]
  },
  {
   "cell_type": "code",
   "execution_count": 51,
   "metadata": {},
   "outputs": [
    {
     "data": {
      "image/png": "[encoded data removed]",
      "text/plain": [
       "<Figure size 1440x360 with 1 Axes>"
      ]
     },
     "metadata": {
      "needs_background": "light"
     },
     "output_type": "display_data"
    }
   ],
   "source": [
    "articles_3 = []\n",
    "for i in range(len(articles_2)):\n",
    "    articles_3.append(' '.join(articles_2[i]))\n",
    "\n",
    "pol['curator_complete_article'] = articles_3\n",
    "\n",
    "freq_words(pol['curator_complete_article'], 35)"
   ]
  },
  {
   "cell_type": "markdown",
   "metadata": {},
   "source": [
    "## LDA model\n",
    "We will start by creating the term dictionary of our corpus, where every unique term is assigned an index"
   ]
  },
  {
   "cell_type": "code",
   "execution_count": 56,
   "metadata": {},
   "outputs": [],
   "source": [
    "dictionary = corpora.Dictionary(articles_2)"
   ]
  },
  {
   "cell_type": "markdown",
   "metadata": {},
   "source": [
    "Then we will convert the list of articles (articles_2) into a Document Term Matrix using the dictionary prepared above."
   ]
  },
  {
   "cell_type": "code",
   "execution_count": 57,
   "metadata": {},
   "outputs": [],
   "source": [
    "doc_term_matrix = [dictionary.doc2bow(art) for art in articles_2]"
   ]
  },
  {
   "cell_type": "markdown",
   "metadata": {},
   "source": [
    "It takes a while to run following code chunk"
   ]
  },
  {
   "cell_type": "code",
   "execution_count": 58,
   "metadata": {},
   "outputs": [],
   "source": [
    "# Creating the object for LDA model using gensim library\n",
    "LDA = gensim.models.ldamodel.LdaModel\n",
    "\n",
    "# Build LDA model\n",
    "lda_model = LDA(corpus=doc_term_matrix, id2word=dictionary, num_topics=7, random_state=100,\n",
    "                chunksize=1000, passes=50)"
   ]
  },
  {
   "cell_type": "code",
   "execution_count": 59,
   "metadata": {},
   "outputs": [
    {
     "data": {
      "text/plain": [
       "[(0,\n",
       "  '0.029*\"tax\" + 0.017*\"health\" + 0.015*\"budget\" + 0.013*\"plan\" + 0.013*\"care\" + 0.013*\"year\" + 0.011*\"federal\" + 0.010*\"government\" + 0.010*\"taxis\" + 0.010*\"money\"'),\n",
       " (1,\n",
       "  '0.025*\"law\" + 0.015*\"state\" + 0.013*\"gun\" + 0.010*\"crime\" + 0.010*\"immigration\" + 0.009*\"immigrant\" + 0.009*\"border\" + 0.009*\"people\" + 0.009*\"illegal\" + 0.008*\"case\"'),\n",
       " (2,\n",
       "  '0.026*\"health\" + 0.025*\"abortion\" + 0.017*\"woman\" + 0.011*\"child\" + 0.010*\"medical\" + 0.010*\"death\" + 0.009*\"drug\" + 0.009*\"amp\" + 0.009*\"care\" + 0.008*\"life\"'),\n",
       " (3,\n",
       "  '0.014*\"trump\" + 0.012*\"news\" + 0.010*\"obama\" + 0.009*\"post\" + 0.008*\"president\" + 0.008*\"story\" + 0.008*\"people\" + 0.007*\"time\" + 0.006*\"white\" + 0.006*\"clinton\"'),\n",
       " (4,\n",
       "  '0.033*\"percent\" + 0.031*\"state\" + 0.021*\"year\" + 0.018*\"job\" + 0.017*\"number\" + 0.016*\"rate\" + 0.013*\"school\" + 0.011*\"high\" + 0.009*\"datum\" + 0.008*\"new\"'),\n",
       " (5,\n",
       "  '0.019*\"republican\" + 0.015*\"state\" + 0.014*\"bill\" + 0.014*\"campaign\" + 0.013*\"vote\" + 0.010*\"election\" + 0.009*\"party\" + 0.008*\"house\" + 0.008*\"voter\" + 0.008*\"democratic\"'),\n",
       " (6,\n",
       "  '0.018*\"obama\" + 0.011*\"state\" + 0.008*\"united\" + 0.008*\"oil\" + 0.008*\"country\" + 0.007*\"energy\" + 0.007*\"president\" + 0.007*\"mccain\" + 0.007*\"company\" + 0.007*\"war\"')]"
      ]
     },
     "execution_count": 59,
     "metadata": {},
     "output_type": "execute_result"
    }
   ],
   "source": [
    "lda_model.print_topics()"
   ]
  },
  {
   "cell_type": "markdown",
   "metadata": {},
   "source": [
    "## Topics Visualization\n",
    "To visualize our topics in a 2-dimensional space we will use the pyLDAvis library. This visualization is interactive in nature and displays topics along with the most relevant words."
   ]
  },
  {
   "cell_type": "code",
   "execution_count": 62,
   "metadata": {},
   "outputs": [
    {
     "name": "stderr",
     "output_type": "stream",
     "text": [
      "C:\\Users\\forhad\\anaconda3\\lib\\site-packages\\ipykernel\\ipkernel.py:287: DeprecationWarning: `should_run_async` will not call `transform_cell` automatically in the future. Please pass the result to `transformed_cell` argument and any exception that happen during thetransform in `preprocessing_exc_tuple` in IPython 7.17 and above.\n",
      "  and should_run_async(code)\n"
     ]
    },
    {
     "data": {
      "text/html": [
       "\n",
       "<link rel=\"stylesheet\" type=\"text/css\" href=\"https://cdn.jsdelivr.net/gh/bmabey/pyLDAvis@3.3.1/pyLDAvis/js/ldavis.v1.0.0.css\">\n",
       "\n",
       "\n",
       "<div id=\"ldavis_el848827229499635521537075653\"></div>\n",
       "<script type=\"text/javascript\">\n",
       "\n",
       "var ldavis_el848827229499635521537075653_data = {\"mdsDat\": {\"x\": [-0.03367962633957158, -0.04744838311527328, -0.0621989060098307, -0.14243928265743352, -0.04787285523573402, 0.059766589742527146, 0.2738724636153157], \"y\": [0.13650634549549295, 0.15226395873809134, -0.20583363372929672, -0.047683692039747226, 0.008658519984247659, -0.021803054171584197, -0.02210844427720365], \"topics\": [1, 2, 3, 4, 5, 6, 7], \"cluster\": [1, 1, 1, 1, 1, 1, 1], \"Freq\": [19.352509232695528, 18.54452543128928, 16.4241785839759, 16.228850769833016, 12.038487102390096, 10.955783722631885, 6.455665157184291]}, \"tinfo\": {\"Term\": [\"tax\", \"percent\", \"health\", \"law\", \"budget\", \"job\", \"republican\", \"abortion\", \"care\", \"vote\", \"state\", \"woman\", \"trump\", \"obama\", \"gun\", \"taxis\", \"school\", \"bill\", \"insurance\", \"plan\", \"election\", \"number\", \"crime\", \"spending\", \"campaign\", \"voter\", \"immigration\", \"datum\", \"cut\", \"immigrant\", \"unemployment\", \"teacher\", \"census\", \"tuition\", \"median\", \"graduation\", \"bls\", \"superintendent\", \"capita\", \"pupil\", \"burtless\", \"dropout\", \"oecd\", \"jobless\", \"hourly\", \"educator\", \"buono\", \"diploma\", \"gwinnett\", \"bachelor\", \"falk\", \"clackama\", \"subprime\", \"graph\", \"saez\", \"furlough\", \"marta\", \"demographer\", \"multnomah\", \"regent\", \"wage\", \"student\", \"workforce\", \"statistic\", \"scholarship\", \"education\", \"gdp\", \"employment\", \"ranking\", \"providence\", \"graduate\", \"job\", \"bureau\", \"school\", \"recession\", \"percentage\", \"rhode\", \"grade\", \"survey\", \"chart\", \"percent\", \"datum\", \"labor\", \"average\", \"trend\", \"poverty\", \"figure\", \"population\", \"jersey\", \"college\", \"number\", \"high\", \"growth\", \"rate\", \"state\", \"year\", \"worker\", \"low\", \"texas\", \"economic\", \"city\", \"district\", \"new\", \"study\", \"report\", \"county\", \"time\", \"true\", \"claim\", \"statement\", \"people\", \"tax\", \"taxis\", \"insurance\", \"medicare\", \"stimulus\", \"taxpayer\", \"payment\", \"premium\", \"cbo\", \"pension\", \"affordable\", \"obamacare\", \"insurer\", \"uninsured\", \"deduction\", \"kaine\", \"beneficiary\", \"cantor\", \"portman\", \"taxation\", \"lottery\", \"marketplace\", \"voucher\", \"millionaire\", \"payer\", \"strickland\", \"entitlement\", \"irs\", \"koch\", \"aarp\", \"debt\", \"budget\", \"spending\", \"cut\", \"revenue\", \"deficit\", \"saving\", \"mortgage\", \"benefit\", \"surplus\", \"plan\", \"fund\", \"coverage\", \"cost\", \"care\", \"fiscal\", \"money\", \"loan\", \"income\", \"health\", \"employer\", \"program\", \"dollar\", \"government\", \"federal\", \"credit\", \"bill\", \"year\", \"proposal\", \"obama\", \"people\", \"law\", \"percent\", \"policy\", \"rate\", \"republican\", \"new\", \"marriage\", \"palin\", \"gingrich\", \"gay\", \"giuliani\", \"christian\", \"bachmann\", \"fake\", \"casino\", \"cain\", \"blogger\", \"protester\", \"meme\", \"god\", \"slave\", \"prayer\", \"bible\", \"rourke\", \"christmas\", \"bowl\", \"rumor\", \"bain\", \"lynch\", \"slavery\", \"nfl\", \"newt\", \"mosque\", \"cannon\", \"ayer\", \"crossroad\", \"muslim\", \"flag\", \"religious\", \"father\", \"image\", \"biden\", \"church\", \"huckabee\", \"facebook\", \"trump\", \"photo\", \"post\", \"medium\", \"pant\", \"video\", \"headline\", \"story\", \"fire\", \"news\", \"internet\", \"white\", \"donald\", \"man\", \"book\", \"clinton\", \"black\", \"event\", \"fox\", \"article\", \"website\", \"president\", \"false\", \"obama\", \"people\", \"time\", \"day\", \"site\", \"american\", \"claim\", \"fact\", \"part\", \"comment\", \"word\", \"new\", \"statement\", \"politifact\", \"campaign\", \"first\", \"vote\", \"poll\", \"crist\", \"voting\", \"ballot\", \"earmark\", \"mccollum\", \"polling\", \"mack\", \"feingold\", \"mandel\", \"hutchison\", \"barne\", \"wasserman\", \"filibuster\", \"meek\", \"grayson\", \"delegate\", \"flop\", \"turnout\", \"broward\", \"pollster\", \"absentee\", \"lemieux\", \"moveon\", \"electoral\", \"handel\", \"redistricting\", \"hasner\", \"sotomayor\", \"voter\", \"election\", \"lobbyist\", \"pac\", \"nelson\", \"incumbent\", \"party\", \"ethic\", \"reid\", \"rubio\", \"flip\", \"seat\", \"senate\", \"amendment\", \"republican\", \"candidate\", \"democrat\", \"primary\", \"democratic\", \"nomination\", \"campaign\", \"senator\", \"gop\", \"political\", \"bill\", \"position\", \"committee\", \"race\", \"house\", \"florida\", \"sen\", \"member\", \"support\", \"state\", \"governor\", \"time\", \"congress\", \"county\", \"obama\", \"law\", \"president\", \"statement\", \"day\", \"office\", \"claim\", \"oil\", \"iraq\", \"nuclear\", \"iran\", \"coal\", \"drilling\", \"emission\", \"afghanistan\", \"gallon\", \"gulf\", \"carbon\", \"korea\", \"epa\", \"pipeline\", \"solar\", \"treaty\", \"electricity\", \"syria\", \"electric\", \"export\", \"warming\", \"spill\", \"iraqi\", \"qaida\", \"saudi\", \"japan\", \"greenhouse\", \"pentagon\", \"iranian\", \"pollution\", \"gas\", \"energy\", \"troop\", \"barrel\", \"china\", \"trade\", \"plant\", \"environmental\", \"fuel\", \"climate\", \"production\", \"foreign\", \"water\", \"war\", \"global\", \"military\", \"israel\", \"international\", \"natural\", \"united\", \"world\", \"price\", \"mccain\", \"obama\", \"industry\", \"company\", \"country\", \"project\", \"administration\", \"defense\", \"power\", \"president\", \"state\", \"government\", \"year\", \"american\", \"nation\", \"statement\", \"new\", \"policy\", \"bush\", \"time\", \"gun\", \"crime\", \"immigration\", \"immigrant\", \"criminal\", \"firearm\", \"citizenship\", \"undocumented\", \"amnesty\", \"patrol\", \"offender\", \"jail\", \"cicilline\", \"alien\", \"felony\", \"homicide\", \"nra\", \"offense\", \"visa\", \"deportation\", \"homeless\", \"inmate\", \"apprehension\", \"prosecution\", \"handgun\", \"sanctuary\", \"fence\", \"migrant\", \"misdemeanor\", \"noncitizen\", \"illegal\", \"prison\", \"enforcement\", \"border\", \"murder\", \"assault\", \"shooting\", \"fbi\", \"violent\", \"rape\", \"police\", \"violence\", \"refugee\", \"arrest\", \"legal\", \"license\", \"law\", \"officer\", \"justice\", \"court\", \"victim\", \"attorney\", \"background\", \"case\", \"department\", \"city\", \"state\", \"federal\", \"people\", \"texas\", \"check\", \"agency\", \"child\", \"security\", \"year\", \"country\", \"policy\", \"statement\", \"report\", \"right\", \"abortion\", \"amp\", \"disease\", \"parenthood\", \"vaccine\", \"cancer\", \"cdc\", \"pregnancy\", \"covid\", \"coronavirus\", \"virus\", \"flu\", \"incest\", \"infection\", \"mortality\", \"reproductive\", \"infant\", \"outbreak\", \"obesity\", \"contraceptive\", \"contraception\", \"vaccination\", \"fda\", \"deer\", \"embryonic\", \"medication\", \"nunn\", \"fetus\", \"breast\", \"ultrasound\", \"marijuana\", \"pandemic\", \"clinic\", \"pregnant\", \"physician\", \"illness\", \"patient\", \"doctor\", \"medical\", \"medicine\", \"animal\", \"hospital\", \"woman\", \"birth\", \"drug\", \"treatment\", \"food\", \"death\", \"prevention\", \"life\", \"health\", \"child\", \"study\", \"human\", \"care\", \"research\", \"service\", \"people\", \"case\", \"risk\", \"center\", \"test\", \"state\", \"claim\", \"group\", \"public\"], \"Freq\": [33434.0, 48181.0, 29854.0, 31514.0, 17714.0, 24001.0, 26276.0, 10179.0, 18594.0, 13408.0, 77511.0, 9753.0, 15835.0, 42438.0, 8899.0, 11550.0, 17463.0, 27517.0, 10678.0, 17540.0, 10400.0, 28462.0, 7164.0, 9626.0, 21920.0, 8435.0, 6551.0, 12839.0, 9116.0, 6408.0, 5312.594579600114, 4158.261205176066, 3226.05375452478, 1489.6728578275543, 1283.397911848274, 961.1587887716053, 789.8039645941625, 458.73904193181016, 445.2743337190301, 412.0929549435343, 408.4387589363315, 382.4665770665502, 324.3914074541214, 321.46805064835917, 295.33286271792673, 291.7866990740505, 255.076673042097, 247.09728216280806, 232.737446144023, 224.097791116714, 216.05740034061748, 196.57861532017554, 198.68890956128885, 171.5019653455774, 166.85892798122572, 165.71043626051392, 162.61288188077498, 160.21348818632967, 144.49547330155679, 143.5148806343708, 4028.997645047049, 8531.660894332517, 1101.628620265756, 6710.6964725209455, 540.5456310756451, 8092.4239691789135, 1949.5834069941368, 3133.5750999093393, 706.5700270584953, 848.866622743448, 823.0299337320135, 21742.58957790147, 4502.775691491564, 15625.951704108975, 2827.6375667670864, 4717.313171880362, 2028.5455245674243, 1332.3805478792437, 3549.848515522799, 1853.4340765606623, 39305.0142088792, 11078.489793281404, 3948.674555121716, 6991.216163869475, 1742.7188421966357, 2322.0052055463448, 9150.938031044383, 4823.540697246302, 3118.39512098074, 4200.780100989554, 20103.681456403483, 12795.601469119802, 4231.768610778834, 19389.07525515162, 37140.18465449234, 25708.76351355805, 5868.637030658227, 6460.667734199717, 7533.519301764604, 5655.470782972781, 7202.3702582768165, 5746.190841484866, 9720.632090344721, 5849.047911723052, 7057.739784051564, 5916.760046023585, 8187.727734222539, 6003.2573374857, 6031.517999355069, 5727.775056970313, 5684.316144313854, 33433.90981306373, 11549.899212536266, 10677.691700187606, 6815.117384570886, 4665.655246987652, 4111.582362310644, 3050.9759326803996, 2678.8670063841073, 2213.6311145971667, 2165.144807733038, 1814.9535039160307, 1267.9549257455365, 1244.9402975262117, 1042.9762207449019, 1021.1485675516012, 949.16344147546, 946.2900137331809, 846.9102502088704, 846.6587267933365, 617.7168612766161, 616.4500183065967, 605.9399086781192, 603.4417121196029, 589.6044224666863, 568.8144464648075, 574.2711914074329, 535.5403565829, 463.66876959071874, 449.6359516280291, 362.7352849838924, 6996.512704739884, 17450.43947718029, 9499.31709141799, 8915.55488110424, 5639.0873646192695, 4072.2146042025456, 2261.4814409696487, 1029.9192934317996, 5826.000980574747, 965.1045039533503, 15006.521335024827, 7105.9223600945, 5073.97950458402, 9616.155408356106, 14946.03288297812, 4721.6490059027965, 11213.4830414478, 1897.631506568376, 8817.353136082724, 19434.169570167713, 3063.2909500955275, 9791.653699756302, 4609.141066933219, 12023.460899759913, 12246.843323357118, 3853.235826974442, 10202.362951538626, 14731.239024393906, 4009.018723133583, 10289.759223691899, 8387.946973700986, 8192.950667939343, 8267.442543043551, 5839.735034512532, 6146.124629826373, 5505.016966354751, 5418.9858569001935, 2738.5234756918, 2598.4447431440467, 2416.4349559730335, 1915.3135249343522, 1668.2223322153418, 1448.8341207998565, 1273.462065381136, 1218.3893849959154, 890.5787649975696, 860.4415351969552, 797.4770801109488, 674.3939516018487, 673.2078414469603, 611.0096134017268, 549.9269980908016, 541.4099911904032, 489.0809845289809, 486.31935841635453, 482.9840908560631, 473.41084531796184, 458.6791210099958, 419.9715341036455, 419.6360451097678, 398.90890882187654, 387.9565500383644, 375.7381005238234, 368.4824129554298, 367.83919854574543, 360.69000263931963, 352.425372926049, 2200.8221140353194, 1390.5860743641376, 1731.53843940942, 1397.1361316593634, 2048.265218759898, 3524.510549812959, 1386.1422318830982, 1696.8829333029914, 4351.0998439291825, 13856.043520711184, 2445.641166539082, 9324.204990310991, 3721.5783951639387, 2957.596059061845, 4420.970779817511, 1849.2255927622339, 8121.162571705949, 3747.2000922131774, 12233.347969423618, 1804.2209221726634, 6504.762881430603, 2309.1853572702817, 4015.2615836428417, 2858.8192721760315, 6086.851309391855, 3101.0923061605667, 2595.3194767833006, 2546.9212679228576, 4625.939107672495, 3883.706239741681, 8559.40125786691, 5468.238948785222, 10291.83994098719, 7776.134119759405, 7519.226250688335, 5239.081059298065, 2894.0634496370512, 5319.144657781547, 5385.67227437373, 4391.705403903565, 4174.464083478945, 3504.2566766657646, 3241.7028111295494, 4184.50406130533, 4019.823995389628, 3482.9402129559166, 3616.759347124033, 3457.4268266645236, 13407.259252593007, 5822.258967045497, 3636.676106443364, 3092.8716241804177, 2600.8578541588913, 1732.4750064622115, 1096.7952325234705, 894.7040549590055, 844.3940977389306, 808.6102258759024, 761.7189822906366, 699.6555689218733, 692.315088047933, 685.0740274446688, 609.3633402638039, 609.5723173117101, 578.4712757438367, 550.8436967327987, 524.7719536114167, 494.2391457423338, 471.41912909692235, 406.37275400880895, 383.86596720254613, 375.19179905205783, 359.9820004346381, 333.2460509346816, 331.9026102172345, 325.08189050347687, 320.7553996669132, 319.5119980185074, 8298.82957835733, 9916.816868616566, 2081.099994234135, 1009.3504192761827, 1215.4619003527907, 908.5205848572847, 8920.427505232063, 996.5429432454298, 1353.147601135961, 3660.1871440631758, 830.6957877949941, 1985.2331584368853, 6906.860453650142, 5447.518920266627, 19535.803373134182, 7150.627877910642, 5813.916857884413, 3675.0880444300033, 7772.470495338931, 1298.9765778497226, 13766.814812554254, 4249.13915505142, 2924.2258499902855, 5695.8425863567145, 14244.334792600079, 3963.347660480462, 5298.964880729721, 2891.8637562873037, 8532.255880071249, 5653.964670326801, 4325.130894556442, 5242.93970180862, 4603.863608842573, 15246.396827931354, 5026.443723366689, 7033.818076642356, 4292.060895523668, 4583.97342565687, 6781.909387490164, 6017.519671455306, 5370.924176488007, 5153.954375297862, 4625.460496852686, 4510.330055414386, 4466.291413359534, 6077.111365941495, 3435.0410442142147, 2631.1732318529985, 2314.195865556788, 1375.467538572791, 1299.7356754561772, 1219.6407446461058, 1069.4855365303945, 1021.231592121676, 934.3228544203671, 926.7174316641027, 834.9128986941641, 815.2945696653996, 716.3227830255212, 714.5045321387202, 697.0844366065872, 691.9970325276852, 685.1082957936899, 644.9991903196412, 636.824274528602, 617.6637432322519, 614.0028914455717, 611.0006703537497, 597.8190508862184, 565.621819859059, 538.4700689206007, 520.2077776937616, 507.0025513912891, 505.4577463425565, 490.9676087575091, 4076.678315223708, 5615.959014849222, 2363.7864814195077, 898.5195919232242, 2486.246675378587, 3470.2883220321323, 1799.4481302031104, 1509.8198942152826, 1230.553135246738, 2093.655042976858, 1650.398771155309, 3607.3695403610996, 3266.0035157235707, 4930.212635050344, 2026.0403463384, 4188.565969572586, 1031.6963271856464, 2593.501619519346, 1427.6017471840594, 6259.847153853993, 3832.8823121105243, 3126.5923902186337, 5434.281512603862, 13695.777731473278, 2460.876672165493, 5092.900099807261, 5641.559665582962, 3395.4815845470457, 4102.694096521526, 2379.1452630976673, 2392.7494449106457, 5536.304307794441, 7886.231478718162, 3827.4859645084202, 4843.65528945877, 3527.923622646466, 2755.34570823981, 3454.6665427261837, 3347.353718123458, 2986.6185477148765, 2735.474698644453, 2936.1898017790236, 8898.658771324916, 7163.207141578915, 6550.376487023932, 6407.575692140483, 3385.5585013527593, 2064.19044243349, 1768.6679931960825, 1455.595102582283, 1138.4341004698242, 1041.291840918077, 956.9194991949105, 922.1846352224179, 907.2123187373811, 900.2245428058101, 882.3647359907712, 869.3330351649817, 837.2739276150223, 811.964206373644, 808.2360663884716, 756.2873391788552, 748.3255554452076, 731.9163765396253, 645.8811955837332, 628.5636535486266, 620.3264008981594, 578.3641778316047, 546.0126531039123, 531.2002311273529, 467.9109689954952, 411.97124461794687, 5984.38350525829, 2438.93813408086, 3286.1242481126847, 6251.928592900392, 1529.9042353571265, 1475.3395878386245, 1156.2183164498028, 1969.940129092548, 1774.163844751464, 1255.9851693641426, 4831.645868270462, 2299.061988390543, 1226.3732156376343, 1164.4549325458695, 4415.447822863845, 1477.3902478398593, 16832.997461994622, 2944.3855623194313, 2820.7256399820426, 5026.218587378787, 1428.3387979841527, 2745.4190264616036, 2125.6572493166946, 5470.180589517939, 5086.469097941222, 4661.044196499249, 9969.47249352183, 5379.394564363159, 6203.60965802107, 4058.5556412893106, 2676.4292605346013, 2741.63884815419, 2942.2060000520937, 2870.6280039326275, 4070.564240054885, 2865.0161403377533, 2890.1460349609883, 3107.55641629632, 2956.222291396868, 2753.884245156753, 10178.4749083272, 3687.8399908566544, 2248.06484498524, 2218.28417741227, 1337.8751997879594, 1319.425750556423, 1246.7011739245365, 1201.7935858632538, 1111.4164342733666, 1058.4061033194098, 858.1953336306807, 591.3133904979869, 527.9992538853445, 456.64177892842594, 442.29021204457666, 441.4432166485175, 434.76998068252203, 394.5096849911252, 367.245763549883, 352.67277758173316, 344.01108336804504, 332.91352135410983, 317.80008058771074, 310.26770575443663, 308.41650624031513, 303.84111353496587, 304.01372430444235, 283.86618175672686, 283.50719917992495, 279.6480134035822, 1777.2310521944312, 577.0908069706037, 1087.6647422879114, 549.7187664381181, 1146.8159187997678, 793.853409247376, 3254.5193029882803, 2709.8442030732886, 3997.1689922200308, 987.6856214126357, 1023.2519262888392, 2667.1246903589913, 6964.995474373814, 2088.646104992154, 3759.062809252406, 1599.6353643394127, 2653.15941714069, 3984.3031016779987, 1037.5771901327112, 3413.0850930646707, 10419.500400530376, 4316.108496118842, 3171.262539044002, 1695.9136803100805, 3647.2213455493106, 2553.3470228432384, 2759.059675828173, 3265.307581574034, 2306.790484258534, 1392.305988672667, 1823.2143923933936, 1418.1685816667784, 2299.930876485213, 1675.9972622464434, 1579.0576662831922, 1483.0563527370978], \"Total\": [33434.0, 48181.0, 29854.0, 31514.0, 17714.0, 24001.0, 26276.0, 10179.0, 18594.0, 13408.0, 77511.0, 9753.0, 15835.0, 42438.0, 8899.0, 11550.0, 17463.0, 27517.0, 10678.0, 17540.0, 10400.0, 28462.0, 7164.0, 9626.0, 21920.0, 8435.0, 6551.0, 12839.0, 9116.0, 6408.0, 5313.5381508903665, 4159.205388929802, 3226.9971940081728, 1490.6166411978206, 1284.3412537431334, 962.1014178188627, 790.7463027115721, 459.6837039570755, 446.21808298003606, 413.0358076824623, 409.3818136019699, 383.409228047408, 325.33500449813425, 322.41243191580827, 296.2762038010786, 292.7318290633247, 256.0202348857727, 248.04029787004652, 233.68318544659954, 225.0412555730479, 217.00231936747534, 197.52339535097173, 199.67069239723895, 172.44593824964232, 167.80128132183538, 166.65749761687653, 163.5575984036582, 161.15664637759355, 145.4415586175362, 144.45960041111388, 4110.689340486272, 8805.440660312835, 1114.5743235686114, 6959.975266777817, 549.511528822342, 8537.582928820046, 2013.3390869561915, 3297.276483900914, 722.1680536398591, 870.9024031961683, 846.6135231481378, 24001.39879016733, 4819.271419058391, 17463.068862126016, 3001.090029913931, 5092.739221788624, 2139.3343078561156, 1392.4151692324724, 3868.353194801536, 1978.105359130704, 48181.20254782301, 12839.407969287611, 4374.577985535877, 7992.946070709531, 1873.327087071438, 2559.419372285709, 11329.441303739568, 5692.594746806401, 3549.332356789001, 4940.8983136831075, 28462.475228705764, 18638.970039828757, 5348.422417095188, 33579.21895673883, 77511.60860608354, 56915.09556209912, 9109.653020080263, 10443.11004161274, 13297.067835050038, 8778.518699193568, 13682.730761735123, 9587.466070180157, 29072.022703942414, 11230.240276603292, 18525.14086774047, 12004.390587052523, 31351.002682695613, 20791.24315397528, 27514.81440447104, 27849.81418468128, 32872.011157441964, 33434.877438173855, 11550.867301308057, 10678.660009947089, 6816.084404020656, 4666.625423217547, 4112.55208811604, 3051.9446661720203, 2679.834070772975, 2214.597893613069, 2166.112956842295, 1815.9221245014144, 1268.922450595291, 1245.9078947257638, 1043.9440108712217, 1022.1152911123838, 950.1339602081106, 947.2580439434445, 847.8794912983337, 847.6300327824298, 618.6853126202192, 617.4203329166874, 606.908881172776, 604.4095549905786, 590.5725828268979, 569.7822024843466, 575.2495065810825, 536.5081046404729, 464.6365750542722, 450.6057811124267, 363.7037301820067, 7030.729905698479, 17714.512091523364, 9626.515957273796, 9116.39492693441, 5741.733698488194, 4138.796836059523, 2299.0110539022016, 1047.6686907307665, 6379.795108361049, 980.9750115198811, 17540.02318705916, 8016.067249366199, 5630.9489249763765, 11380.038637066698, 18594.035827322554, 5515.30725425976, 14300.079833779588, 2033.1565826356828, 11810.19915702658, 29854.45116642583, 3649.1663979464565, 14844.038285154704, 6116.260518143195, 22552.292670554478, 23334.377642556985, 5344.29240345191, 27517.662410303943, 56915.09556209912, 5783.518976807413, 42438.63401973948, 32872.011157441964, 31514.83925115734, 48181.20254782301, 14881.38625935379, 33579.21895673883, 26276.354651556438, 29072.022703942414, 2739.4269866980185, 2599.352951552666, 2417.3416643105456, 1916.2179076279147, 1669.131025205978, 1449.7386027533005, 1274.3708268105847, 1219.2917172503696, 891.4820167072177, 861.3485088455482, 798.382660927573, 675.2970555927656, 674.1109306703275, 611.912537295064, 550.8295532983766, 542.3127152190282, 489.984040693822, 487.2228841486254, 483.88937020232976, 474.31441576137, 459.58204136244564, 420.87877340459374, 420.5444789867197, 399.8113623594808, 388.85843658239696, 376.6462918983918, 369.3852390776032, 368.75597323991485, 361.5930445000493, 353.3385913679488, 2236.7990740449395, 1412.852618359986, 1763.8078072705641, 1435.683099478965, 2123.317555410491, 3724.7774657454584, 1426.852889112942, 1758.7444827959596, 4676.036479342486, 15835.967940506054, 2652.999949667623, 10946.929791940547, 4211.8219862616625, 3335.8779327342277, 5151.4460870907615, 2108.0716186735967, 10922.048992812368, 4621.291268383062, 17573.841291820045, 2083.1282178133647, 10107.905633986717, 2867.025489348225, 5817.73863228772, 3764.9399391557663, 11155.376858760115, 4372.674797177303, 3418.28719025263, 3417.394974160833, 8862.386198448605, 6789.702961496816, 25380.111366771303, 12070.977253878043, 42438.63401973948, 32872.011157441964, 31351.002682695613, 15900.784670696421, 4594.689902382334, 19847.075189672756, 27514.81440447104, 15864.599573647803, 13947.914925595094, 8113.161302063393, 6504.657867300694, 29072.022703942414, 27849.81418468128, 13093.561462842184, 21920.431635553578, 14194.692190688422, 13408.211626215325, 5823.211661636308, 3637.628638991316, 3093.82320457012, 2601.8091594586463, 1733.4271512379053, 1097.7512077585436, 895.6570498321445, 845.3474613213085, 809.5619843109149, 762.6716200645209, 700.6141934534488, 693.2709981854565, 686.0270380616515, 610.3153160680502, 610.5280005651279, 579.4265899501661, 551.7965899542992, 525.7249799739617, 495.1906423348084, 472.37466491496406, 407.32606727831063, 384.8166714613533, 376.1447126871059, 360.94682204156226, 334.1978302014693, 332.8550000505785, 326.0326804532654, 321.7081273733398, 320.46534004106434, 8435.93610325729, 10400.492049276749, 2134.660964631144, 1025.5163667324011, 1248.2179769879929, 928.0646036208317, 9889.909370993357, 1031.0900560067078, 1420.913810319693, 4107.59864668192, 859.1710567911856, 2186.518314933835, 8398.6682860538, 6540.891564634645, 26276.354651556438, 9161.746812149733, 7500.234392802738, 4523.945114256876, 10674.03402924873, 1415.4065194109799, 21920.431635553578, 5696.497686377762, 3700.2752463077845, 8760.005014380738, 27517.662410303943, 5835.0429797200295, 8599.201437324933, 4006.152018226416, 19004.797676236172, 10784.576700928234, 7720.285547598643, 10383.413130040855, 9119.596659957868, 77511.60860608354, 10877.55194953547, 31351.002682695613, 9871.112778598546, 12004.390587052523, 42438.63401973948, 31514.83925115734, 25380.111366771303, 27849.81418468128, 15900.784670696421, 16818.841472859658, 27514.81440447104, 6078.06728140089, 3435.9971864144436, 2632.1284466902907, 2315.1506846384896, 1376.4225024386692, 1300.692191362513, 1220.595695335493, 1070.4424739121393, 1022.1872366514883, 935.2803555956871, 927.6725250480442, 835.8680530446409, 816.2498904480583, 717.2790529190924, 715.4592583165308, 698.0400668854637, 692.9528583575027, 686.0633720293885, 645.9564183105998, 637.7793514066612, 618.6189097780102, 614.9590537957007, 611.955797280121, 598.7741296549137, 566.5766072791944, 539.4263159905298, 521.1628265467735, 507.95895667964817, 506.4130530813528, 491.92331140494355, 4098.652427342249, 5678.009207732271, 2377.3125245630886, 905.279702298622, 2562.556153885545, 3613.111353125462, 1860.05871020814, 1554.6860507016938, 1265.553627456111, 2214.388611683186, 1725.9717295057808, 4027.303238500367, 3669.227440436183, 5931.793138783817, 2247.184555353227, 5061.846059830946, 1075.2846093286762, 3137.267660444783, 1607.935739689319, 10273.988341442098, 6221.253111354928, 4813.103651998202, 10421.138430981984, 42438.63401973948, 3742.5262741908687, 11532.322406827847, 13701.13766088359, 6696.529738329883, 9430.70572340493, 3870.4821002640983, 4084.4129520821084, 25380.111366771303, 77511.60860608354, 22552.292670554478, 56915.09556209912, 19847.075189672756, 7927.4653346607365, 27849.81418468128, 29072.022703942414, 14881.38625935379, 8376.032589939054, 31351.002682695613, 8899.568135887568, 7164.116798806433, 6551.285855406883, 6408.485234772064, 3386.4681680950653, 2065.099283039774, 1769.5784490367075, 1456.504131688319, 1139.3436540773284, 1042.201159698934, 957.8292331026773, 923.0949121855541, 908.1252685779228, 901.1339255440125, 883.2743057348328, 870.2423278680621, 838.1833939985346, 812.8750865628538, 809.1454198903921, 757.1981079017535, 749.2357810254902, 732.825479375909, 646.7896827871095, 629.4731303954643, 621.2351292871257, 579.2730726521147, 546.9236430626131, 532.1100202518039, 468.82076591057694, 412.8805738744001, 6056.8710288235125, 2460.7758614377085, 3326.4466138654097, 6480.402831902762, 1562.422644259933, 1509.2315806914996, 1181.8014753031296, 2064.2092660882836, 1852.04292494585, 1299.194013169869, 5460.890691591474, 2547.0726906566765, 1285.7380555189993, 1221.4624768164838, 5705.226018563083, 1622.201946933187, 31514.83925115734, 3910.5771735977246, 3882.192046276635, 8824.383999551428, 1649.4149280285274, 4414.64758833202, 3064.684199352381, 13599.752618483319, 13343.232587739785, 13682.730761735123, 77511.60860608354, 23334.377642556985, 32872.011157441964, 13297.067835050038, 5838.734105037743, 7559.213197185006, 10514.758397010672, 10110.591751075797, 56915.09556209912, 13701.13766088359, 14881.38625935379, 27849.81418468128, 18525.14086774047, 13385.904695537694, 10179.37658517111, 3688.740242540936, 2248.9661803125528, 2219.185224578742, 1338.7755901772491, 1320.3269267336427, 1247.6018530053304, 1202.6943017339352, 1112.3171579433524, 1059.3069410152411, 859.0962365192764, 592.2139495099527, 528.900587415807, 457.5423046274427, 443.1908561874351, 442.344596544593, 435.67117279714546, 395.41044327819316, 368.14646733154575, 353.57398837236417, 344.9121629997258, 333.8139946360235, 318.70080420561715, 311.1724117635129, 309.3175277032103, 304.74221363794385, 304.92571411831995, 284.7667280232537, 284.4083862566769, 280.548599364249, 1831.9629791296638, 583.784478023572, 1121.649862499273, 561.2941278090203, 1199.8669234871018, 824.922529450887, 3594.960953228951, 3040.813249997443, 4739.234319268643, 1067.5871286560337, 1119.2860313474669, 3238.798678722627, 9753.857446086606, 2555.4925443963116, 5310.573698997889, 1974.0100564946176, 3693.843220785863, 6333.785034660661, 1272.931030305851, 6288.5399992922175, 29854.45116642583, 10514.758397010672, 11230.240276603292, 3544.6559932299683, 18594.035827322554, 8905.338471997551, 11353.091366016819, 32872.011157441964, 13599.752618483319, 2574.368158498847, 9842.554484261607, 2877.933656810624, 77511.60860608354, 27514.81440447104, 16794.678630998238, 17199.087064857486], \"Category\": [\"Default\", \"Default\", \"Default\", \"Default\", \"Default\", \"Default\", \"Default\", \"Default\", \"Default\", \"Default\", \"Default\", \"Default\", \"Default\", \"Default\", \"Default\", \"Default\", \"Default\", \"Default\", \"Default\", \"Default\", \"Default\", \"Default\", \"Default\", \"Default\", \"Default\", \"Default\", \"Default\", \"Default\", \"Default\", \"Default\", \"Topic1\", \"Topic1\", \"Topic1\", \"Topic1\", \"Topic1\", \"Topic1\", \"Topic1\", \"Topic1\", \"Topic1\", \"Topic1\", \"Topic1\", \"Topic1\", \"Topic1\", \"Topic1\", \"Topic1\", \"Topic1\", \"Topic1\", \"Topic1\", \"Topic1\", \"Topic1\", \"Topic1\", \"Topic1\", \"Topic1\", \"Topic1\", \"Topic1\", \"Topic1\", \"Topic1\", \"Topic1\", \"Topic1\", \"Topic1\", \"Topic1\", \"Topic1\", \"Topic1\", \"Topic1\", \"Topic1\", \"Topic1\", \"Topic1\", \"Topic1\", \"Topic1\", \"Topic1\", \"Topic1\", \"Topic1\", \"Topic1\", \"Topic1\", \"Topic1\", \"Topic1\", \"Topic1\", \"Topic1\", \"Topic1\", \"Topic1\", \"Topic1\", \"Topic1\", \"Topic1\", \"Topic1\", \"Topic1\", \"Topic1\", \"Topic1\", \"Topic1\", \"Topic1\", \"Topic1\", \"Topic1\", \"Topic1\", \"Topic1\", \"Topic1\", \"Topic1\", \"Topic1\", \"Topic1\", \"Topic1\", \"Topic1\", \"Topic1\", \"Topic1\", \"Topic1\", \"Topic1\", \"Topic1\", \"Topic1\", \"Topic1\", \"Topic1\", \"Topic1\", \"Topic1\", \"Topic1\", \"Topic1\", \"Topic2\", \"Topic2\", \"Topic2\", \"Topic2\", \"Topic2\", \"Topic2\", \"Topic2\", \"Topic2\", \"Topic2\", \"Topic2\", \"Topic2\", \"Topic2\", \"Topic2\", \"Topic2\", \"Topic2\", \"Topic2\", \"Topic2\", \"Topic2\", \"Topic2\", \"Topic2\", \"Topic2\", \"Topic2\", \"Topic2\", \"Topic2\", \"Topic2\", \"Topic2\", \"Topic2\", \"Topic2\", \"Topic2\", \"Topic2\", \"Topic2\", \"Topic2\", \"Topic2\", \"Topic2\", \"Topic2\", \"Topic2\", \"Topic2\", \"Topic2\", \"Topic2\", \"Topic2\", \"Topic2\", \"Topic2\", \"Topic2\", \"Topic2\", \"Topic2\", \"Topic2\", \"Topic2\", \"Topic2\", \"Topic2\", \"Topic2\", \"Topic2\", \"Topic2\", \"Topic2\", \"Topic2\", \"Topic2\", \"Topic2\", \"Topic2\", \"Topic2\", \"Topic2\", \"Topic2\", \"Topic2\", \"Topic2\", \"Topic2\", \"Topic2\", \"Topic2\", \"Topic2\", \"Topic2\", \"Topic3\", \"Topic3\", \"Topic3\", \"Topic3\", \"Topic3\", \"Topic3\", \"Topic3\", \"Topic3\", \"Topic3\", \"Topic3\", \"Topic3\", \"Topic3\", \"Topic3\", \"Topic3\", \"Topic3\", \"Topic3\", \"Topic3\", \"Topic3\", \"Topic3\", \"Topic3\", \"Topic3\", \"Topic3\", \"Topic3\", \"Topic3\", \"Topic3\", \"Topic3\", \"Topic3\", \"Topic3\", \"Topic3\", \"Topic3\", \"Topic3\", \"Topic3\", \"Topic3\", \"Topic3\", \"Topic3\", \"Topic3\", \"Topic3\", \"Topic3\", \"Topic3\", \"Topic3\", \"Topic3\", \"Topic3\", \"Topic3\", \"Topic3\", \"Topic3\", \"Topic3\", \"Topic3\", \"Topic3\", \"Topic3\", \"Topic3\", \"Topic3\", \"Topic3\", \"Topic3\", \"Topic3\", \"Topic3\", \"Topic3\", \"Topic3\", \"Topic3\", \"Topic3\", \"Topic3\", \"Topic3\", \"Topic3\", \"Topic3\", \"Topic3\", \"Topic3\", \"Topic3\", \"Topic3\", \"Topic3\", \"Topic3\", \"Topic3\", \"Topic3\", \"Topic3\", \"Topic3\", \"Topic3\", \"Topic3\", \"Topic3\", \"Topic3\", \"Topic3\", \"Topic4\", \"Topic4\", \"Topic4\", \"Topic4\", \"Topic4\", \"Topic4\", \"Topic4\", \"Topic4\", \"Topic4\", \"Topic4\", \"Topic4\", \"Topic4\", \"Topic4\", \"Topic4\", \"Topic4\", \"Topic4\", \"Topic4\", \"Topic4\", \"Topic4\", \"Topic4\", \"Topic4\", \"Topic4\", \"Topic4\", \"Topic4\", \"Topic4\", \"Topic4\", \"Topic4\", \"Topic4\", \"Topic4\", \"Topic4\", \"Topic4\", \"Topic4\", \"Topic4\", \"Topic4\", \"Topic4\", \"Topic4\", \"Topic4\", \"Topic4\", \"Topic4\", \"Topic4\", \"Topic4\", \"Topic4\", \"Topic4\", \"Topic4\", \"Topic4\", \"Topic4\", \"Topic4\", \"Topic4\", \"Topic4\", \"Topic4\", \"Topic4\", \"Topic4\", \"Topic4\", \"Topic4\", \"Topic4\", \"Topic4\", \"Topic4\", \"Topic4\", \"Topic4\", \"Topic4\", \"Topic4\", \"Topic4\", \"Topic4\", \"Topic4\", \"Topic4\", \"Topic4\", \"Topic4\", \"Topic4\", \"Topic4\", \"Topic4\", \"Topic4\", \"Topic4\", \"Topic4\", \"Topic4\", \"Topic4\", \"Topic5\", \"Topic5\", \"Topic5\", \"Topic5\", \"Topic5\", \"Topic5\", \"Topic5\", \"Topic5\", \"Topic5\", \"Topic5\", \"Topic5\", \"Topic5\", \"Topic5\", \"Topic5\", \"Topic5\", \"Topic5\", \"Topic5\", \"Topic5\", \"Topic5\", \"Topic5\", \"Topic5\", \"Topic5\", \"Topic5\", \"Topic5\", \"Topic5\", \"Topic5\", \"Topic5\", \"Topic5\", \"Topic5\", \"Topic5\", \"Topic5\", \"Topic5\", \"Topic5\", \"Topic5\", \"Topic5\", \"Topic5\", \"Topic5\", \"Topic5\", \"Topic5\", \"Topic5\", \"Topic5\", \"Topic5\", \"Topic5\", \"Topic5\", \"Topic5\", \"Topic5\", \"Topic5\", \"Topic5\", \"Topic5\", \"Topic5\", \"Topic5\", \"Topic5\", \"Topic5\", \"Topic5\", \"Topic5\", \"Topic5\", \"Topic5\", \"Topic5\", \"Topic5\", \"Topic5\", \"Topic5\", \"Topic5\", \"Topic5\", \"Topic5\", \"Topic5\", \"Topic5\", \"Topic5\", \"Topic5\", \"Topic5\", \"Topic5\", \"Topic5\", \"Topic5\", \"Topic6\", \"Topic6\", \"Topic6\", \"Topic6\", \"Topic6\", \"Topic6\", \"Topic6\", \"Topic6\", \"Topic6\", \"Topic6\", \"Topic6\", \"Topic6\", \"Topic6\", \"Topic6\", \"Topic6\", \"Topic6\", \"Topic6\", \"Topic6\", \"Topic6\", \"Topic6\", \"Topic6\", \"Topic6\", \"Topic6\", \"Topic6\", \"Topic6\", \"Topic6\", \"Topic6\", \"Topic6\", \"Topic6\", \"Topic6\", \"Topic6\", \"Topic6\", \"Topic6\", \"Topic6\", \"Topic6\", \"Topic6\", \"Topic6\", \"Topic6\", \"Topic6\", \"Topic6\", \"Topic6\", \"Topic6\", \"Topic6\", \"Topic6\", \"Topic6\", \"Topic6\", \"Topic6\", \"Topic6\", \"Topic6\", \"Topic6\", \"Topic6\", \"Topic6\", \"Topic6\", \"Topic6\", \"Topic6\", \"Topic6\", \"Topic6\", \"Topic6\", \"Topic6\", \"Topic6\", \"Topic6\", \"Topic6\", \"Topic6\", \"Topic6\", \"Topic6\", \"Topic6\", \"Topic6\", \"Topic6\", \"Topic6\", \"Topic6\", \"Topic7\", \"Topic7\", \"Topic7\", \"Topic7\", \"Topic7\", \"Topic7\", \"Topic7\", \"Topic7\", \"Topic7\", \"Topic7\", \"Topic7\", \"Topic7\", \"Topic7\", \"Topic7\", \"Topic7\", \"Topic7\", \"Topic7\", \"Topic7\", \"Topic7\", \"Topic7\", \"Topic7\", \"Topic7\", \"Topic7\", \"Topic7\", \"Topic7\", \"Topic7\", \"Topic7\", \"Topic7\", \"Topic7\", \"Topic7\", \"Topic7\", \"Topic7\", \"Topic7\", \"Topic7\", \"Topic7\", \"Topic7\", \"Topic7\", \"Topic7\", \"Topic7\", \"Topic7\", \"Topic7\", \"Topic7\", \"Topic7\", \"Topic7\", \"Topic7\", \"Topic7\", \"Topic7\", \"Topic7\", \"Topic7\", \"Topic7\", \"Topic7\", \"Topic7\", \"Topic7\", \"Topic7\", \"Topic7\", \"Topic7\", \"Topic7\", \"Topic7\", \"Topic7\", \"Topic7\", \"Topic7\", \"Topic7\", \"Topic7\", \"Topic7\", \"Topic7\", \"Topic7\"], \"logprob\": [30.0, 29.0, 28.0, 27.0, 26.0, 25.0, 24.0, 23.0, 22.0, 21.0, 20.0, 19.0, 18.0, 17.0, 16.0, 15.0, 14.0, 13.0, 12.0, 11.0, 10.0, 9.0, 8.0, 7.0, 6.0, 5.0, 4.0, 3.0, 2.0, 1.0, -5.4261, -5.6711, -5.9249, -6.6976, -6.8467, -7.1358, -7.3321, -7.8754, -7.9052, -7.9827, -7.9916, -8.0573, -8.222, -8.231, -8.3158, -8.3279, -8.4624, -8.4941, -8.554, -8.5918, -8.6284, -8.7229, -8.7122, -8.8593, -8.8868, -8.8937, -8.9126, -8.9274, -9.0307, -9.0375, -5.7027, -4.9524, -6.9994, -5.1925, -7.7114, -5.0052, -6.4286, -5.954, -7.4435, -7.26, -7.2909, -4.0169, -5.5915, -4.3472, -6.0567, -5.5449, -6.3889, -6.8092, -5.8293, -6.4791, -3.4248, -4.6912, -5.7228, -5.1515, -6.5407, -6.2537, -4.8823, -5.5227, -5.9589, -5.6609, -4.0953, -4.5471, -5.6536, -4.1315, -3.4815, -3.8493, -5.3266, -5.2304, -5.0768, -5.3636, -5.1218, -5.3476, -4.8219, -5.3299, -5.142, -5.3184, -4.9935, -5.3039, -5.2992, -5.3508, -5.3585, -3.544, -4.6068, -4.6854, -5.1344, -5.5133, -5.6397, -5.9381, -6.0681, -6.2589, -6.281, -6.4575, -6.8161, -6.8344, -7.0114, -7.0326, -7.1057, -7.1087, -7.2197, -7.22, -7.5353, -7.5373, -7.5545, -7.5586, -7.5818, -7.6177, -7.6082, -7.678, -7.8221, -7.8528, -8.0676, -5.1081, -4.1942, -4.8023, -4.8657, -5.3238, -5.6493, -6.2375, -7.024, -5.2912, -7.089, -4.345, -5.0926, -5.4294, -4.7901, -4.3491, -5.5014, -4.6364, -6.4129, -4.8768, -4.0865, -5.934, -4.772, -5.5255, -4.5667, -4.5483, -5.7046, -4.7309, -4.3636, -5.665, -4.7224, -4.9267, -4.9503, -4.9412, -5.2888, -5.2377, -5.3479, -5.3636, -5.9247, -5.9772, -6.0498, -6.2822, -6.4203, -6.5613, -6.6904, -6.7346, -7.048, -7.0824, -7.1584, -7.326, -7.3278, -7.4247, -7.5301, -7.5457, -7.6473, -7.653, -7.6599, -7.6799, -7.7115, -7.7997, -7.8005, -7.8511, -7.879, -7.911, -7.9305, -7.9322, -7.9518, -7.975, -6.1433, -6.6024, -6.3831, -6.5977, -6.2151, -5.6724, -6.6056, -6.4033, -5.4617, -4.3034, -6.0378, -4.6995, -5.618, -5.8477, -5.4457, -6.3173, -4.8376, -5.6111, -4.4279, -6.342, -5.0596, -6.0952, -5.542, -5.8817, -5.126, -5.8004, -5.9784, -5.9972, -5.4004, -5.5753, -4.7851, -5.2331, -4.6008, -4.881, -4.9146, -5.276, -5.8694, -5.2608, -5.2484, -5.4524, -5.5031, -5.6781, -5.756, -5.5007, -5.5409, -5.6842, -5.6465, -5.6916, -4.3243, -5.1585, -5.6291, -5.791, -5.9643, -6.3706, -6.8278, -7.0314, -7.0893, -7.1326, -7.1923, -7.2773, -7.2879, -7.2984, -7.4155, -7.4151, -7.4675, -7.5164, -7.5649, -7.6249, -7.6722, -7.8206, -7.8776, -7.9005, -7.9418, -8.019, -8.0231, -8.0438, -8.0572, -8.0611, -4.804, -4.6259, -6.1872, -6.9108, -6.725, -7.0161, -4.7318, -6.9236, -6.6177, -5.6226, -7.1056, -6.2344, -4.9876, -5.225, -3.9479, -4.9529, -5.1599, -5.6186, -4.8696, -6.6586, -4.2979, -5.4734, -5.8471, -5.1804, -4.2638, -5.5431, -5.2526, -5.8582, -4.7763, -5.1878, -5.4557, -5.2633, -5.3932, -4.1958, -5.3054, -4.9694, -5.4634, -5.3976, -5.0059, -5.1255, -5.2391, -5.2804, -5.3886, -5.4138, -5.4236, -4.8169, -5.3874, -5.654, -5.7824, -6.3027, -6.3593, -6.4229, -6.5543, -6.6005, -6.6894, -6.6976, -6.8019, -6.8257, -6.9551, -6.9576, -6.9823, -6.9896, -6.9996, -7.06, -7.0727, -7.1033, -7.1092, -7.1141, -7.1359, -7.1913, -7.2405, -7.275, -7.3007, -7.3038, -7.3328, -5.2162, -4.8958, -5.7612, -6.7285, -5.7107, -5.3772, -6.034, -6.2095, -6.414, -5.8825, -6.1204, -5.3385, -5.4379, -5.0261, -5.9154, -5.1891, -6.5903, -5.6685, -6.2655, -4.7873, -5.2778, -5.4815, -4.9287, -4.0044, -5.7209, -4.9936, -4.8913, -5.399, -5.2098, -5.7547, -5.749, -4.9101, -4.5563, -5.2793, -5.0438, -5.3608, -5.6079, -5.3817, -5.4133, -5.5273, -5.6152, -5.5443, -4.3413, -4.5583, -4.6477, -4.6697, -5.3077, -5.8025, -5.957, -6.1518, -6.3976, -6.4868, -6.5713, -6.6082, -6.6246, -6.6323, -6.6524, -6.6672, -6.7048, -6.7355, -6.7401, -6.8066, -6.8171, -6.8393, -6.9644, -6.9915, -7.0047, -7.0748, -7.1323, -7.1598, -7.2867, -7.414, -4.7381, -5.6357, -5.3375, -4.6943, -6.102, -6.1383, -6.3821, -5.8492, -5.9539, -6.2993, -4.952, -5.6947, -6.3232, -6.375, -5.0421, -6.1369, -3.7039, -5.4473, -5.4902, -4.9126, -6.1707, -5.5173, -5.7731, -4.8279, -4.9006, -4.988, -4.2277, -4.8446, -4.7021, -5.1264, -5.5427, -5.5187, -5.4481, -5.4727, -5.1234, -5.4746, -5.4659, -5.3934, -5.4433, -5.5142, -3.678, -4.6933, -5.1882, -5.2016, -5.7072, -5.7211, -5.7778, -5.8145, -5.8927, -5.9415, -6.1512, -6.5237, -6.637, -6.7822, -6.8141, -6.816, -6.8312, -6.9284, -7.0, -7.0405, -7.0654, -7.0982, -7.1446, -7.1686, -7.1746, -7.1896, -7.189, -7.2576, -7.2588, -7.2725, -5.4233, -6.5481, -5.9143, -6.5967, -5.8613, -6.2292, -4.8183, -5.0014, -4.6127, -6.0107, -5.9753, -5.0173, -4.0574, -5.2618, -4.6741, -5.5285, -5.0226, -4.6159, -5.9614, -4.7707, -3.6546, -4.536, -4.8442, -5.4701, -4.7043, -5.0609, -4.9834, -4.815, -5.1625, -5.6673, -5.3977, -5.6489, -5.1654, -5.4819, -5.5415, -5.6042], \"loglift\": [30.0, 29.0, 28.0, 27.0, 26.0, 25.0, 24.0, 23.0, 22.0, 21.0, 20.0, 19.0, 18.0, 17.0, 16.0, 15.0, 14.0, 13.0, 12.0, 11.0, 10.0, 9.0, 8.0, 7.0, 6.0, 5.0, 4.0, 3.0, 2.0, 1.0, 1.6422, 1.6421, 1.6421, 1.6417, 1.6416, 1.6414, 1.6412, 1.6403, 1.6402, 1.6401, 1.64, 1.6399, 1.6394, 1.6394, 1.6392, 1.6391, 1.6387, 1.6385, 1.6383, 1.6381, 1.638, 1.6376, 1.6374, 1.6369, 1.6367, 1.6366, 1.6366, 1.6365, 1.6358, 1.6358, 1.6223, 1.6108, 1.6307, 1.6059, 1.6259, 1.5888, 1.6102, 1.5914, 1.6205, 1.6167, 1.6141, 1.5435, 1.5744, 1.5312, 1.5828, 1.5658, 1.5892, 1.5983, 1.5564, 1.5772, 1.4387, 1.4948, 1.5399, 1.5084, 1.5701, 1.545, 1.4288, 1.4767, 1.5129, 1.4801, 1.2947, 1.2662, 1.4082, 1.0932, 0.9066, 0.8476, 1.2026, 1.1621, 1.0742, 1.2027, 1.0006, 1.1304, 0.5468, 0.99, 0.6773, 0.9349, 0.2997, 0.4001, 0.1246, 0.0608, -0.1126, 1.685, 1.6849, 1.6849, 1.6849, 1.6848, 1.6848, 1.6847, 1.6846, 1.6846, 1.6845, 1.6845, 1.6842, 1.6842, 1.6841, 1.684, 1.684, 1.684, 1.6839, 1.6838, 1.6834, 1.6834, 1.6834, 1.6834, 1.6834, 1.6833, 1.6833, 1.6832, 1.6829, 1.6828, 1.6823, 1.6801, 1.67, 1.6717, 1.6627, 1.667, 1.6688, 1.6685, 1.6679, 1.5942, 1.6687, 1.529, 1.5645, 1.5808, 1.5166, 1.4666, 1.5296, 1.4418, 1.616, 1.3928, 1.2557, 1.51, 1.2689, 1.4021, 1.056, 1.0403, 1.3579, 0.6928, 0.3334, 1.3185, 0.2681, 0.3192, 0.3378, -0.0776, 0.7496, -0.0131, 0.122, 0.0051, 1.8061, 1.8061, 1.806, 1.8059, 1.8059, 1.8058, 1.8057, 1.8057, 1.8054, 1.8054, 1.8053, 1.8051, 1.8051, 1.8049, 1.8048, 1.8047, 1.8046, 1.8046, 1.8045, 1.8045, 1.8044, 1.8043, 1.8043, 1.8042, 1.8041, 1.804, 1.804, 1.8039, 1.8039, 1.8038, 1.7902, 1.7905, 1.788, 1.7792, 1.7704, 1.7512, 1.7775, 1.7706, 1.7344, 1.6729, 1.725, 1.646, 1.6827, 1.6861, 1.6535, 1.6754, 1.5101, 1.5968, 1.4442, 1.6627, 1.3656, 1.59, 1.4356, 1.5311, 1.2006, 1.4628, 1.531, 1.5124, 1.1563, 1.2478, 0.7195, 1.0146, 0.3897, 0.3649, 0.3786, 0.6962, 1.3442, 0.4897, 0.1754, 0.522, 0.6001, 0.9669, 1.11, -0.132, -0.1292, 0.4822, 0.0046, 0.3941, 1.8183, 1.8182, 1.8181, 1.8181, 1.818, 1.8178, 1.8175, 1.8173, 1.8173, 1.8172, 1.8171, 1.817, 1.817, 1.817, 1.8168, 1.8168, 1.8167, 1.8167, 1.8166, 1.8165, 1.8164, 1.816, 1.8159, 1.8158, 1.8157, 1.8155, 1.8155, 1.8155, 1.8154, 1.8154, 1.802, 1.7708, 1.793, 1.8025, 1.7918, 1.7971, 1.7152, 1.7843, 1.7695, 1.7031, 1.7847, 1.7218, 1.6228, 1.6355, 1.522, 1.5705, 1.5637, 1.6106, 1.5012, 1.7325, 1.3532, 1.5252, 1.583, 1.3879, 1.1599, 1.4316, 1.3342, 1.4924, 1.0175, 1.1726, 1.239, 1.1351, 1.1348, 0.1923, 1.0464, 0.3239, 0.9855, 0.8557, -0.0154, 0.1626, 0.2654, 0.1313, 0.5836, 0.5023, 0.0002, 2.1169, 2.1168, 2.1167, 2.1166, 2.1164, 2.1163, 2.1163, 2.1162, 2.1161, 2.116, 2.116, 2.1159, 2.1159, 2.1157, 2.1157, 2.1157, 2.1157, 2.1157, 2.1156, 2.1156, 2.1155, 2.1155, 2.1155, 2.1155, 2.1154, 2.1153, 2.1152, 2.1152, 2.1152, 2.1151, 2.1117, 2.1061, 2.1114, 2.1096, 2.0868, 2.0767, 2.0839, 2.0878, 2.089, 2.061, 2.0723, 2.0069, 2.0006, 1.9321, 2.0135, 1.9277, 2.0757, 1.9267, 1.9981, 1.6216, 1.6327, 1.6857, 1.466, 0.9861, 1.6978, 1.2998, 1.2297, 1.4379, 1.2847, 1.6304, 1.5823, 0.5944, -0.1682, 0.3434, -0.3468, 0.3897, 1.0603, 0.03, -0.0445, 0.5111, 0.998, -0.2511, 2.2112, 2.2112, 2.2112, 2.2112, 2.211, 2.2109, 2.2108, 2.2107, 2.2105, 2.2104, 2.2104, 2.2103, 2.2103, 2.2103, 2.2103, 2.2103, 2.2102, 2.2102, 2.2102, 2.2101, 2.2101, 2.2101, 2.2099, 2.2099, 2.2098, 2.2097, 2.2096, 2.2096, 2.2094, 2.2091, 2.1993, 2.2024, 2.1991, 2.1754, 2.1903, 2.1886, 2.1894, 2.1646, 2.1683, 2.1775, 2.0889, 2.1089, 2.164, 2.1635, 1.955, 2.1178, 1.5842, 1.9275, 1.8919, 1.6485, 2.0674, 1.7363, 1.8454, 1.3006, 1.2469, 1.1344, 0.1604, 0.744, 0.5438, 1.0246, 1.4313, 1.1971, 0.9377, 0.9522, -0.4265, 0.6464, 0.5725, 0.0183, 0.3761, 0.6301, 2.7401, 2.74, 2.7398, 2.7398, 2.7395, 2.7395, 2.7395, 2.7395, 2.7394, 2.7394, 2.7392, 2.7387, 2.7385, 2.7382, 2.7382, 2.7382, 2.7381, 2.7379, 2.7378, 2.7377, 2.7376, 2.7375, 2.7374, 2.7373, 2.7373, 2.7373, 2.7372, 2.737, 2.737, 2.737, 2.7099, 2.7287, 2.7094, 2.7194, 2.695, 2.7018, 2.6407, 2.625, 2.5699, 2.6624, 2.6505, 2.546, 2.4034, 2.5385, 2.3947, 2.5299, 2.4093, 2.2767, 2.5358, 2.1291, 1.6876, 1.8498, 1.4757, 2.003, 1.1113, 1.491, 1.3256, 0.4309, 0.966, 2.1256, 1.0541, 2.0325, -0.7773, -0.0581, 0.376, 0.2895]}, \"token.table\": {\"Topic\": [2, 7, 4, 1, 2, 3, 4, 5, 6, 7, 2, 5, 1, 2, 5, 6, 7, 6, 4, 6, 1, 2, 3, 4, 5, 6, 7, 6, 7, 3, 7, 6, 3, 6, 1, 2, 3, 4, 5, 6, 7, 3, 6, 3, 4, 6, 1, 2, 5, 3, 1, 3, 1, 2, 3, 4, 5, 6, 7, 3, 4, 4, 5, 6, 2, 1, 2, 5, 6, 7, 3, 3, 5, 2, 4, 5, 6, 7, 1, 3, 6, 7, 1, 3, 6, 3, 1, 1, 2, 3, 4, 5, 6, 5, 6, 3, 7, 4, 1, 2, 1, 1, 4, 5, 6, 1, 1, 2, 3, 4, 5, 6, 3, 1, 2, 3, 4, 5, 6, 7, 1, 2, 3, 4, 5, 3, 2, 1, 5, 2, 7, 1, 2, 3, 4, 5, 6, 7, 3, 2, 7, 1, 1, 2, 3, 4, 5, 6, 7, 1, 2, 5, 6, 7, 1, 2, 3, 4, 5, 6, 7, 1, 2, 3, 6, 7, 5, 7, 3, 3, 3, 6, 6, 6, 1, 3, 6, 1, 1, 2, 3, 4, 5, 6, 7, 1, 5, 6, 7, 2, 3, 4, 5, 5, 1, 3, 4, 6, 7, 1, 2, 3, 4, 5, 6, 7, 2, 3, 4, 5, 6, 7, 1, 2, 3, 5, 7, 2, 3, 4, 5, 6, 7, 7, 7, 1, 2, 5, 1, 2, 3, 5, 6, 7, 1, 4, 6, 4, 6, 2, 3, 7, 7, 1, 2, 3, 5, 6, 6, 4, 3, 1, 2, 5, 1, 6, 7, 1, 2, 3, 4, 5, 6, 7, 3, 6, 7, 1, 2, 2, 7, 2, 3, 4, 5, 6, 2, 5, 4, 1, 2, 3, 4, 6, 1, 2, 3, 4, 5, 6, 1, 1, 2, 3, 5, 6, 7, 6, 1, 7, 1, 4, 6, 2, 7, 1, 2, 3, 5, 2, 3, 4, 5, 6, 5, 1, 2, 6, 7, 4, 1, 2, 5, 1, 2, 1, 3, 4, 4, 5, 5, 7, 5, 1, 2, 6, 1, 2, 6, 2, 5, 4, 6, 2, 5, 7, 5, 2, 4, 7, 1, 2, 3, 4, 5, 6, 7, 5, 3, 7, 1, 2, 3, 4, 5, 6, 7, 3, 1, 1, 2, 3, 4, 5, 6, 7, 3, 4, 6, 3, 6, 7, 1, 2, 4, 5, 6, 7, 4, 6, 6, 7, 1, 2, 3, 5, 6, 7, 4, 2, 3, 5, 6, 6, 1, 2, 3, 4, 5, 6, 7, 1, 2, 6, 3, 6, 2, 4, 5, 4, 1, 2, 3, 4, 5, 6, 7, 7, 1, 2, 5, 7, 3, 5, 6, 1, 2, 3, 4, 5, 6, 1, 2, 5, 1, 2, 3, 4, 5, 6, 1, 5, 2, 5, 3, 1, 5, 3, 3, 1, 3, 5, 7, 3, 2, 4, 5, 1, 2, 3, 4, 5, 6, 7, 1, 2, 4, 6, 1, 4, 5, 6, 1, 3, 1, 1, 4, 5, 1, 2, 3, 4, 5, 6, 7, 1, 2, 5, 5, 6, 1, 4, 6, 4, 1, 2, 3, 4, 7, 2, 7, 1, 2, 3, 4, 5, 6, 7, 6, 6, 2, 7, 1, 2, 3, 4, 5, 6, 7, 3, 4, 2, 3, 5, 6, 7, 4, 4, 6, 6, 7, 3, 7, 6, 6, 7, 1, 2, 2, 4, 1, 2, 5, 7, 7, 7, 6, 2, 2, 1, 3, 4, 5, 6, 7, 3, 4, 6, 7, 5, 5, 5, 5, 2, 3, 5, 6, 5, 1, 2, 3, 4, 6, 1, 2, 3, 4, 5, 1, 1, 3, 4, 6, 2, 2, 5, 1, 2, 4, 5, 2, 4, 6, 7, 2, 4, 5, 6, 7, 4, 2, 4, 6, 7, 1, 2, 3, 4, 5, 6, 7, 1, 2, 5, 2, 4, 5, 2, 1, 2, 5, 6, 7, 3, 4, 1, 3, 4, 6, 7, 4, 6, 7, 2, 3, 1, 2, 4, 5, 4, 1, 2, 6, 7, 2, 7, 2, 7, 1, 2, 3, 4, 5, 6, 7, 4, 1, 2, 3, 4, 5, 6, 7, 3, 6, 2, 3, 4, 5, 6, 7, 2, 6, 1, 2, 3, 4, 5, 7, 1, 2, 3, 4, 1, 3, 6, 3, 5, 1, 2, 3, 4, 5, 6, 7, 1, 5, 7, 2, 4, 1, 2, 3, 4, 5, 6, 7, 1, 2, 3, 4, 5, 6, 7, 3, 3, 1, 3, 4, 5, 6, 6, 5, 1, 2, 3, 4, 5, 6, 7, 7, 1, 2, 3, 4, 5, 6, 2, 7, 1, 6, 6, 1, 2, 3, 4, 5, 6, 1, 2, 3, 4, 5, 6, 5, 7, 2, 4, 3, 4, 7, 2, 3, 6, 7, 7, 1, 2, 3, 4, 5, 6, 7, 2, 3, 4, 5, 2, 7, 6, 2, 2, 2, 5, 1, 2, 3, 4, 5, 6, 7, 1, 2, 4, 1, 2, 4, 3, 4, 6, 2, 7, 5, 2, 3, 4, 5, 6, 7, 5, 7, 3, 6, 1, 2, 3, 4, 5, 6, 7, 1, 2, 3, 4, 5, 6, 1, 2, 3, 4, 5, 6, 7, 4, 4, 4, 5, 1, 2, 5, 6, 7, 2, 1, 2, 3, 4, 5, 6, 7, 1, 2, 3, 4, 6, 7, 1, 2, 3, 1, 2, 3, 4, 5, 6, 3, 7, 2, 7, 2, 1, 2, 3, 4, 5, 6, 2, 6, 7, 1, 2, 5, 7, 1, 2, 3, 4, 5, 6, 7, 3, 6, 1, 5, 7, 1, 2, 3, 5, 6, 7, 1, 2, 3, 4, 5, 6, 2, 4, 5, 6, 7, 6, 3, 1, 7, 1, 2, 3, 4, 5, 6, 7, 1, 5, 1, 3, 4, 6, 1, 4, 2, 3, 6, 1, 2, 3, 4, 5, 6, 7, 1, 2, 4, 3, 5, 6, 1, 4, 5, 2, 3, 1, 2, 3, 4, 5, 6, 7, 7, 1, 2, 4, 5, 6, 1, 2, 3, 4, 5, 6, 7, 1, 2, 1, 2, 3, 7, 1, 2, 3, 4, 5, 6, 7, 2, 5, 6, 7, 3, 2, 4, 5, 3, 1, 6, 5, 2, 5, 1, 2, 3, 1, 3, 4, 6, 7, 1, 3, 4, 7, 2, 3, 5, 6, 1, 2, 3, 4, 5, 6, 7, 2, 4, 5, 6, 1, 2, 3, 4, 5, 6, 1, 2, 3, 4, 5, 6, 7, 3, 6, 1, 3, 4, 5, 7, 3, 3, 5, 4, 1, 2, 5, 1, 2, 3, 4, 5, 6, 7, 1, 2, 3, 4, 5, 6, 7, 1, 6, 2, 1, 2, 3, 4, 5, 6, 7, 2, 1, 3, 6, 1, 2, 5, 6, 7, 1, 1, 1, 2, 3, 4, 5, 6, 7, 2, 5, 1, 7, 5, 2, 2, 2, 2, 1, 1, 4, 5, 6, 7, 1, 3, 4, 5, 6, 7, 1, 2, 3, 4, 5, 6, 7, 1, 2, 5, 2, 3, 5, 6, 7, 5, 1, 3, 5, 6, 5, 6, 1, 2, 3, 4, 5, 6, 7, 3, 4, 5, 6, 1, 4, 7, 6, 1, 2, 1, 3, 5, 6, 7, 7, 7, 3, 6, 7, 1, 2, 3, 4, 6, 7, 3, 6, 3, 6, 7, 6, 4, 1, 4, 4, 2, 1, 2, 1, 2, 3, 4, 5, 6, 5, 4, 1, 2, 3, 5, 7, 1, 2, 3, 4, 5, 6, 7, 1, 2, 3, 4, 5, 6, 1, 3, 4, 6, 7, 1, 2, 3, 4, 5, 6, 7, 1, 2, 3, 4, 5, 6, 7, 1, 2, 1, 3, 5, 7, 1, 2, 3, 4, 5, 6, 7], \"Freq\": [0.9980651004551024, 0.9998647672419236, 0.9978777648633258, 0.0675453161918844, 0.21366375530085885, 0.0356282986506643, 0.01685981989718936, 0.43506818262998703, 0.18906326337540016, 0.04209653144140991, 0.9994922004148897, 0.9986524507880675, 0.1890408383417667, 0.1390356340778144, 0.22158390778338644, 0.3627361642639078, 0.08757525191200108, 0.9987416681229397, 0.8329139760482039, 0.16710260202288674, 0.1958978823249022, 0.23308220258101792, 0.26799918623615093, 0.03461467210833535, 0.1777591895170409, 0.06152039977332963, 0.029122679008177336, 0.998820677086742, 0.9997993237549234, 0.08487553434901089, 0.9139754909372435, 0.9987790733091062, 0.04584668056766971, 0.9529560032279918, 0.11193373633092783, 0.045134571101180576, 0.5219813147851534, 0.13980433398590683, 0.04174947826859204, 0.06160868955311149, 0.07774429872178354, 0.02186543166879669, 0.9773185367113671, 0.014723712074276547, 0.36333591026368584, 0.6217936868290634, 0.8746462115663206, 0.12360899113539191, 0.0016264340938867356, 0.9983599117597263, 0.9953730458426548, 0.998924310897782, 0.0375242578091085, 0.06786996195038754, 0.04992357778081392, 0.1044153260775193, 0.041113534643023225, 0.6937093226275188, 0.005220766303875965, 0.997912051022471, 0.999689001226049, 0.9981666647115152, 0.9930632463285357, 0.006627785848688781, 0.9986719099916985, 0.029311286150071954, 0.9131954711781776, 0.0173986778751764, 0.023041492321179555, 0.01708518818373178, 0.9979916882753394, 0.9463652613927431, 0.053426010501320814, 0.37074370082321667, 0.5176311776637814, 0.016244112357182695, 0.06559423446244914, 0.029762702506784398, 0.020348327806326685, 0.1040895230092865, 0.05791447144877595, 0.8174549382195471, 0.28518013752245586, 0.7091769097491063, 0.005488631355684796, 0.9982681726504848, 0.9990562046145358, 0.04754391913092196, 0.08286984787065728, 0.7593746636609268, 0.03452910327944053, 0.03638836268679502, 0.03957566452797415, 0.03518299801943873, 0.9647548404277673, 0.9972288091660463, 0.9985640850396431, 0.9970898843289754, 0.014846584463697935, 0.9850680566217832, 0.9960150224601274, 0.9343736030704439, 0.0018675022046711072, 0.006017507103940234, 0.057685068099840864, 0.9966246336401416, 0.0635145570755081, 0.2724440211396795, 0.014565368351902235, 0.3135135843614366, 0.32652690526600503, 0.009431672949182594, 0.9984344213385177, 0.024497692788540686, 0.12901205811171892, 0.16500587489041277, 0.6280442022715822, 0.04666878905526466, 0.006751691867232815, 0.998995001384297, 0.04387809532859965, 0.06297925623035323, 0.0839359584768486, 0.7805280091910849, 0.028706316098063955, 0.9979499362863934, 0.9989627166273511, 0.9972702070433784, 0.9992750404589061, 0.8038061311056508, 0.196138161390493, 0.057501045933526014, 0.07294250328140385, 0.030956445445031268, 0.21375388814419452, 0.052942139478438274, 0.40221319853757964, 0.16963543857882932, 0.999459308546685, 0.9997300215922749, 0.9995175920876676, 0.9996909839246144, 0.20726326719978952, 0.2625334717864001, 0.06156938231523159, 0.04734543260544211, 0.07498053489874738, 0.16113703028375792, 0.18521614514961582, 0.9367549566795155, 0.03943167113923486, 0.012132821888995343, 0.005055342453748059, 0.006571945189872477, 0.15088887148326566, 0.16082253158091536, 0.055662750547175184, 0.11543598113475714, 0.04178988041080229, 0.45831852450535626, 0.01695573016667798, 0.12211407542802306, 0.11593228812052968, 0.07161362834680791, 0.27979720397916186, 0.41047067721756036, 0.9701250824223053, 0.029657886670995656, 0.9994905269461006, 0.9981620381494268, 0.9713685346088203, 0.028033723942534495, 0.9987608883742604, 0.9996731147822113, 0.5263569184698849, 0.13294129890262713, 0.3406483750330649, 0.9973502108444333, 0.21922735553759817, 0.19251447319009574, 0.19574909431788856, 0.16231256131149097, 0.0714160732147514, 0.09791089121655992, 0.06091264056382867, 0.054191030141175815, 0.945633475963518, 0.0294209459683515, 0.9699996731383768, 0.02097643163137461, 0.5456561510263984, 0.23880860626488015, 0.19452502837642266, 0.998966521953725, 0.8502502446500335, 0.06253923484809816, 0.061527273119164526, 0.012548325438776976, 0.013357894821923878, 0.10489129555252008, 0.12473559471110496, 0.4318908338613753, 0.14556594600179343, 0.12448908167807907, 0.05201424996846472, 0.01626986017970934, 0.2609544637784495, 0.005116754191734304, 0.6162200105000017, 0.06419200713266672, 0.04023629432591066, 0.013373334819305567, 0.009191557108847517, 0.41379349550396555, 0.09703162646038085, 0.44162830523924906, 0.038413771690749526, 0.40623586113756477, 0.0036470052371452197, 0.4348040688285356, 0.11234802244427913, 0.042852311536456335, 0.9973553759548731, 0.9983766102958918, 0.9987662301032517, 0.06968341894877805, 0.84498834377232, 0.08532484211760845, 0.21764616003483683, 0.03437670736968751, 0.08692708806220345, 0.4117906220377429, 0.209106723172303, 0.040215638557744834, 0.492902988876574, 0.38186028409839706, 0.12520419000870217, 0.4302849921527683, 0.5695581697550206, 0.9010914621324304, 0.08719667085278347, 0.0115433474652361, 0.9988158431847012, 0.20563994576534572, 0.7209560609953386, 0.01702751143279933, 0.056321768585413164, 0.9998441121442048, 0.9998617532863661, 0.9998271843957413, 0.9962115902404929, 0.015905410105873888, 0.9780181827860108, 0.006033086591883199, 0.8628123684907457, 0.07578231039370785, 0.061295661130368016, 0.1567218254701927, 0.033457468358805184, 0.3294805953604894, 0.2908661487960037, 0.09924038547029056, 0.050626432385034156, 0.03955779623625651, 0.09646680407629826, 0.2744014819715325, 0.6290077699508548, 0.004693680520034365, 0.9952025029903168, 0.9989088402041515, 0.9962322760013702, 0.1410676979910963, 0.05193151519452447, 0.03100388966837282, 0.6146521126754911, 0.16122022627553864, 0.9838608081755664, 0.0159466633938083, 0.9985563702842651, 0.006533129157539483, 0.18506088307479188, 0.025865858297197133, 0.7751757739170316, 0.007333104156421868, 0.06342494301075871, 0.11879295086800894, 0.07017028406951001, 0.7281220931752094, 0.016769667354395584, 0.002529502897031736, 0.9928228440862222, 0.2713735203362263, 0.08168935022548651, 0.008843434244593953, 0.19260700007293607, 0.3811670048136004, 0.06422731481031371, 0.9984177088013684, 0.9958059320240312, 0.9995703891321218, 0.5993241548850694, 0.36370402507557203, 0.03692320759298896, 0.10852359973118293, 0.8912089553681992, 0.1502552085990926, 0.7535650233223262, 0.0065399437910377625, 0.08959722993721735, 0.012556567820464009, 0.8053643082625388, 0.03836729056252891, 0.07150267786653115, 0.0718514714170996, 0.9994678284630986, 0.9963244806219589, 0.0692957147114712, 0.22276312636866963, 0.707833129348968, 0.9991766880789388, 0.6441861313708305, 0.21370348053964244, 0.1419373863285685, 0.9478092414990307, 0.05200535136252714, 0.9975000017399325, 0.04644011049780937, 0.9535125793100941, 0.9964158049717223, 0.9985193764107164, 0.9986249304754132, 0.995740533318647, 0.9995119634308318, 0.13044074950045187, 0.8393697809241262, 0.029869835494851373, 0.9504814095214283, 0.02244276461537514, 0.026991973659032265, 0.010743202021745694, 0.989079058264325, 0.01202484351718456, 0.9878408949367116, 0.9990529413515321, 0.9712571868246164, 0.028301533920717298, 0.9984687404400481, 0.0058190843419024954, 0.9669378481461313, 0.027155726928878313, 0.05616848126380223, 0.004388162598734549, 0.7591521295810769, 0.10677862323587402, 0.028376784805150084, 0.006728515984726308, 0.038030742522366094, 0.9987780234575762, 0.930488891440772, 0.06928945089101589, 0.17145090787655984, 0.16098735982232862, 0.27684278948303337, 0.1323071528062129, 0.09354159826794661, 0.12304123977023707, 0.0418541922169249, 0.9989406003238646, 0.9953810661084318, 0.07373056723423695, 0.1641126445966555, 0.45298735015371644, 0.1127497775346028, 0.05807317711370798, 0.07207370055481589, 0.0662746671768422, 0.9730559623547816, 0.005572260342761814, 0.0208959762853568, 0.04553801862256525, 0.954360603047378, 0.9978010591866439, 0.11210926813959536, 0.5248479384195812, 0.06436854768565452, 0.03334136491307538, 0.23051825432831935, 0.034798442557091525, 0.9993058168221755, 0.9985572933271589, 0.9983112028994743, 0.9973075224462632, 0.8077185586353214, 0.13787087625269062, 0.016240871466386093, 0.016505668283772822, 0.0207424173619605, 0.0009709216637513424, 0.9978448581685218, 0.08915257145091272, 0.8108123427829368, 0.03743542441992209, 0.06253663385755771, 0.9994676851380453, 0.2417100669678982, 0.14399748670427978, 0.24354173754241448, 0.19697503562875063, 0.10038963725714221, 0.05001869645794454, 0.023318575390957243, 0.06454762782708844, 0.856162636515482, 0.07923402629336418, 0.9845329809521447, 0.015571333990616236, 0.02095042641127371, 0.967211352653803, 0.01163912578404095, 0.9986209900583427, 0.34883149374571215, 0.03393735425596243, 0.0048217006046722575, 0.5242672157464796, 0.014186926779131833, 0.05804585727932371, 0.015948702000069773, 0.9979501504296593, 0.10233244277205157, 0.16053740360800683, 0.018950452365194735, 0.7182221446408805, 0.024582206538006877, 0.8956365553797052, 0.07945763729456769, 0.016679371401602992, 0.06847320891184387, 0.745304543155839, 0.04623404704303988, 0.029262055090531567, 0.09393119684060633, 0.011062352235630976, 0.01580336033661568, 0.9726968287186951, 0.007360217693366397, 0.886469608967146, 0.0033682352156083513, 0.07010919226562567, 0.01883716731692078, 0.013847189219723222, 0.9960547972561785, 0.998838533089713, 0.005123635236769112, 0.9947171838241747, 0.9993644211219056, 0.9685402785022423, 0.03129130130545706, 0.9994449835824394, 0.9993223868055305, 0.0320400920469492, 0.02180506264306265, 0.901572590098876, 0.044055126564555146, 0.9985087128642636, 0.20052562326015716, 0.790211485731401, 0.008918255481920736, 0.07271987925827492, 0.53311652946478, 0.042966806708090485, 0.051169963819542225, 0.169694498732572, 0.10912416027720401, 0.02115084293060801, 0.46471853441397504, 0.0624221335048643, 0.46205249336590276, 0.010756096642222567, 0.9566112388262945, 0.016518061931685268, 0.015081708720234373, 0.010772649085881695, 0.9721082613229106, 0.02716705955094404, 0.9988551957221311, 0.9974140402831828, 0.9975379280569627, 0.9977687845572594, 0.13403054916723975, 0.17434093645565435, 0.16118200648410394, 0.223582724177248, 0.09860266078229632, 0.11420284020558233, 0.09401787522659776, 0.7912613608216954, 0.2015547606251861, 0.007104898797548304, 0.998631046201252, 0.9999361614093074, 0.9970764458499918, 0.9974313137839342, 0.9980118167358903, 0.9977988514647689, 0.019449054594168527, 0.027513296742970112, 0.8771049254784782, 0.04316741385534966, 0.03225696859520634, 0.6509582069241112, 0.3490266808762601, 0.6865186205384105, 0.1672839214472307, 0.013037201062115797, 0.017061028550423143, 0.0586942302961098, 0.027737584152731965, 0.029776323413474352, 0.998350611307166, 0.9985724345641683, 0.17629993606925912, 0.8234534667192891, 0.9956925200717927, 0.27677221771096083, 0.17237752570743492, 0.4489392702490338, 0.058301067913259425, 0.03388618026727353, 0.009734384082990067, 0.9648928634034425, 0.03468383303925162, 0.09422635105858379, 0.10015076235268636, 0.18139983152895023, 0.14585336376433478, 0.478466740704665, 0.9991233499703719, 0.011887325924122458, 0.9879688656937331, 0.03636705136416824, 0.9625146261049862, 0.9645283602452341, 0.0348511223916735, 0.9999242824545446, 0.9998037247289673, 0.9982972463309084, 0.2533403510151549, 0.746558113268924, 0.020472712703266296, 0.9794576761720559, 0.13573719001073126, 0.17501547137210427, 0.6575772138118299, 0.03152950476627222, 0.9984594509826383, 0.9988147442936794, 0.9988735662185053, 0.9999381935611328, 0.9992712986813815, 0.0506810438920146, 0.062474745929779, 0.004462481852127072, 0.8268341374584017, 0.04016233666914364, 0.01561868648244475, 0.8660052629375055, 0.01344132337153556, 0.040323970114606686, 0.08016789296594425, 0.9995029763521983, 0.9972096827426646, 0.9997097825288139, 0.998438126929479, 0.9986299506142023, 0.039989412688465654, 0.9597459045231758, 0.9988138682478904, 0.9973558650213223, 0.878475072653039, 0.029583028424813695, 0.05803908433820591, 0.005916605684962739, 0.027892569657681485, 0.9059055345102415, 0.023331973477704788, 0.006124643037897507, 0.020248819839579515, 0.044372413845992144, 0.9956191766321929, 0.007212420113748487, 0.03580451413610856, 0.23002468434204995, 0.7266513264601601, 0.9988065259683359, 0.9986556295151581, 0.9989614951289513, 0.9027156477852242, 0.0027431217456122285, 0.050976345772627246, 0.04366135445099464, 0.2599727682158215, 0.19095766131121855, 0.5341293308161751, 0.01494534039175539, 0.00964028415720019, 0.17685539481118165, 0.015249176757753027, 0.7738519009825242, 0.024363627233651385, 0.9969567226429205, 0.028972964857337687, 0.044384116377198156, 0.9104908317933567, 0.015411151519860472, 0.013834689770565498, 0.028146437809081527, 0.30134180592208754, 0.04182210815699685, 0.01860527245007084, 0.05343052601045985, 0.542733289505058, 0.005902152398141317, 0.933523770972685, 0.06000521604777006, 0.019206797088306967, 0.9748620668479707, 0.0056215015868215515, 0.9976995689306543, 0.6186854274497544, 0.2774077825912302, 0.04021790427625706, 0.032078566506062174, 0.03159978193134483, 0.9987052998816401, 0.9984060266541732, 0.13132250317329414, 0.6901306940324292, 0.013751047452700957, 0.060332720698725445, 0.10433607254736851, 0.9991193850054837, 0.029476578192455905, 0.9699977675554471, 0.9985024421276887, 0.9998441328423455, 0.9965908132113676, 0.07916601487101253, 0.39928459136761596, 0.5214401512837359, 0.9993156848717321, 0.9989556874084482, 0.1409510387119001, 0.015403332074803454, 0.8433851822327315, 0.9998409051360901, 0.997564454136224, 0.07399864411952183, 0.9254513973428806, 0.03490175996979268, 0.006173100402820475, 0.8837030653576079, 0.04487369138973345, 0.006647954279960511, 0.0040362579556903104, 0.019943862839881532, 0.9991351738746804, 0.030144230618585476, 0.11682093207777694, 0.16805649338476567, 0.5049399397228231, 0.07483088559310196, 0.09890774710954403, 0.006259983994274939, 0.9983520061464916, 0.9979139271775438, 0.006914473412723445, 0.04662330644007808, 0.005531578730178756, 0.827563689311386, 0.10490243949017569, 0.008692480861709474, 0.9990304615494388, 0.9982492970229618, 0.022797075526104698, 0.7841214965466625, 0.014405513982753276, 0.11573361961872171, 0.06286678189560775, 0.9973129946820666, 0.01622650380831961, 0.9831352307393645, 0.9962498797161946, 0.9973768378504986, 0.9900883995521044, 0.020481013967355372, 0.9792484803141788, 0.9839954001857655, 0.015647359839392, 0.45777557476450403, 0.06143199363745205, 0.06836989846303698, 0.008199342066600375, 0.3475259598997544, 0.04843919005499299, 0.00832548579070192, 0.031717685440497814, 0.8880951923339389, 0.08022708670243565, 0.02563654793469444, 0.9733876793954295, 0.33437645873473226, 0.18639913896548854, 0.14395283199309275, 0.09620933598200249, 0.1151278682630541, 0.07336950791906018, 0.05059847451895805, 0.059804796375918144, 0.04626194048869786, 0.6960914120519568, 0.08267970421903811, 0.01940383973757192, 0.058496032991859036, 0.03727130506777011, 0.9982840879830933, 0.9977924187785622, 0.03249949704848248, 0.04168413751870579, 0.9177575362169291, 0.007771618859419724, 0.9978672431445806, 0.9985881443046858, 0.9995712797786485, 0.7063335088904762, 0.09229696218937927, 0.0029863881941748147, 0.030390891623073114, 0.04065001341953248, 0.08748360709994457, 0.039877065886922525, 0.9969641323264697, 0.0036287690109999765, 0.24246774755318026, 0.242514874423453, 0.15980721709481716, 0.3227248076276343, 0.028865208042045266, 0.9992730441526524, 0.9968858391067671, 0.9958965236458535, 0.9991342578885474, 0.998923467360091, 0.24716327855923345, 0.24401205080757615, 0.057257213676339146, 0.2681516445278188, 0.05505729996291801, 0.12830848090710267, 0.061116298027209214, 0.015598720416986452, 0.13885418338399416, 0.02480452263028993, 0.00690435165997761, 0.7528300476657068, 0.9998244044773646, 0.998961981694792, 0.014626777774200175, 0.9838945849445317, 0.9994795044851997, 0.010277765555386576, 0.9883784542430091, 0.08603432313386916, 0.8867230934842683, 0.022183065895143964, 0.005096109732668208, 0.9994659190383863, 0.14962809933477975, 0.24526963479840994, 0.2992561986695595, 0.07176699924969551, 0.11270501780271863, 0.06638985145376428, 0.05499029812639007, 0.03286177737413953, 0.05642114392236879, 0.901929397468691, 0.008594618697851877, 0.0945768269595852, 0.9054340345689702, 0.9988474780633704, 0.9986271903879481, 0.9996904707406753, 0.9994861963044083, 0.9981121374728452, 0.17291305885655212, 0.2551714879818366, 0.23655382576856954, 0.03510585325834995, 0.012168406675337938, 0.18873198753449144, 0.09932461948744592, 0.8157745743474792, 0.1715814376321234, 0.012619029161767393, 0.9262206043888774, 0.0612636906019355, 0.012174194927307695, 0.9219751399944216, 0.07614022006495223, 0.0018846589124988176, 0.04333813940705649, 0.9559393442287268, 0.9982167987286301, 0.85558609814564, 0.009863156858745633, 0.023717186434902796, 0.07976044188083897, 0.019441251380533302, 0.011687555815276618, 0.9671737725948943, 0.03225704633446007, 0.1151826754138325, 0.8848373411758961, 0.14400540128800188, 0.39243655787304293, 0.01767308471243327, 0.027618394740722713, 0.2007205476655444, 0.1942023377145709, 0.023317720133894847, 0.004452052246086184, 0.04109586688694939, 0.21232864558257183, 0.650227938300177, 0.08242004414549295, 0.009360725235360695, 0.19941098588108946, 0.1528232028908694, 0.26600860353268274, 0.159314943143605, 0.05453061812297889, 0.12487053309673737, 0.04299823249753097, 0.9997919255375362, 0.9992664046665322, 0.9967444576106528, 0.9981230582419309, 0.847416725511035, 0.0059726717801358185, 0.007378006316638364, 0.0781717335929541, 0.060956385520797914, 0.999256712530157, 0.05141350304405029, 0.04610077439616509, 0.03444704703951369, 0.6791723752119043, 0.1439578085233408, 0.03530393875691453, 0.00942580889140922, 0.020462358328534765, 0.020188308886634747, 0.8517456654252596, 0.03169838544643555, 0.015164069118467727, 0.06065627647387091, 0.907237018342297, 0.08126843230628672, 0.010939981272000136, 0.02791098778145983, 0.028400654233766143, 0.01958665809225251, 0.31852802722525647, 0.5858859101845033, 0.019341824866099356, 0.9975794127959954, 0.9994227113798293, 0.01959756828908557, 0.9798784144542785, 0.9996887602922616, 0.02494078890562907, 0.18049566189050043, 0.33723256278559116, 0.21162239685961096, 0.2181235503658176, 0.02758065123845237, 0.04949207655411055, 0.13433563636115722, 0.8154408803677263, 0.05360366587843772, 0.2877561133396754, 0.6496847410925378, 0.008933944313072954, 0.04995639741246591, 0.04840907536871697, 0.007736610218744721, 0.8123440729681957, 0.027409704774981298, 0.01591531244998914, 0.03846200508747376, 0.008533893854002106, 0.9911508147576732, 0.03765994476549872, 0.9559832132780444, 0.005793837656230572, 0.07679850847192281, 0.6596587675062001, 0.0051872676774895226, 0.07969529431779358, 0.13230900933233017, 0.04634857353393236, 0.20876484606617482, 0.15694696224288252, 0.043455343494461285, 0.07839881558279098, 0.5069790074353816, 0.0053759187828199525, 0.6931765964763941, 0.15820817804337756, 0.03509973786098977, 0.09596233750172081, 0.01746341637418703, 0.9992483707840444, 0.9980792814332249, 0.9748509096819717, 0.024112920027469266, 0.30146948965648274, 0.20338288810383348, 0.10017973590706264, 0.19198693439647174, 0.016338076488615554, 0.10047044901184228, 0.0862255068776401, 0.9974922085126852, 0.9987071424489233, 0.10334106097733256, 0.14327963526808912, 0.7218897303054246, 0.031202011164653553, 0.9789965042576873, 0.020770788633472856, 0.008466787784190438, 0.02386094739180942, 0.9667532233584719, 0.5774106903730984, 0.18302986760704848, 0.09827506721497885, 0.02367535710179036, 0.027933943347772775, 0.05217512659413422, 0.037523207482082835, 0.9423242794489257, 0.05764572147972565, 0.9968325860713418, 0.014777504576801598, 0.03111053595116126, 0.9535379269030926, 0.9968184848233975, 0.9522041310131167, 0.04715275445519499, 0.01757561105706381, 0.9819663984140167, 0.3809957533057546, 0.14396651658634846, 0.13322435805590851, 0.01608624744759349, 0.11389926884034318, 0.15956693776874617, 0.052253313856612416, 0.9969602962145431, 0.022491704341682458, 0.20950394653293053, 0.7434821252438384, 0.0170114921162979, 0.007497234780560819, 0.3979635373932112, 0.08186100980802793, 0.005839194115250278, 0.028522217409107126, 0.10735133796498587, 0.09174272292614379, 0.2866819726198838, 0.01776466923689908, 0.9821075473222933, 0.948425868995349, 0.023371756259126394, 0.018229969882118585, 0.009816137628833085, 0.10563350271508873, 0.06805666264034359, 0.158226137730239, 0.3245951692341305, 0.07291251672554923, 0.20573880231778952, 0.0648443283993614, 0.15149348344465807, 0.16897350076519554, 0.13867480407626392, 0.5407152024486257, 0.9974900929566101, 0.06500148212281648, 0.8910315526947876, 0.043577772659116665, 0.9987335419793163, 0.9952248200042135, 0.9978022927144082, 0.9989822960006003, 0.9834663457412769, 0.016093876511467157, 0.9845107365798438, 0.007279192137374076, 0.007279192137374076, 0.8948026331093352, 0.021989262198514315, 0.005268260735060721, 0.059783306602210796, 0.018152594054502702, 0.02744088608368946, 0.05945525318132716, 0.9078359812687263, 0.005030829115343067, 0.4825632485339802, 0.03699091103744796, 0.19642767197960334, 0.2839596406109976, 0.028625884190092033, 0.16916472738579275, 0.024869546445690817, 0.5602124394667333, 0.1467562298071234, 0.062432923889702986, 0.00777173326427838, 0.13918873328300796, 0.8223922846755655, 0.016550242879673317, 0.021670102187773693, 0.01685246010536759, 0.10409905044253104, 0.013165984457318428, 0.7458969061219467, 0.08145355717594334, 0.03844467461536981, 0.05188014268633936, 0.4138079971823808, 0.06597322049587127, 0.009953236202981915, 0.11600364671970957, 0.0993561985572, 0.24301751047811596, 0.021154145194807406, 0.9781676738078944, 0.07791603081077962, 0.6298575228111627, 0.11121534006790053, 0.12688560324772213, 0.05397535095271885, 0.9984939927543662, 0.9979706370657088, 0.9993580929854602, 0.9985479239626828, 0.013088847570526738, 0.9867536751780436, 0.998440459100844, 0.4791540347039714, 0.061719787345821196, 0.0023996405615223123, 0.1966931182847805, 0.10173959929120943, 0.12861299332159104, 0.02967297468549096, 0.20567462181312046, 0.18678760172343797, 0.144345666845102, 0.18506407137304867, 0.12405827834572822, 0.11159859018770572, 0.04254965552523529, 0.9642275644331303, 0.03577598920337497, 0.9998659795546402, 0.09970656611379917, 0.04550428223926372, 0.7435418029478081, 0.04678609300656692, 0.013092781408882719, 0.03827120719519564, 0.013092781408882719, 0.9978278876091371, 0.9689463967947379, 0.02782370689342602, 0.0032934183669769573, 0.5208259000642765, 0.045858324249119925, 0.08325734596684879, 0.06767442025112844, 0.282362613968853, 0.9966410073046442, 0.9985126643577094, 0.03212861389873723, 0.1683188475582309, 0.10746089290362625, 0.5048468887023421, 0.09539895594505594, 0.07226196777907111, 0.019737715023115023, 0.9837151697726427, 0.01529090937470429, 0.9177031727016671, 0.08220552363919159, 0.998450038184894, 0.9999737568000517, 0.9988923082442077, 0.9999249146158956, 0.9998657553499114, 0.9997101876880111, 0.41383858768999104, 0.04829854214014169, 0.03335726651405469, 0.0114665603642063, 0.49271462413468287, 0.5665910780827155, 0.01804909194848045, 0.07715986807975392, 0.010152614221020253, 0.3052552675786756, 0.022937387684527237, 0.2611718700952241, 0.10277183261441279, 0.23983283967342328, 0.2243628400402792, 0.0936493173668268, 0.05566010177285857, 0.022551112867284246, 0.012177869902055062, 0.027123437509122637, 0.9603911036393423, 0.06686896024957506, 0.0065855794185187555, 0.026848900706268775, 0.08915861366610008, 0.8105328515100007, 0.9985100183573927, 0.9304301485998488, 0.006939524917841672, 0.04163714950705003, 0.020284765144460273, 0.9944001790149424, 0.005468359698474726, 0.2887273240730787, 0.21480197056644504, 0.08219806710659529, 0.179931520799165, 0.11985815285525774, 0.0850838974321633, 0.029435469320793634, 0.8749701977204949, 0.0006946212597376907, 0.07179857930197768, 0.05247547880382009, 0.9995863180506793, 0.9975955879755835, 0.9980445478412932, 0.9996538755521863, 0.9998987208005129, 0.9990957265318914, 0.061903905169385126, 0.06501856706470009, 0.6093057332709919, 0.22610498696302145, 0.03776527548069407, 0.99756153232308, 0.9994206720058688, 0.10246057382419729, 0.8657615350352292, 0.030920054822686758, 0.009317771978684847, 0.03532988541918005, 0.8582056232867856, 0.06017727736233964, 0.00892953147957298, 0.027953315936054542, 0.09697406788037895, 0.9026047856558348, 0.041575710240220984, 0.9578611683915847, 0.9987239654037853, 0.9985844078675657, 0.9999096355092609, 0.01612150665146546, 0.9837675272096458, 0.9997339199703124, 0.9976678810271281, 0.9801275811135344, 0.019704724266616104, 0.0033716617441080484, 0.01820697341818346, 0.125257233793614, 0.01938705502862128, 0.8311146199226339, 0.0025287463080810365, 0.9989995298103119, 0.9985029189745154, 0.0171698268975419, 0.025891008813753662, 0.00981132965573823, 0.8901056293233628, 0.056960219390258054, 0.10957769496237024, 0.06156381249229941, 0.5720426978949543, 0.13947591012011373, 0.004713019138166462, 0.04300629963576897, 0.06966431413602302, 0.18262932667208812, 0.059656275180535824, 0.6435556717236908, 0.021270479541982093, 0.07251749536871105, 0.02028115491212246, 0.029526779696329265, 0.21765747671981606, 0.026963691181022903, 0.011790207170409255, 0.7140764603643518, 0.056574843367236595, 0.15850180302070904, 0.4984120711863615, 0.13113679726155655, 0.09039676059764977, 0.04350728443730423, 0.02167677422494663, 0.6442616405985011, 0.2577485657054491, 0.01723446542408667, 0.03677417781572633, 0.015917181442627815, 0.01833220207530238, 0.009769856195819833, 0.9887182727049092, 0.010766442171015345, 0.08358444684574956, 0.22632096376695265, 0.6161138168456886, 0.07394008759431692, 0.4517079299629627, 0.2588241283707808, 0.04724581367110377, 0.075428143581275, 0.08510923072622784, 0.07152759667350815, 0.010173048016202708], \"Term\": [\"aarp\", \"abortion\", \"absentee\", \"administration\", \"administration\", \"administration\", \"administration\", \"administration\", \"administration\", \"administration\", \"affordable\", \"afghanistan\", \"agency\", \"agency\", \"agency\", \"agency\", \"agency\", \"alien\", \"amendment\", \"amendment\", \"american\", \"american\", \"american\", \"american\", \"american\", \"american\", \"american\", \"amnesty\", \"amp\", \"animal\", \"animal\", \"apprehension\", \"arrest\", \"arrest\", \"article\", \"article\", \"article\", \"article\", \"article\", \"article\", \"article\", \"assault\", \"assault\", \"attorney\", \"attorney\", \"attorney\", \"average\", \"average\", \"average\", \"ayer\", \"bachelor\", \"bachmann\", \"background\", \"background\", \"background\", \"background\", \"background\", \"background\", \"background\", \"bain\", \"ballot\", \"barne\", \"barrel\", \"barrel\", \"beneficiary\", \"benefit\", \"benefit\", \"benefit\", \"benefit\", \"benefit\", \"bible\", \"biden\", \"biden\", \"bill\", \"bill\", \"bill\", \"bill\", \"bill\", \"birth\", \"birth\", \"birth\", \"birth\", \"black\", \"black\", \"black\", \"blogger\", \"bls\", \"book\", \"book\", \"book\", \"book\", \"book\", \"book\", \"border\", \"border\", \"bowl\", \"breast\", \"broward\", \"budget\", \"budget\", \"buono\", \"bureau\", \"bureau\", \"bureau\", \"bureau\", \"burtless\", \"bush\", \"bush\", \"bush\", \"bush\", \"bush\", \"bush\", \"cain\", \"campaign\", \"campaign\", \"campaign\", \"campaign\", \"campaign\", \"campaign\", \"cancer\", \"candidate\", \"candidate\", \"candidate\", \"candidate\", \"candidate\", \"cannon\", \"cantor\", \"capita\", \"carbon\", \"care\", \"care\", \"case\", \"case\", \"case\", \"case\", \"case\", \"case\", \"case\", \"casino\", \"cbo\", \"cdc\", \"census\", \"center\", \"center\", \"center\", \"center\", \"center\", \"center\", \"center\", \"chart\", \"chart\", \"chart\", \"chart\", \"chart\", \"check\", \"check\", \"check\", \"check\", \"check\", \"check\", \"check\", \"child\", \"child\", \"child\", \"child\", \"child\", \"china\", \"china\", \"christian\", \"christmas\", \"church\", \"church\", \"cicilline\", \"citizenship\", \"city\", \"city\", \"city\", \"clackama\", \"claim\", \"claim\", \"claim\", \"claim\", \"claim\", \"claim\", \"claim\", \"climate\", \"climate\", \"clinic\", \"clinic\", \"clinton\", \"clinton\", \"clinton\", \"clinton\", \"coal\", \"college\", \"college\", \"college\", \"college\", \"college\", \"comment\", \"comment\", \"comment\", \"comment\", \"comment\", \"comment\", \"comment\", \"committee\", \"committee\", \"committee\", \"committee\", \"committee\", \"committee\", \"company\", \"company\", \"company\", \"company\", \"company\", \"congress\", \"congress\", \"congress\", \"congress\", \"congress\", \"contraception\", \"contraceptive\", \"coronavirus\", \"cost\", \"cost\", \"cost\", \"country\", \"country\", \"country\", \"country\", \"country\", \"country\", \"county\", \"county\", \"county\", \"court\", \"court\", \"coverage\", \"coverage\", \"coverage\", \"covid\", \"credit\", \"credit\", \"credit\", \"credit\", \"crime\", \"criminal\", \"crist\", \"crossroad\", \"cut\", \"cut\", \"cut\", \"datum\", \"datum\", \"datum\", \"day\", \"day\", \"day\", \"day\", \"day\", \"day\", \"day\", \"death\", \"death\", \"death\", \"debt\", \"debt\", \"deduction\", \"deer\", \"defense\", \"defense\", \"defense\", \"defense\", \"defense\", \"deficit\", \"deficit\", \"delegate\", \"democrat\", \"democrat\", \"democrat\", \"democrat\", \"democrat\", \"democratic\", \"democratic\", \"democratic\", \"democratic\", \"democratic\", \"democratic\", \"demographer\", \"department\", \"department\", \"department\", \"department\", \"department\", \"department\", \"deportation\", \"diploma\", \"disease\", \"district\", \"district\", \"district\", \"doctor\", \"doctor\", \"dollar\", \"dollar\", \"dollar\", \"dollar\", \"donald\", \"donald\", \"donald\", \"donald\", \"donald\", \"drilling\", \"dropout\", \"drug\", \"drug\", \"drug\", \"earmark\", \"economic\", \"economic\", \"economic\", \"education\", \"education\", \"educator\", \"election\", \"election\", \"electoral\", \"electric\", \"electricity\", \"embryonic\", \"emission\", \"employer\", \"employer\", \"employer\", \"employment\", \"employment\", \"employment\", \"energy\", \"energy\", \"enforcement\", \"enforcement\", \"entitlement\", \"environmental\", \"environmental\", \"epa\", \"ethic\", \"ethic\", \"ethic\", \"event\", \"event\", \"event\", \"event\", \"event\", \"event\", \"event\", \"export\", \"facebook\", \"facebook\", \"fact\", \"fact\", \"fact\", \"fact\", \"fact\", \"fact\", \"fact\", \"fake\", \"falk\", \"false\", \"false\", \"false\", \"false\", \"false\", \"false\", \"false\", \"father\", \"father\", \"father\", \"fbi\", \"fbi\", \"fda\", \"federal\", \"federal\", \"federal\", \"federal\", \"federal\", \"federal\", \"feingold\", \"felony\", \"fence\", \"fetus\", \"figure\", \"figure\", \"figure\", \"figure\", \"figure\", \"figure\", \"filibuster\", \"fire\", \"fire\", \"fire\", \"fire\", \"firearm\", \"first\", \"first\", \"first\", \"first\", \"first\", \"first\", \"first\", \"fiscal\", \"fiscal\", \"fiscal\", \"flag\", \"flag\", \"flip\", \"flip\", \"flip\", \"flop\", \"florida\", \"florida\", \"florida\", \"florida\", \"florida\", \"florida\", \"florida\", \"flu\", \"food\", \"food\", \"food\", \"food\", \"foreign\", \"foreign\", \"foreign\", \"fox\", \"fox\", \"fox\", \"fox\", \"fox\", \"fox\", \"fuel\", \"fuel\", \"fuel\", \"fund\", \"fund\", \"fund\", \"fund\", \"fund\", \"fund\", \"furlough\", \"gallon\", \"gas\", \"gas\", \"gay\", \"gdp\", \"gdp\", \"gingrich\", \"giuliani\", \"global\", \"global\", \"global\", \"global\", \"god\", \"gop\", \"gop\", \"gop\", \"government\", \"government\", \"government\", \"government\", \"government\", \"government\", \"government\", \"governor\", \"governor\", \"governor\", \"governor\", \"grade\", \"grade\", \"grade\", \"grade\", \"graduate\", \"graduate\", \"graduation\", \"graph\", \"grayson\", \"greenhouse\", \"group\", \"group\", \"group\", \"group\", \"group\", \"group\", \"group\", \"growth\", \"growth\", \"growth\", \"gulf\", \"gun\", \"gwinnett\", \"handel\", \"handgun\", \"hasner\", \"headline\", \"headline\", \"headline\", \"headline\", \"headline\", \"health\", \"health\", \"high\", \"high\", \"high\", \"high\", \"high\", \"high\", \"high\", \"homeless\", \"homicide\", \"hospital\", \"hospital\", \"hourly\", \"house\", \"house\", \"house\", \"house\", \"house\", \"house\", \"huckabee\", \"huckabee\", \"human\", \"human\", \"human\", \"human\", \"human\", \"hutchison\", \"illegal\", \"illegal\", \"illness\", \"illness\", \"image\", \"image\", \"immigrant\", \"immigration\", \"incest\", \"income\", \"income\", \"incumbent\", \"incumbent\", \"industry\", \"industry\", \"industry\", \"industry\", \"infant\", \"infection\", \"inmate\", \"insurance\", \"insurer\", \"international\", \"international\", \"international\", \"international\", \"international\", \"international\", \"internet\", \"internet\", \"internet\", \"internet\", \"iran\", \"iranian\", \"iraq\", \"iraqi\", \"irs\", \"israel\", \"israel\", \"jail\", \"japan\", \"jersey\", \"jersey\", \"jersey\", \"jersey\", \"jersey\", \"job\", \"job\", \"job\", \"job\", \"job\", \"jobless\", \"justice\", \"justice\", \"justice\", \"justice\", \"kaine\", \"koch\", \"korea\", \"labor\", \"labor\", \"labor\", \"labor\", \"law\", \"law\", \"law\", \"law\", \"legal\", \"legal\", \"legal\", \"legal\", \"legal\", \"lemieux\", \"license\", \"license\", \"license\", \"license\", \"life\", \"life\", \"life\", \"life\", \"life\", \"life\", \"life\", \"loan\", \"loan\", \"loan\", \"lobbyist\", \"lobbyist\", \"lobbyist\", \"lottery\", \"low\", \"low\", \"low\", \"low\", \"low\", \"lynch\", \"mack\", \"man\", \"man\", \"man\", \"man\", \"man\", \"mandel\", \"marijuana\", \"marijuana\", \"marketplace\", \"marriage\", \"marta\", \"mccain\", \"mccain\", \"mccain\", \"mccollum\", \"median\", \"medical\", \"medical\", \"medical\", \"medicare\", \"medication\", \"medicine\", \"medicine\", \"medium\", \"medium\", \"medium\", \"medium\", \"medium\", \"medium\", \"medium\", \"meek\", \"member\", \"member\", \"member\", \"member\", \"member\", \"member\", \"member\", \"meme\", \"migrant\", \"military\", \"military\", \"military\", \"military\", \"military\", \"military\", \"millionaire\", \"misdemeanor\", \"money\", \"money\", \"money\", \"money\", \"money\", \"mortality\", \"mortgage\", \"mortgage\", \"mosque\", \"moveon\", \"multnomah\", \"murder\", \"murder\", \"muslim\", \"muslim\", \"nation\", \"nation\", \"nation\", \"nation\", \"nation\", \"nation\", \"nation\", \"natural\", \"natural\", \"natural\", \"nelson\", \"nelson\", \"new\", \"new\", \"new\", \"new\", \"new\", \"new\", \"new\", \"news\", \"news\", \"news\", \"news\", \"news\", \"news\", \"news\", \"newt\", \"nfl\", \"nomination\", \"nomination\", \"nomination\", \"nomination\", \"noncitizen\", \"nra\", \"nuclear\", \"number\", \"number\", \"number\", \"number\", \"number\", \"number\", \"number\", \"nunn\", \"obama\", \"obama\", \"obama\", \"obama\", \"obama\", \"obama\", \"obamacare\", \"obesity\", \"oecd\", \"offender\", \"offense\", \"office\", \"office\", \"office\", \"office\", \"office\", \"office\", \"officer\", \"officer\", \"officer\", \"officer\", \"officer\", \"officer\", \"oil\", \"outbreak\", \"pac\", \"pac\", \"palin\", \"pandemic\", \"pandemic\", \"pant\", \"pant\", \"pant\", \"pant\", \"parenthood\", \"part\", \"part\", \"part\", \"part\", \"part\", \"part\", \"part\", \"party\", \"party\", \"party\", \"party\", \"patient\", \"patient\", \"patrol\", \"payer\", \"payment\", \"pension\", \"pentagon\", \"people\", \"people\", \"people\", \"people\", \"people\", \"people\", \"people\", \"percent\", \"percent\", \"percent\", \"percentage\", \"percentage\", \"percentage\", \"photo\", \"photo\", \"photo\", \"physician\", \"physician\", \"pipeline\", \"plan\", \"plan\", \"plan\", \"plan\", \"plan\", \"plan\", \"plant\", \"plant\", \"police\", \"police\", \"policy\", \"policy\", \"policy\", \"policy\", \"policy\", \"policy\", \"policy\", \"political\", \"political\", \"political\", \"political\", \"political\", \"political\", \"politifact\", \"politifact\", \"politifact\", \"politifact\", \"politifact\", \"politifact\", \"politifact\", \"poll\", \"polling\", \"pollster\", \"pollution\", \"population\", \"population\", \"population\", \"population\", \"population\", \"portman\", \"position\", \"position\", \"position\", \"position\", \"position\", \"position\", \"position\", \"post\", \"post\", \"post\", \"post\", \"post\", \"post\", \"poverty\", \"poverty\", \"poverty\", \"power\", \"power\", \"power\", \"power\", \"power\", \"power\", \"prayer\", \"pregnancy\", \"pregnant\", \"pregnant\", \"premium\", \"president\", \"president\", \"president\", \"president\", \"president\", \"president\", \"prevention\", \"prevention\", \"prevention\", \"price\", \"price\", \"price\", \"price\", \"primary\", \"primary\", \"primary\", \"primary\", \"primary\", \"primary\", \"primary\", \"prison\", \"prison\", \"production\", \"production\", \"production\", \"program\", \"program\", \"program\", \"program\", \"program\", \"program\", \"project\", \"project\", \"project\", \"project\", \"project\", \"project\", \"proposal\", \"proposal\", \"proposal\", \"proposal\", \"proposal\", \"prosecution\", \"protester\", \"providence\", \"providence\", \"public\", \"public\", \"public\", \"public\", \"public\", \"public\", \"public\", \"pupil\", \"qaida\", \"race\", \"race\", \"race\", \"race\", \"ranking\", \"ranking\", \"rape\", \"rape\", \"rape\", \"rate\", \"rate\", \"rate\", \"rate\", \"rate\", \"rate\", \"rate\", \"recession\", \"recession\", \"redistricting\", \"refugee\", \"refugee\", \"refugee\", \"regent\", \"reid\", \"reid\", \"religious\", \"religious\", \"report\", \"report\", \"report\", \"report\", \"report\", \"report\", \"report\", \"reproductive\", \"republican\", \"republican\", \"republican\", \"republican\", \"republican\", \"research\", \"research\", \"research\", \"research\", \"research\", \"research\", \"research\", \"revenue\", \"revenue\", \"rhode\", \"rhode\", \"rhode\", \"rhode\", \"right\", \"right\", \"right\", \"right\", \"right\", \"right\", \"right\", \"risk\", \"risk\", \"risk\", \"risk\", \"rourke\", \"rubio\", \"rubio\", \"rubio\", \"rumor\", \"saez\", \"sanctuary\", \"saudi\", \"saving\", \"saving\", \"scholarship\", \"scholarship\", \"scholarship\", \"school\", \"school\", \"school\", \"school\", \"school\", \"seat\", \"seat\", \"seat\", \"seat\", \"security\", \"security\", \"security\", \"security\", \"sen\", \"sen\", \"sen\", \"sen\", \"sen\", \"sen\", \"sen\", \"senate\", \"senate\", \"senate\", \"senate\", \"senator\", \"senator\", \"senator\", \"senator\", \"senator\", \"senator\", \"service\", \"service\", \"service\", \"service\", \"service\", \"service\", \"service\", \"shooting\", \"shooting\", \"site\", \"site\", \"site\", \"site\", \"site\", \"slave\", \"slavery\", \"solar\", \"sotomayor\", \"spending\", \"spending\", \"spill\", \"state\", \"state\", \"state\", \"state\", \"state\", \"state\", \"state\", \"statement\", \"statement\", \"statement\", \"statement\", \"statement\", \"statement\", \"statement\", \"statistic\", \"statistic\", \"stimulus\", \"story\", \"story\", \"story\", \"story\", \"story\", \"story\", \"story\", \"strickland\", \"student\", \"student\", \"student\", \"study\", \"study\", \"study\", \"study\", \"study\", \"subprime\", \"superintendent\", \"support\", \"support\", \"support\", \"support\", \"support\", \"support\", \"support\", \"surplus\", \"surplus\", \"survey\", \"survey\", \"syria\", \"tax\", \"taxation\", \"taxis\", \"taxpayer\", \"teacher\", \"test\", \"test\", \"test\", \"test\", \"test\", \"texas\", \"texas\", \"texas\", \"texas\", \"texas\", \"texas\", \"time\", \"time\", \"time\", \"time\", \"time\", \"time\", \"time\", \"trade\", \"trade\", \"trade\", \"treatment\", \"treatment\", \"treatment\", \"treatment\", \"treatment\", \"treaty\", \"trend\", \"trend\", \"trend\", \"trend\", \"troop\", \"troop\", \"true\", \"true\", \"true\", \"true\", \"true\", \"true\", \"true\", \"trump\", \"trump\", \"trump\", \"trump\", \"tuition\", \"turnout\", \"ultrasound\", \"undocumented\", \"unemployment\", \"uninsured\", \"united\", \"united\", \"united\", \"united\", \"united\", \"vaccination\", \"vaccine\", \"victim\", \"victim\", \"victim\", \"video\", \"video\", \"video\", \"video\", \"video\", \"video\", \"violence\", \"violence\", \"violent\", \"violent\", \"virus\", \"visa\", \"vote\", \"voter\", \"voter\", \"voting\", \"voucher\", \"wage\", \"wage\", \"war\", \"war\", \"war\", \"war\", \"war\", \"war\", \"warming\", \"wasserman\", \"water\", \"water\", \"water\", \"water\", \"water\", \"website\", \"website\", \"website\", \"website\", \"website\", \"website\", \"website\", \"white\", \"white\", \"white\", \"white\", \"white\", \"white\", \"woman\", \"woman\", \"woman\", \"woman\", \"woman\", \"word\", \"word\", \"word\", \"word\", \"word\", \"word\", \"word\", \"worker\", \"worker\", \"worker\", \"worker\", \"worker\", \"worker\", \"worker\", \"workforce\", \"workforce\", \"world\", \"world\", \"world\", \"world\", \"year\", \"year\", \"year\", \"year\", \"year\", \"year\", \"year\"]}, \"R\": 30, \"lambda.step\": 0.01, \"plot.opts\": {\"xlab\": \"PC1\", \"ylab\": \"PC2\"}, \"topic.order\": [5, 1, 4, 6, 7, 2, 3]};\n",
       "\n",
       "function LDAvis_load_lib(url, callback){\n",
       "  var s = document.createElement('script');\n",
       "  s.src = url;\n",
       "  s.async = true;\n",
       "  s.onreadystatechange = s.onload = callback;\n",
       "  s.onerror = function(){console.warn(\"failed to load library \" + url);};\n",
       "  document.getElementsByTagName(\"head\")[0].appendChild(s);\n",
       "}\n",
       "\n",
       "if(typeof(LDAvis) !== \"undefined\"){\n",
       "   // already loaded: just create the visualization\n",
       "   !function(LDAvis){\n",
       "       new LDAvis(\"#\" + \"ldavis_el848827229499635521537075653\", ldavis_el848827229499635521537075653_data);\n",
       "   }(LDAvis);\n",
       "}else if(typeof define === \"function\" && define.amd){\n",
       "   // require.js is available: use it to load d3/LDAvis\n",
       "   require.config({paths: {d3: \"https://d3js.org/d3.v5\"}});\n",
       "   require([\"d3\"], function(d3){\n",
       "      window.d3 = d3;\n",
       "      LDAvis_load_lib(\"https://cdn.jsdelivr.net/gh/bmabey/pyLDAvis@3.3.1/pyLDAvis/js/ldavis.v3.0.0.js\", function(){\n",
       "        new LDAvis(\"#\" + \"ldavis_el848827229499635521537075653\", ldavis_el848827229499635521537075653_data);\n",
       "      });\n",
       "    });\n",
       "}else{\n",
       "    // require.js not available: dynamically load d3 & LDAvis\n",
       "    LDAvis_load_lib(\"https://d3js.org/d3.v5.js\", function(){\n",
       "         LDAvis_load_lib(\"https://cdn.jsdelivr.net/gh/bmabey/pyLDAvis@3.3.1/pyLDAvis/js/ldavis.v3.0.0.js\", function(){\n",
       "                 new LDAvis(\"#\" + \"ldavis_el848827229499635521537075653\", ldavis_el848827229499635521537075653_data);\n",
       "            })\n",
       "         });\n",
       "}\n",
       "</script>"
      ],
      "text/plain": [
       "PreparedData(topic_coordinates=              x         y  topics  cluster       Freq\n",
       "topic                                                \n",
       "4     -0.033680  0.136506       1        1  19.352509\n",
       "0     -0.047448  0.152264       2        1  18.544525\n",
       "3     -0.062199 -0.205834       3        1  16.424179\n",
       "5     -0.142439 -0.047684       4        1  16.228851\n",
       "6     -0.047873  0.008659       5        1  12.038487\n",
       "1      0.059767 -0.021803       6        1  10.955784\n",
       "2      0.273872 -0.022108       7        1   6.455665, topic_info=         Term          Freq         Total Category  logprob  loglift\n",
       "273       tax  33434.000000  33434.000000  Default  30.0000  30.0000\n",
       "3825  percent  48181.000000  48181.000000  Default  29.0000  29.0000\n",
       "53     health  29854.000000  29854.000000  Default  28.0000  28.0000\n",
       "465       law  31514.000000  31514.000000  Default  27.0000  27.0000\n",
       "197    budget  17714.000000  17714.000000  Default  26.0000  26.0000\n",
       "...       ...           ...           ...      ...      ...      ...\n",
       "1185     test   1418.168582   2877.933657   Topic7  -5.6489   2.0325\n",
       "116     state   2299.930876  77511.608606   Topic7  -5.1654  -0.7773\n",
       "25      claim   1675.997262  27514.814404   Topic7  -5.4819  -0.0581\n",
       "50      group   1579.057666  16794.678631   Topic7  -5.5415   0.3760\n",
       "95     public   1483.056353  17199.087065   Topic7  -5.6042   0.2895\n",
       "\n",
       "[539 rows x 6 columns], token_table=      Topic      Freq            Term\n",
       "term                                 \n",
       "8773      2  0.998065            aarp\n",
       "7702      7  0.999865        abortion\n",
       "1389      4  0.997878        absentee\n",
       "289       1  0.067545  administration\n",
       "289       2  0.213664  administration\n",
       "...     ...       ...             ...\n",
       "129       3  0.047246            year\n",
       "129       4  0.075428            year\n",
       "129       5  0.085109            year\n",
       "129       6  0.071528            year\n",
       "129       7  0.010173            year\n",
       "\n",
       "[1252 rows x 3 columns], R=30, lambda_step=0.01, plot_opts={'xlab': 'PC1', 'ylab': 'PC2'}, topic_order=[5, 1, 4, 6, 7, 2, 3])"
      ]
     },
     "execution_count": 62,
     "metadata": {},
     "output_type": "execute_result"
    }
   ],
   "source": [
    "# Visualize the topics\n",
    "pyLDAvis.enable_notebook()\n",
    "vis = gensimvis.prepare(lda_model, doc_term_matrix, dictionary)\n",
    "vis"
   ]
  },
  {
   "cell_type": "markdown",
   "metadata": {},
   "source": [
    "### Works Cited\n",
    "1 - https://www.politifact.com/who-pays-for-politifact/\n",
    "\n",
    "2 - https://www.kaggle.com/shivkumarganesh/politifact-factcheck-data"
   ]
  }
 ],
 "metadata": {
  "kernelspec": {
   "display_name": "Python 3",
   "language": "python",
   "name": "python3"
  },
  "language_info": {
   "codemirror_mode": {
    "name": "ipython",
    "version": 3
   },
   "file_extension": ".py",
   "mimetype": "text/x-python",
   "name": "python",
   "nbconvert_exporter": "python",
   "pygments_lexer": "ipython3",
   "version": "3.8.5"
  },
  "toc": {
   "base_numbering": 1,
   "nav_menu": {},
   "number_sections": false,
   "sideBar": true,
   "skip_h1_title": true,
   "title_cell": "Table of Contents",
   "title_sidebar": "Contents",
   "toc_cell": false,
   "toc_position": {},
   "toc_section_display": true,
   "toc_window_display": false
  },
  "varInspector": {
   "cols": {
    "lenName": 16,
    "lenType": 16,
    "lenVar": 40
   },
   "kernels_config": {
    "python": {
     "delete_cmd_postfix": "",
     "delete_cmd_prefix": "del ",
     "library": "var_list.py",
     "varRefreshCmd": "print(var_dic_list())"
    },
    "r": {
     "delete_cmd_postfix": ") ",
     "delete_cmd_prefix": "rm(",
     "library": "var_list.r",
     "varRefreshCmd": "cat(var_dic_list()) "
    }
   },
   "types_to_exclude": [
    "module",
    "function",
    "builtin_function_or_method",
    "instance",
    "_Feature"
   ],
   "window_display": false
  }
 },
 "nbformat": 4,
 "nbformat_minor": 4
}
